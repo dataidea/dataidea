{
 "cells": [
  {
   "cell_type": "markdown",
   "id": "c3b06a54-8084-4d06-a893-e42111bb4d1b",
   "metadata": {},
   "source": [
    "## What is the `dataidea` package? \n",
    "This is a package we are currently developing to help new and old data analysists walk around some repetitive and sometimes disturbing tasks that a data analyst does day to day\n",
    "\n",
    "This library currently extends and depends on majorly numpy, pandas as sklearn and these, among a few others will be installed once you install dataidea"
   ]
  },
  {
   "cell_type": "markdown",
   "id": "bd14b86e-df82-4334-b7a3-bd950b057dcd",
   "metadata": {},
   "source": [
    "## Installing `dataidea`\n",
    "- To install dataidea, you must have python installed on your machine\n",
    "- It's advised that you install it in a virtual environment\n",
    "- You can install `dataidea` using the command below\n",
    "  \n",
    "```\n",
    "pip install dataidea\n",
    "```"
   ]
  },
  {
   "cell_type": "markdown",
   "id": "380e97ed-c0a5-4a83-b354-58573ef2bf96",
   "metadata": {},
   "source": [
    "## Learning `dataidea`\n",
    "The best way to get started with dataidea (and data analysis) is to complete the free course.\n",
    "\n",
    "To see what’s possible with dataidea, take a look at the Quick Start\n",
    "\n",
    "Read through the Tutorials to learn how to load datasets, train your own models on your own datasets. Use the navigation to look through the dataidea documentation. Every class, function, and method is documented here."
   ]
  },
  {
   "cell_type": "markdown",
   "id": "61f7fa0d-72c0-4b3a-bbc2-b16b80b485e1",
   "metadata": {},
   "source": [
    "## Quickstart"
   ]
  },
  {
   "cell_type": "code",
   "execution_count": null,
   "id": "a3a5258f-88f3-4071-bdc9-58ed12f424fa",
   "metadata": {},
   "outputs": [],
   "source": [
    "from dataidea.tabular import *"
   ]
  },
  {
   "cell_type": "markdown",
   "id": "24d86659-22da-4f02-913a-6a639b1e3d51",
   "metadata": {},
   "source": [
    "`dataidea`'s applications all use the same basic steps and code:\n",
    "\n",
    "- Create appropriate DataLoaders\n",
    "- Create a Learner\n",
    "- Call a fit method\n",
    "- Make predictions or view results.\n",
    "\n",
    "In this quick start, we’ll show these steps for classification and regression. As you’ll see, the code in each case is extremely similar, despite the very different models and data being used."
   ]
  },
  {
   "cell_type": "markdown",
   "id": "24ea8c3d-514e-482e-9c45-e166efdf658e",
   "metadata": {},
   "source": [
    "## Loading datasets\n",
    "`dataidea` library makes loading the most common used dataset in the course easy, but also allows for loading personal dataset with one or 2 tweeks. \n",
    "\n",
    "In the line of code below, we load the simple music dataset which inbuilt into dataidea for learning purposes"
   ]
  },
  {
   "cell_type": "code",
   "execution_count": null,
   "id": "2e1b72eb-2261-49ce-9d6a-125aa9464f41",
   "metadata": {},
   "outputs": [],
   "source": [
    "music_data = loadDataset(name='music')"
   ]
  },
  {
   "cell_type": "markdown",
   "id": "47013e7f-584c-4917-a979-21659bfd6327",
   "metadata": {},
   "source": [
    "We can see some values inside by using our usual `pandas` dataframe methods like `sample()`, `head()`, `tail()` etc"
   ]
  },
  {
   "cell_type": "code",
   "execution_count": null,
   "id": "148438cd-a02a-458b-93e6-7a2f8cd2623c",
   "metadata": {},
   "outputs": [
    {
     "data": {
      "text/html": [
       "<div>\n",
       "<style scoped>\n",
       "    .dataframe tbody tr th:only-of-type {\n",
       "        vertical-align: middle;\n",
       "    }\n",
       "\n",
       "    .dataframe tbody tr th {\n",
       "        vertical-align: top;\n",
       "    }\n",
       "\n",
       "    .dataframe thead th {\n",
       "        text-align: right;\n",
       "    }\n",
       "</style>\n",
       "<table border=\"1\" class=\"dataframe\">\n",
       "  <thead>\n",
       "    <tr style=\"text-align: right;\">\n",
       "      <th></th>\n",
       "      <th>age</th>\n",
       "      <th>gender</th>\n",
       "      <th>genre</th>\n",
       "    </tr>\n",
       "  </thead>\n",
       "  <tbody>\n",
       "    <tr>\n",
       "      <th>3</th>\n",
       "      <td>26</td>\n",
       "      <td>1</td>\n",
       "      <td>Jazz</td>\n",
       "    </tr>\n",
       "    <tr>\n",
       "      <th>2</th>\n",
       "      <td>25</td>\n",
       "      <td>1</td>\n",
       "      <td>HipHop</td>\n",
       "    </tr>\n",
       "    <tr>\n",
       "      <th>14</th>\n",
       "      <td>30</td>\n",
       "      <td>0</td>\n",
       "      <td>Acoustic</td>\n",
       "    </tr>\n",
       "    <tr>\n",
       "      <th>1</th>\n",
       "      <td>23</td>\n",
       "      <td>1</td>\n",
       "      <td>HipHop</td>\n",
       "    </tr>\n",
       "    <tr>\n",
       "      <th>19</th>\n",
       "      <td>35</td>\n",
       "      <td>1</td>\n",
       "      <td>Classical</td>\n",
       "    </tr>\n",
       "  </tbody>\n",
       "</table>\n",
       "</div>"
      ],
      "text/plain": [
       "      age   gender      genre\n",
       "3       26       1       Jazz\n",
       "2       25       1     HipHop\n",
       "14      30       0   Acoustic\n",
       "1       23       1     HipHop\n",
       "19      35       1  Classical"
      ]
     },
     "execution_count": null,
     "metadata": {},
     "output_type": "execute_result"
    }
   ],
   "source": [
    "music_data.sample(n=5)"
   ]
  },
  {
   "cell_type": "markdown",
   "id": "6d7d993c-8051-4579-912a-a6edbaa5cee8",
   "metadata": {},
   "source": [
    "We can then create `TabularDataLoader` that allows for easy data manipulation like feature scaling, imputation and splitting for training etc, we use this to quickly prepare and load the data to a machine learning model"
   ]
  },
  {
   "cell_type": "code",
   "execution_count": null,
   "id": "4e5e4aae-15a2-420a-acf3-79f19b70147b",
   "metadata": {},
   "outputs": [],
   "source": [
    "music_data_loader = TabularDataLoader(data=music_data,\n",
    "                                numeric_features=['  age '], \n",
    "                                categorical_features=['gender'], \n",
    "                                outcome='genre'\n",
    "                               )"
   ]
  },
  {
   "cell_type": "markdown",
   "id": "6bf1cc54-aad9-401b-84cd-aeded504ba69",
   "metadata": {},
   "source": [
    "We can (optionally) process the data, however this step is gonna be done for you once you decide to train a machine learning model"
   ]
  },
  {
   "cell_type": "code",
   "execution_count": null,
   "id": "02bdb82b-2c45-4419-8374-35b34d387a51",
   "metadata": {},
   "outputs": [],
   "source": [
    "transformed_data, transformer = music_data_loader.transform()"
   ]
  },
  {
   "cell_type": "code",
   "execution_count": null,
   "id": "96e792b2-6496-4040-bee2-13d25fe5170d",
   "metadata": {},
   "outputs": [
    {
     "data": {
      "text/html": [
       "<div>\n",
       "<style scoped>\n",
       "    .dataframe tbody tr th:only-of-type {\n",
       "        vertical-align: middle;\n",
       "    }\n",
       "\n",
       "    .dataframe tbody tr th {\n",
       "        vertical-align: top;\n",
       "    }\n",
       "\n",
       "    .dataframe thead th {\n",
       "        text-align: right;\n",
       "    }\n",
       "</style>\n",
       "<table border=\"1\" class=\"dataframe\">\n",
       "  <thead>\n",
       "    <tr style=\"text-align: right;\">\n",
       "      <th></th>\n",
       "      <th>num__  age</th>\n",
       "      <th>cat__gender_0</th>\n",
       "      <th>cat__gender_1</th>\n",
       "    </tr>\n",
       "  </thead>\n",
       "  <tbody>\n",
       "    <tr>\n",
       "      <th>0</th>\n",
       "      <td>1.637262</td>\n",
       "      <td>0.0</td>\n",
       "      <td>1.0</td>\n",
       "    </tr>\n",
       "    <tr>\n",
       "      <th>1</th>\n",
       "      <td>0.204658</td>\n",
       "      <td>0.0</td>\n",
       "      <td>1.0</td>\n",
       "    </tr>\n",
       "    <tr>\n",
       "      <th>2</th>\n",
       "      <td>-0.818631</td>\n",
       "      <td>1.0</td>\n",
       "      <td>0.0</td>\n",
       "    </tr>\n",
       "    <tr>\n",
       "      <th>3</th>\n",
       "      <td>-0.613973</td>\n",
       "      <td>0.0</td>\n",
       "      <td>1.0</td>\n",
       "    </tr>\n",
       "    <tr>\n",
       "      <th>4</th>\n",
       "      <td>1.227947</td>\n",
       "      <td>0.0</td>\n",
       "      <td>1.0</td>\n",
       "    </tr>\n",
       "  </tbody>\n",
       "</table>\n",
       "</div>"
      ],
      "text/plain": [
       "   num__  age   cat__gender_0  cat__gender_1\n",
       "0     1.637262            0.0            1.0\n",
       "1     0.204658            0.0            1.0\n",
       "2    -0.818631            1.0            0.0\n",
       "3    -0.613973            0.0            1.0\n",
       "4     1.227947            0.0            1.0"
      ]
     },
     "execution_count": null,
     "metadata": {},
     "output_type": "execute_result"
    }
   ],
   "source": [
    "transformed_data[0].head()"
   ]
  },
  {
   "cell_type": "markdown",
   "id": "32983eed-7ddb-4f42-b0f0-6217c79bf9bd",
   "metadata": {},
   "source": [
    "Now we can fit a machine learning model, behind the scenes, the `Trainer` has some code to work with the `TabularDataLoader` to process your data quite thorouly, standardizing and imputing and the resulting model is actually a pipeline of these steps."
   ]
  },
  {
   "cell_type": "code",
   "execution_count": null,
   "id": "ce44d9ca-3efa-4815-87b1-4b7d54411d43",
   "metadata": {},
   "outputs": [],
   "source": [
    "trainer = Trainer(data_loader=music_data_loader, model=RandomForestClassifier())"
   ]
  },
  {
   "cell_type": "markdown",
   "id": "e8c685e5-99f9-47da-ba23-735d29c7232b",
   "metadata": {},
   "source": [
    "To train our model, we just call the `train()` method on the trainer object"
   ]
  },
  {
   "cell_type": "code",
   "execution_count": null,
   "id": "0fe8892b-d72f-4d11-92e3-ef4f168d22db",
   "metadata": {},
   "outputs": [],
   "source": [
    "model = trainer.train()"
   ]
  },
  {
   "cell_type": "markdown",
   "id": "e08fb6d8-d786-4c19-9ee9-db0e7b6aaca4",
   "metadata": {},
   "source": [
    "We can obtain the accuracy real fast, this is obtained from a test set which is automatically picked from you data by the `TabularDataLoader`"
   ]
  },
  {
   "cell_type": "code",
   "execution_count": null,
   "id": "79e92e59-df6a-42ff-ab01-4659fe0d1d6c",
   "metadata": {},
   "outputs": [],
   "source": [
    "accuracy = trainer.evaluate()"
   ]
  },
  {
   "cell_type": "markdown",
   "id": "a58bef3e-208d-43b5-8e68-13eb556d4f41",
   "metadata": {},
   "source": [
    "Some times accuracy isn't the best measure for model performance, we can also use a classification report for classification problems"
   ]
  },
  {
   "cell_type": "code",
   "execution_count": null,
   "id": "85fc40c8-712b-4d7c-8c9d-bf99b3eb36f8",
   "metadata": {},
   "outputs": [],
   "source": [
    "classification_report = trainer.report()"
   ]
  },
  {
   "cell_type": "code",
   "execution_count": null,
   "id": "91cac6a6-255e-4bc9-a7b8-e4a587f2be6a",
   "metadata": {},
   "outputs": [
    {
     "data": {
      "text/html": [
       "<div>\n",
       "<style scoped>\n",
       "    .dataframe tbody tr th:only-of-type {\n",
       "        vertical-align: middle;\n",
       "    }\n",
       "\n",
       "    .dataframe tbody tr th {\n",
       "        vertical-align: top;\n",
       "    }\n",
       "\n",
       "    .dataframe thead th {\n",
       "        text-align: right;\n",
       "    }\n",
       "</style>\n",
       "<table border=\"1\" class=\"dataframe\">\n",
       "  <thead>\n",
       "    <tr style=\"text-align: right;\">\n",
       "      <th></th>\n",
       "      <th>precision</th>\n",
       "      <th>recall</th>\n",
       "      <th>f1-score</th>\n",
       "      <th>support</th>\n",
       "    </tr>\n",
       "  </thead>\n",
       "  <tbody>\n",
       "    <tr>\n",
       "      <th>Acoustic</th>\n",
       "      <td>0.000000</td>\n",
       "      <td>1.000000</td>\n",
       "      <td>0.000000</td>\n",
       "      <td>0.00</td>\n",
       "    </tr>\n",
       "    <tr>\n",
       "      <th>Classical</th>\n",
       "      <td>1.000000</td>\n",
       "      <td>0.500000</td>\n",
       "      <td>0.666667</td>\n",
       "      <td>2.00</td>\n",
       "    </tr>\n",
       "    <tr>\n",
       "      <th>HipHop</th>\n",
       "      <td>1.000000</td>\n",
       "      <td>1.000000</td>\n",
       "      <td>1.000000</td>\n",
       "      <td>2.00</td>\n",
       "    </tr>\n",
       "    <tr>\n",
       "      <th>accuracy</th>\n",
       "      <td>0.750000</td>\n",
       "      <td>0.750000</td>\n",
       "      <td>0.750000</td>\n",
       "      <td>0.75</td>\n",
       "    </tr>\n",
       "    <tr>\n",
       "      <th>macro avg</th>\n",
       "      <td>0.666667</td>\n",
       "      <td>0.833333</td>\n",
       "      <td>0.555556</td>\n",
       "      <td>4.00</td>\n",
       "    </tr>\n",
       "    <tr>\n",
       "      <th>weighted avg</th>\n",
       "      <td>1.000000</td>\n",
       "      <td>0.750000</td>\n",
       "      <td>0.833333</td>\n",
       "      <td>4.00</td>\n",
       "    </tr>\n",
       "  </tbody>\n",
       "</table>\n",
       "</div>"
      ],
      "text/plain": [
       "              precision    recall  f1-score  support\n",
       "Acoustic       0.000000  1.000000  0.000000     0.00\n",
       "Classical      1.000000  0.500000  0.666667     2.00\n",
       "HipHop         1.000000  1.000000  1.000000     2.00\n",
       "accuracy       0.750000  0.750000  0.750000     0.75\n",
       "macro avg      0.666667  0.833333  0.555556     4.00\n",
       "weighted avg   1.000000  0.750000  0.833333     4.00"
      ]
     },
     "execution_count": null,
     "metadata": {},
     "output_type": "execute_result"
    }
   ],
   "source": [
    "classification_report"
   ]
  },
  {
   "cell_type": "markdown",
   "id": "f64335b4-4277-4075-9b73-95fd87fc9b81",
   "metadata": {},
   "source": [
    "It's easy to save a model for future use, you can use the `save()` method on the traner"
   ]
  },
  {
   "cell_type": "code",
   "execution_count": null,
   "id": "c58f38e5-6f2d-4df8-a4a5-6767dac94e2a",
   "metadata": {},
   "outputs": [],
   "source": [
    "trainer.save(path='music_model.di')"
   ]
  },
  {
   "cell_type": "markdown",
   "id": "ec9a7965-7a21-4f0e-8f64-7118e4dc971b",
   "metadata": {},
   "source": [
    "Now (in future) we can load our saved model for prediction"
   ]
  },
  {
   "cell_type": "code",
   "execution_count": null,
   "id": "918529e4-34fa-4489-9a1f-22e0d06cf1bf",
   "metadata": {},
   "outputs": [],
   "source": [
    "loaded_model = loadModel(filename='music_model.di')"
   ]
  },
  {
   "cell_type": "markdown",
   "id": "6b9ad83b-5da7-4360-8bd4-c7b6b9d2ef9b",
   "metadata": {},
   "source": [
    "Now let's make some predictions on some data"
   ]
  },
  {
   "cell_type": "code",
   "execution_count": null,
   "id": "5a3dc7d7-fe38-4c27-ad8f-72b242413e70",
   "metadata": {},
   "outputs": [
    {
     "data": {
      "text/html": [
       "<div>\n",
       "<style scoped>\n",
       "    .dataframe tbody tr th:only-of-type {\n",
       "        vertical-align: middle;\n",
       "    }\n",
       "\n",
       "    .dataframe tbody tr th {\n",
       "        vertical-align: top;\n",
       "    }\n",
       "\n",
       "    .dataframe thead th {\n",
       "        text-align: right;\n",
       "    }\n",
       "</style>\n",
       "<table border=\"1\" class=\"dataframe\">\n",
       "  <thead>\n",
       "    <tr style=\"text-align: right;\">\n",
       "      <th></th>\n",
       "      <th>age</th>\n",
       "      <th>gender</th>\n",
       "    </tr>\n",
       "  </thead>\n",
       "  <tbody>\n",
       "    <tr>\n",
       "      <th>0</th>\n",
       "      <td>20</td>\n",
       "      <td>1</td>\n",
       "    </tr>\n",
       "    <tr>\n",
       "      <th>1</th>\n",
       "      <td>35</td>\n",
       "      <td>0</td>\n",
       "    </tr>\n",
       "  </tbody>\n",
       "</table>\n",
       "</div>"
      ],
      "text/plain": [
       "     age   gender\n",
       "0      20       1\n",
       "1      35       0"
      ]
     },
     "execution_count": null,
     "metadata": {},
     "output_type": "execute_result"
    }
   ],
   "source": [
    "data_to_predict = pd.DataFrame(\n",
    "    data={\n",
    "        '  age ': [20, 35],\n",
    "        'gender': [1, 0]\n",
    "    })\n",
    "\n",
    "data_to_predict"
   ]
  },
  {
   "cell_type": "code",
   "execution_count": null,
   "id": "11e99e7a-f16d-460a-98dc-238983986003",
   "metadata": {},
   "outputs": [],
   "source": [
    "predicted = loaded_model.predict(X=data_to_predict)"
   ]
  },
  {
   "cell_type": "code",
   "execution_count": null,
   "id": "08d05f2a-0964-4ec2-936d-3562baecb23e",
   "metadata": {},
   "outputs": [],
   "source": [
    "data_to_predict['predicted'] = predicted"
   ]
  },
  {
   "cell_type": "code",
   "execution_count": null,
   "id": "b4e1780b-fff2-433a-a6ab-db2f6f00f8fa",
   "metadata": {},
   "outputs": [
    {
     "data": {
      "text/html": [
       "<div>\n",
       "<style scoped>\n",
       "    .dataframe tbody tr th:only-of-type {\n",
       "        vertical-align: middle;\n",
       "    }\n",
       "\n",
       "    .dataframe tbody tr th {\n",
       "        vertical-align: top;\n",
       "    }\n",
       "\n",
       "    .dataframe thead th {\n",
       "        text-align: right;\n",
       "    }\n",
       "</style>\n",
       "<table border=\"1\" class=\"dataframe\">\n",
       "  <thead>\n",
       "    <tr style=\"text-align: right;\">\n",
       "      <th></th>\n",
       "      <th>age</th>\n",
       "      <th>gender</th>\n",
       "      <th>predicted</th>\n",
       "    </tr>\n",
       "  </thead>\n",
       "  <tbody>\n",
       "    <tr>\n",
       "      <th>0</th>\n",
       "      <td>20</td>\n",
       "      <td>1</td>\n",
       "      <td>HipHop</td>\n",
       "    </tr>\n",
       "    <tr>\n",
       "      <th>1</th>\n",
       "      <td>35</td>\n",
       "      <td>0</td>\n",
       "      <td>Classical</td>\n",
       "    </tr>\n",
       "  </tbody>\n",
       "</table>\n",
       "</div>"
      ],
      "text/plain": [
       "     age   gender  predicted\n",
       "0      20       1     HipHop\n",
       "1      35       0  Classical"
      ]
     },
     "execution_count": null,
     "metadata": {},
     "output_type": "execute_result"
    }
   ],
   "source": [
    "data_to_predict"
   ]
  },
  {
   "cell_type": "code",
   "execution_count": null,
   "id": "0e6c4f6e-0a05-4509-93f8-598b8065b7bd",
   "metadata": {},
   "outputs": [],
   "source": []
  }
 ],
 "metadata": {
  "kernelspec": {
   "display_name": "python3",
   "language": "python",
   "name": "python3"
  }
 },
 "nbformat": 4,
 "nbformat_minor": 5
}
