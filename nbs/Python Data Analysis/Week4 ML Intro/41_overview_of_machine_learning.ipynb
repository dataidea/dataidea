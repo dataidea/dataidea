{
 "cells": [
  {
   "cell_type": "markdown",
   "id": "b1678f3b-d953-459b-9689-2f3503040353",
   "metadata": {},
   "source": [
    "## Overview of Machine Learning"
   ]
  },
  {
   "cell_type": "markdown",
   "id": "a5dd3eab-b689-4fb6-9890-94774271cb51",
   "metadata": {},
   "source": [
    "![Photo by DATAIDEA](../assets/banner4.png)"
   ]
  },
  {
   "cell_type": "markdown",
   "id": "e7936e0e",
   "metadata": {},
   "source": [
    "### What is Machine Learning\n",
    "\n",
    "Machine learning (ML) is a branch of artificial intelligence (AI) and computer science that focuses on using data and algorithms to enable AI to imitate the way that humans learn, and gradually improve.\n",
    "\n",
    "### How Does Machine Learning Work?\n",
    "\n",
    "- Step 1: Data collection. \n",
    "- Step 2: Data preprocessing. \n",
    "- Step 3: Choosing the right model. \n",
    "- Step 4: Training the model. \n",
    "- Step 5: Evaluating the model. \n",
    "- Step 6: Hyperparameter tuning and optimization. \n",
    "- Step 7: Predictions and deployment. "
   ]
  },
  {
   "cell_type": "code",
   "execution_count": null,
   "id": "d1d28494",
   "metadata": {},
   "outputs": [],
   "source": [
    "#| hide\n",
    "#| default_exp models"
   ]
  },
  {
   "cell_type": "code",
   "execution_count": null,
   "id": "d5868af2-f8a8-4e0e-aa9d-cf3324d709c7",
   "metadata": {},
   "outputs": [],
   "source": [
    "import numpy as np\n",
    "import pandas as pd\n",
    "import matplotlib.pyplot as plt\n",
    "from dataidea.datasets import loadDataset"
   ]
  },
  {
   "cell_type": "markdown",
   "id": "5449c694-6697-4220-aae4-125bd6f80bcc",
   "metadata": {},
   "source": [
    "<script async src=\"https://pagead2.googlesyndication.com/pagead/js/adsbygoogle.js?client=ca-pub-8076040302380238\"\n",
    "     crossorigin=\"anonymous\"></script>\n",
    "<!-- inline_horizontal -->\n",
    "<ins class=\"adsbygoogle\"\n",
    "     style=\"display:block\"\n",
    "     data-ad-client=\"ca-pub-8076040302380238\"\n",
    "     data-ad-slot=\"9021194372\"\n",
    "     data-ad-format=\"auto\"\n",
    "     data-full-width-responsive=\"true\"></ins>\n",
    "<script>\n",
    "     (adsbygoogle = window.adsbygoogle || []).push({});\n",
    "</script>\n",
    "\n",
    "### Step 1: Data Collection\n",
    "Now I already collected some demographic data and provided it as an inbuilt dataset in the `dataidea` package. \n",
    "\n",
    "Demographic data is information about groups of people according to certain attributes such as age, sex, and place of residence. [Read More Here](https://blog.dataidea.org/posts/what-is-demographic-data/)\n",
    "\n",
    "Let's load the dataset using `dataidea`'s `loadDataset` method. This is specifically used for inbuilt datasets"
   ]
  },
  {
   "cell_type": "code",
   "execution_count": null,
   "id": "59ae9a8a-ffdd-4cce-8b78-b51d4081006f",
   "metadata": {},
   "outputs": [],
   "source": [
    "demo_df = loadDataset('demo')"
   ]
  },
  {
   "cell_type": "markdown",
   "id": "27d297a7-372c-4953-a1d9-1d0947f35374",
   "metadata": {},
   "source": [
    "Now we can look at the top part of the data"
   ]
  },
  {
   "cell_type": "code",
   "execution_count": null,
   "id": "e18f2192-29b3-4940-b99e-34b91860f644",
   "metadata": {},
   "outputs": [
    {
     "data": {
      "text/html": [
       "<div>\n",
       "<style scoped>\n",
       "    .dataframe tbody tr th:only-of-type {\n",
       "        vertical-align: middle;\n",
       "    }\n",
       "\n",
       "    .dataframe tbody tr th {\n",
       "        vertical-align: top;\n",
       "    }\n",
       "\n",
       "    .dataframe thead th {\n",
       "        text-align: right;\n",
       "    }\n",
       "</style>\n",
       "<table border=\"1\" class=\"dataframe\">\n",
       "  <thead>\n",
       "    <tr style=\"text-align: right;\">\n",
       "      <th></th>\n",
       "      <th>Age</th>\n",
       "      <th>Gender</th>\n",
       "      <th>Marital Status</th>\n",
       "      <th>Address</th>\n",
       "      <th>Income</th>\n",
       "      <th>Income Category</th>\n",
       "      <th>Job Category</th>\n",
       "    </tr>\n",
       "  </thead>\n",
       "  <tbody>\n",
       "    <tr>\n",
       "      <th>0</th>\n",
       "      <td>55</td>\n",
       "      <td>f</td>\n",
       "      <td>1</td>\n",
       "      <td>12</td>\n",
       "      <td>72.0</td>\n",
       "      <td>3.0</td>\n",
       "      <td>3</td>\n",
       "    </tr>\n",
       "    <tr>\n",
       "      <th>1</th>\n",
       "      <td>56</td>\n",
       "      <td>m</td>\n",
       "      <td>0</td>\n",
       "      <td>29</td>\n",
       "      <td>153.0</td>\n",
       "      <td>4.0</td>\n",
       "      <td>3</td>\n",
       "    </tr>\n",
       "    <tr>\n",
       "      <th>2</th>\n",
       "      <td>28</td>\n",
       "      <td>f</td>\n",
       "      <td>no answer</td>\n",
       "      <td>9</td>\n",
       "      <td>28.0</td>\n",
       "      <td>2.0</td>\n",
       "      <td>1</td>\n",
       "    </tr>\n",
       "    <tr>\n",
       "      <th>3</th>\n",
       "      <td>24</td>\n",
       "      <td>m</td>\n",
       "      <td>1</td>\n",
       "      <td>4</td>\n",
       "      <td>26.0</td>\n",
       "      <td>2.0</td>\n",
       "      <td>1</td>\n",
       "    </tr>\n",
       "    <tr>\n",
       "      <th>4</th>\n",
       "      <td>25</td>\n",
       "      <td>m</td>\n",
       "      <td>no answer</td>\n",
       "      <td>2</td>\n",
       "      <td>23.0</td>\n",
       "      <td>1.0</td>\n",
       "      <td>2</td>\n",
       "    </tr>\n",
       "  </tbody>\n",
       "</table>\n",
       "</div>"
      ],
      "text/plain": [
       "   Age Gender Marital Status  Address  Income  Income Category  Job Category\n",
       "0   55      f              1       12    72.0              3.0             3\n",
       "1   56      m              0       29   153.0              4.0             3\n",
       "2   28      f      no answer        9    28.0              2.0             1\n",
       "3   24      m              1        4    26.0              2.0             1\n",
       "4   25      m      no answer        2    23.0              1.0             2"
      ]
     },
     "execution_count": null,
     "metadata": {},
     "output_type": "execute_result"
    }
   ],
   "source": [
    "demo_df.head()"
   ]
  },
  {
   "cell_type": "markdown",
   "id": "b7a2bb8d-a8a7-4610-a63e-5f4c1ecb8111",
   "metadata": {},
   "source": [
    "### Step 2: Data Preprocessing"
   ]
  },
  {
   "cell_type": "markdown",
   "id": "2508d3f4-2531-48e5-aa8d-467968a48888",
   "metadata": {},
   "source": [
    "Let's rename the column names so as to make the data easier to play with (this is optional to fit a model)"
   ]
  },
  {
   "cell_type": "code",
   "execution_count": null,
   "id": "ad66dd14-c2de-45f8-afce-f5d23089c2ca",
   "metadata": {},
   "outputs": [],
   "source": [
    "cols = {\"Age\":\"age\", \"Gender\":\"gender\", \"Marital Status\":\"marital_status\", \"Address\":\"address\",\n",
    "       \"Income\":\"income\",\"Income Category\":\"income_category\", \"Job Category\":\"job_category\",}\n",
    "\n",
    "demo_df.rename(columns=cols, inplace=True) # inplace modifies the original dataframe"
   ]
  },
  {
   "cell_type": "code",
   "execution_count": null,
   "id": "04db55d7-3b46-424b-8fc9-2841f002b82c",
   "metadata": {},
   "outputs": [
    {
     "data": {
      "text/plain": [
       "Index(['age', 'gender', 'marital_status', 'address', 'income',\n",
       "       'income_category', 'job_category'],\n",
       "      dtype='object')"
      ]
     },
     "execution_count": null,
     "metadata": {},
     "output_type": "execute_result"
    }
   ],
   "source": [
    "demo_df.columns"
   ]
  },
  {
   "cell_type": "markdown",
   "id": "2943279a-a8cf-4eee-b1ff-f60f1e01ea9f",
   "metadata": {},
   "source": [
    "Let's explore the dataset and see if we can find some problems that we can fix (continuing with preprocessing)"
   ]
  },
  {
   "cell_type": "markdown",
   "id": "47af139c",
   "metadata": {},
   "source": [
    "We can be able to find specific missing values by using the `isna()` method. \n",
    "\n",
    "This data set doesn't have any explicit missing values and we can observe `0`'s for each column."
   ]
  },
  {
   "cell_type": "code",
   "execution_count": null,
   "id": "d70be608",
   "metadata": {},
   "outputs": [
    {
     "data": {
      "text/plain": [
       "age                0\n",
       "gender             0\n",
       "marital_status     0\n",
       "address            0\n",
       "income             0\n",
       "income_category    0\n",
       "job_category       0\n",
       "dtype: int64"
      ]
     },
     "execution_count": null,
     "metadata": {},
     "output_type": "execute_result"
    }
   ],
   "source": [
    "demo_df.isna().sum()"
   ]
  },
  {
   "cell_type": "markdown",
   "id": "6f212446",
   "metadata": {},
   "source": [
    "We can also use `info()` to find information about columns eg non-null values, data types etc"
   ]
  },
  {
   "cell_type": "code",
   "execution_count": null,
   "id": "42c1fe44",
   "metadata": {},
   "outputs": [
    {
     "name": "stdout",
     "output_type": "stream",
     "text": [
      "<class 'pandas.core.frame.DataFrame'>\n",
      "RangeIndex: 200 entries, 0 to 199\n",
      "Data columns (total 7 columns):\n",
      " #   Column           Non-Null Count  Dtype  \n",
      "---  ------           --------------  -----  \n",
      " 0   age              200 non-null    int64  \n",
      " 1   gender           200 non-null    object \n",
      " 2   marital_status   200 non-null    object \n",
      " 3   address          200 non-null    int64  \n",
      " 4   income           200 non-null    float64\n",
      " 5   income_category  200 non-null    float64\n",
      " 6   job_category     200 non-null    int64  \n",
      "dtypes: float64(2), int64(3), object(2)\n",
      "memory usage: 11.1+ KB\n"
     ]
    }
   ],
   "source": [
    "demo_df.info()"
   ]
  },
  {
   "cell_type": "code",
   "execution_count": null,
   "id": "e2ace4dd-a037-464a-8fcb-ad2e36a216b2",
   "metadata": {},
   "outputs": [
    {
     "data": {
      "text/html": [
       "<div>\n",
       "<style scoped>\n",
       "    .dataframe tbody tr th:only-of-type {\n",
       "        vertical-align: middle;\n",
       "    }\n",
       "\n",
       "    .dataframe tbody tr th {\n",
       "        vertical-align: top;\n",
       "    }\n",
       "\n",
       "    .dataframe thead th {\n",
       "        text-align: right;\n",
       "    }\n",
       "</style>\n",
       "<table border=\"1\" class=\"dataframe\">\n",
       "  <thead>\n",
       "    <tr style=\"text-align: right;\">\n",
       "      <th></th>\n",
       "      <th>age</th>\n",
       "      <th>address</th>\n",
       "      <th>income</th>\n",
       "      <th>income_category</th>\n",
       "      <th>job_category</th>\n",
       "    </tr>\n",
       "  </thead>\n",
       "  <tbody>\n",
       "    <tr>\n",
       "      <th>count</th>\n",
       "      <td>200.000000</td>\n",
       "      <td>200.000000</td>\n",
       "      <td>200.000000</td>\n",
       "      <td>200.000000</td>\n",
       "      <td>200.000000</td>\n",
       "    </tr>\n",
       "    <tr>\n",
       "      <th>mean</th>\n",
       "      <td>42.475000</td>\n",
       "      <td>11.485000</td>\n",
       "      <td>76.305000</td>\n",
       "      <td>2.520000</td>\n",
       "      <td>1.950000</td>\n",
       "    </tr>\n",
       "    <tr>\n",
       "      <th>std</th>\n",
       "      <td>12.801122</td>\n",
       "      <td>10.365665</td>\n",
       "      <td>107.554647</td>\n",
       "      <td>1.065493</td>\n",
       "      <td>0.781379</td>\n",
       "    </tr>\n",
       "    <tr>\n",
       "      <th>min</th>\n",
       "      <td>19.000000</td>\n",
       "      <td>0.000000</td>\n",
       "      <td>11.000000</td>\n",
       "      <td>1.000000</td>\n",
       "      <td>1.000000</td>\n",
       "    </tr>\n",
       "    <tr>\n",
       "      <th>25%</th>\n",
       "      <td>32.000000</td>\n",
       "      <td>3.000000</td>\n",
       "      <td>27.000000</td>\n",
       "      <td>2.000000</td>\n",
       "      <td>1.000000</td>\n",
       "    </tr>\n",
       "    <tr>\n",
       "      <th>50%</th>\n",
       "      <td>43.000000</td>\n",
       "      <td>9.000000</td>\n",
       "      <td>44.500000</td>\n",
       "      <td>2.000000</td>\n",
       "      <td>2.000000</td>\n",
       "    </tr>\n",
       "    <tr>\n",
       "      <th>75%</th>\n",
       "      <td>51.000000</td>\n",
       "      <td>17.000000</td>\n",
       "      <td>76.000000</td>\n",
       "      <td>4.000000</td>\n",
       "      <td>3.000000</td>\n",
       "    </tr>\n",
       "    <tr>\n",
       "      <th>max</th>\n",
       "      <td>76.000000</td>\n",
       "      <td>51.000000</td>\n",
       "      <td>873.000000</td>\n",
       "      <td>4.000000</td>\n",
       "      <td>3.000000</td>\n",
       "    </tr>\n",
       "  </tbody>\n",
       "</table>\n",
       "</div>"
      ],
      "text/plain": [
       "              age     address      income  income_category  job_category\n",
       "count  200.000000  200.000000  200.000000       200.000000    200.000000\n",
       "mean    42.475000   11.485000   76.305000         2.520000      1.950000\n",
       "std     12.801122   10.365665  107.554647         1.065493      0.781379\n",
       "min     19.000000    0.000000   11.000000         1.000000      1.000000\n",
       "25%     32.000000    3.000000   27.000000         2.000000      1.000000\n",
       "50%     43.000000    9.000000   44.500000         2.000000      2.000000\n",
       "75%     51.000000   17.000000   76.000000         4.000000      3.000000\n",
       "max     76.000000   51.000000  873.000000         4.000000      3.000000"
      ]
     },
     "execution_count": null,
     "metadata": {},
     "output_type": "execute_result"
    }
   ],
   "source": [
    "demo_df.describe() #will only give us numerical values"
   ]
  },
  {
   "cell_type": "markdown",
   "id": "23a7b9c7-500d-4495-9d63-202711bdb327",
   "metadata": {},
   "source": [
    "Note that 75% of the people earn 76 units and below, and the average income is just over that ie 76.305, quickly we can think there's some values extremely high in income that's causing the mean to shift to the right (outliers).\n",
    "\n",
    "A simple box plot can confirm this. All the points after the upper fence represent outliers under income."
   ]
  },
  {
   "cell_type": "code",
   "execution_count": null,
   "id": "5e40d18f-5559-4a59-9ee9-94d52e336bb5",
   "metadata": {},
   "outputs": [
    {
     "data": {
      "image/png": "[encoded data removed]",
      "text/plain": [
       "<Figure size 640x480 with 1 Axes>"
      ]
     },
     "metadata": {},
     "output_type": "display_data"
    }
   ],
   "source": [
    "plt.boxplot(demo_df.income)\n",
    "plt.ylabel('Income')\n",
    "plt.show()"
   ]
  },
  {
   "cell_type": "markdown",
   "id": "3866d9dd-54e1-4e6d-8050-97fae40f0047",
   "metadata": {},
   "source": [
    "<script async src=\"https://pagead2.googlesyndication.com/pagead/js/adsbygoogle.js?client=ca-pub-8076040302380238\"\n",
    "     crossorigin=\"anonymous\"></script>\n",
    "<!-- inline_horizontal -->\n",
    "<ins class=\"adsbygoogle\"\n",
    "     style=\"display:block\"\n",
    "     data-ad-client=\"ca-pub-8076040302380238\"\n",
    "     data-ad-slot=\"9021194372\"\n",
    "     data-ad-format=\"auto\"\n",
    "     data-full-width-responsive=\"true\"></ins>\n",
    "<script>\n",
    "     (adsbygoogle = window.adsbygoogle || []).push({});\n",
    "</script>\n",
    "\n",
    "\n",
    "For now, we'll just remove these outliers, however this is not always the best option and once we have gained more experience, we can consider some more technical methods to handle the outlier problems\n"
   ]
  },
  {
   "cell_type": "code",
   "execution_count": null,
   "id": "e3e48d8d-5c1f-488d-9537-bf795cb94743",
   "metadata": {},
   "outputs": [],
   "source": [
    "def getOutliers(column):\n",
    "\n",
    "    q1 = np.quantile(column, 0.25)\n",
    "    q3 = np.quantile(column, 0.75)\n",
    "    interquantile_range = q3-q1\n",
    "    lower_fence = q1 - 1.5*interquantile_range\n",
    "    upper_fence = q3 + 1.5*interquantile_range\n",
    "\n",
    "    outlier_indicies = np.where((column < lower_fence) | (column > upper_fence))[0]\n",
    "    outliers = np.array(column[outlier_indicies])\n",
    "    return outliers, outlier_indicies"
   ]
  },
  {
   "cell_type": "code",
   "execution_count": null,
   "id": "8a617efc-3f3c-451f-a920-0dccad95c96b",
   "metadata": {},
   "outputs": [],
   "source": [
    "# obtain the indexes of outliers\n",
    "outliers, indexes = getOutliers(demo_df.income)\n",
    "# remove the rows by index\n",
    "demo_df2 = demo_df.drop(indexes, axis=0)"
   ]
  },
  {
   "cell_type": "code",
   "execution_count": null,
   "id": "ea00a0c4-8429-403b-b562-f8f4cc6f6c46",
   "metadata": {},
   "outputs": [
    {
     "data": {
      "text/html": [
       "<div>\n",
       "<style scoped>\n",
       "    .dataframe tbody tr th:only-of-type {\n",
       "        vertical-align: middle;\n",
       "    }\n",
       "\n",
       "    .dataframe tbody tr th {\n",
       "        vertical-align: top;\n",
       "    }\n",
       "\n",
       "    .dataframe thead th {\n",
       "        text-align: right;\n",
       "    }\n",
       "</style>\n",
       "<table border=\"1\" class=\"dataframe\">\n",
       "  <thead>\n",
       "    <tr style=\"text-align: right;\">\n",
       "      <th></th>\n",
       "      <th>gender</th>\n",
       "      <th>marital_status</th>\n",
       "    </tr>\n",
       "  </thead>\n",
       "  <tbody>\n",
       "    <tr>\n",
       "      <th>count</th>\n",
       "      <td>181</td>\n",
       "      <td>181</td>\n",
       "    </tr>\n",
       "    <tr>\n",
       "      <th>unique</th>\n",
       "      <td>4</td>\n",
       "      <td>3</td>\n",
       "    </tr>\n",
       "    <tr>\n",
       "      <th>top</th>\n",
       "      <td>m</td>\n",
       "      <td>0</td>\n",
       "    </tr>\n",
       "    <tr>\n",
       "      <th>freq</th>\n",
       "      <td>90</td>\n",
       "      <td>89</td>\n",
       "    </tr>\n",
       "  </tbody>\n",
       "</table>\n",
       "</div>"
      ],
      "text/plain": [
       "       gender marital_status\n",
       "count     181            181\n",
       "unique      4              3\n",
       "top         m              0\n",
       "freq       90             89"
      ]
     },
     "execution_count": null,
     "metadata": {},
     "output_type": "execute_result"
    }
   ],
   "source": [
    "# summarize categorical columns\n",
    "demo_df2.describe(include='object') "
   ]
  },
  {
   "cell_type": "code",
   "execution_count": null,
   "id": "d5063d29-8d5b-4663-bf97-914c64f98673",
   "metadata": {},
   "outputs": [
    {
     "data": {
      "text/plain": [
       "array(['f', '  f', 'm', '   m'], dtype=object)"
      ]
     },
     "execution_count": null,
     "metadata": {},
     "output_type": "execute_result"
    }
   ],
   "source": [
    "# find unique values\n",
    "demo_df2.gender.unique()"
   ]
  },
  {
   "cell_type": "markdown",
   "id": "0c6f1f16-0951-4240-9940-825618ed82e1",
   "metadata": {},
   "source": [
    "We observe here that gender has 4 unique observations but after printing them out, we notice there only really 2 unique values, just recorded not properly (spaces around some observations).\n",
    "\n",
    "So now we need to strip the gender values of the spaces of the spaces aroung them."
   ]
  },
  {
   "cell_type": "code",
   "execution_count": null,
   "id": "2014555a-c0c1-4c29-8509-315ef5c9b0ee",
   "metadata": {},
   "outputs": [
    {
     "data": {
      "text/plain": [
       "array(['f', 'm'], dtype=object)"
      ]
     },
     "execution_count": null,
     "metadata": {},
     "output_type": "execute_result"
    }
   ],
   "source": [
    "# replace gender values \n",
    "demo_df3 = demo_df2.replace(to_replace={'  f': 'f',  '   m': 'm'})\n",
    "# look at the updated data\n",
    "demo_df3.gender.unique()"
   ]
  },
  {
   "cell_type": "markdown",
   "id": "4fc206bc-b5d5-4262-9059-5a24950f91c1",
   "metadata": {},
   "source": [
    "We now have only 2 unique observations that is `f` and `m`. \n",
    "\n",
    "<script async src=\"https://pagead2.googlesyndication.com/pagead/js/adsbygoogle.js?client=ca-pub-8076040302380238\"\n",
    "     crossorigin=\"anonymous\"></script>\n",
    "<!-- inline_horizontal -->\n",
    "<ins class=\"adsbygoogle\"\n",
    "     style=\"display:block\"\n",
    "     data-ad-client=\"ca-pub-8076040302380238\"\n",
    "     data-ad-slot=\"9021194372\"\n",
    "     data-ad-format=\"auto\"\n",
    "     data-full-width-responsive=\"true\"></ins>\n",
    "<script>\n",
    "     (adsbygoogle = window.adsbygoogle || []).push({});\n",
    "</script>"
   ]
  },
  {
   "cell_type": "markdown",
   "id": "f6abf87c",
   "metadata": {},
   "source": [
    "That's done, now we can explore Marital Status for any potential issues to fix"
   ]
  },
  {
   "cell_type": "code",
   "execution_count": null,
   "id": "580a75bf-7110-4e40-9fd2-eb0cd28c3e2e",
   "metadata": {},
   "outputs": [
    {
     "data": {
      "text/plain": [
       "marital_status\n",
       "0            89\n",
       "1            87\n",
       "no answer     5\n",
       "Name: count, dtype: int64"
      ]
     },
     "execution_count": null,
     "metadata": {},
     "output_type": "execute_result"
    }
   ],
   "source": [
    "marital_status_counts = demo_df3.marital_status.value_counts()\n",
    "marital_status_counts"
   ]
  },
  {
   "cell_type": "code",
   "execution_count": null,
   "id": "c7d20c9b-8e0a-4aaf-9adf-59b1995d9f9f",
   "metadata": {},
   "outputs": [
    {
     "data": {
      "image/png": "[encoded data removed]",
      "text/plain": [
       "<Figure size 640x480 with 1 Axes>"
      ]
     },
     "metadata": {},
     "output_type": "display_data"
    }
   ],
   "source": [
    "plt.bar(x=marital_status_counts.index, height=marital_status_counts.values)\n",
    "plt.title('Distribution of Marital Status')\n",
    "plt.xlabel('Marital Status')\n",
    "plt.ylabel('Frequency')\n",
    "plt.show()"
   ]
  },
  {
   "cell_type": "markdown",
   "id": "08560c36-c7ad-4683-94c6-cde9041f6696",
   "metadata": {},
   "source": [
    "We observe that we have people that never provided their marital status. For now, we can remove them and later when we have gotten more experience, we can find more technical and safer ways to handle these."
   ]
  },
  {
   "cell_type": "code",
   "execution_count": null,
   "id": "adeffaf8-6660-498e-8711-a34dd9eb135b",
   "metadata": {},
   "outputs": [],
   "source": [
    "demo_df4 = demo_df3[demo_df3.marital_status != 'no answer'].copy()"
   ]
  },
  {
   "cell_type": "markdown",
   "id": "f68cdc64-761f-4145-a9f7-8eee55f71ee3",
   "metadata": {},
   "source": [
    "That will return to us only the rows where the Marital Status is either `1` or `0`\n",
    "\n",
    "<script async src=\"https://pagead2.googlesyndication.com/pagead/js/adsbygoogle.js?client=ca-pub-8076040302380238\"\n",
    "     crossorigin=\"anonymous\"></script>\n",
    "<!-- inline_horizontal -->\n",
    "<ins class=\"adsbygoogle\"\n",
    "     style=\"display:block\"\n",
    "     data-ad-client=\"ca-pub-8076040302380238\"\n",
    "     data-ad-slot=\"9021194372\"\n",
    "     data-ad-format=\"auto\"\n",
    "     data-full-width-responsive=\"true\"></ins>\n",
    "<script>\n",
    "     (adsbygoogle = window.adsbygoogle || []).push({});\n",
    "</script>"
   ]
  },
  {
   "cell_type": "markdown",
   "id": "ed7158cd-292b-4bcc-b3c8-92c024305972",
   "metadata": {},
   "source": [
    "It turns out that most machine learning models work well with numbers. So we want to covert the nominal variables from string to either `int` or `float`"
   ]
  },
  {
   "cell_type": "code",
   "execution_count": null,
   "id": "1d5eae22-2ccb-45c3-afb3-f787661d922b",
   "metadata": {},
   "outputs": [],
   "source": [
    "demo_df4['marital_status'] = demo_df4.marital_status.astype('int')"
   ]
  },
  {
   "cell_type": "markdown",
   "id": "b02fff77-462e-4c20-84d9-e81c8a1dff33",
   "metadata": {},
   "source": [
    "Let's also create dummy variables for the gender categories. Dummy variables are binary (0 or 1) variables created from categorical variables to be used in regression models. In Python, they can be created using the `pd.get_dummies()` function from the pandas library."
   ]
  },
  {
   "cell_type": "code",
   "execution_count": null,
   "id": "c1463e97-d14f-4caf-9e64-96766a73a016",
   "metadata": {},
   "outputs": [],
   "source": [
    "demo_df5 = pd.get_dummies(\n",
    "    data=demo_df4, \n",
    "    columns=['gender'], \n",
    "    drop_first=True, \n",
    "    dtype='int'\n",
    ")"
   ]
  },
  {
   "cell_type": "code",
   "execution_count": null,
   "id": "3546ce2b-0e53-4e89-88c9-85d45141b49e",
   "metadata": {},
   "outputs": [
    {
     "data": {
      "text/html": [
       "<div>\n",
       "<style scoped>\n",
       "    .dataframe tbody tr th:only-of-type {\n",
       "        vertical-align: middle;\n",
       "    }\n",
       "\n",
       "    .dataframe tbody tr th {\n",
       "        vertical-align: top;\n",
       "    }\n",
       "\n",
       "    .dataframe thead th {\n",
       "        text-align: right;\n",
       "    }\n",
       "</style>\n",
       "<table border=\"1\" class=\"dataframe\">\n",
       "  <thead>\n",
       "    <tr style=\"text-align: right;\">\n",
       "      <th></th>\n",
       "      <th>age</th>\n",
       "      <th>marital_status</th>\n",
       "      <th>address</th>\n",
       "      <th>income</th>\n",
       "      <th>income_category</th>\n",
       "      <th>job_category</th>\n",
       "      <th>gender_m</th>\n",
       "    </tr>\n",
       "  </thead>\n",
       "  <tbody>\n",
       "    <tr>\n",
       "      <th>159</th>\n",
       "      <td>27</td>\n",
       "      <td>0</td>\n",
       "      <td>0</td>\n",
       "      <td>25.0</td>\n",
       "      <td>2.0</td>\n",
       "      <td>1</td>\n",
       "      <td>0</td>\n",
       "    </tr>\n",
       "    <tr>\n",
       "      <th>110</th>\n",
       "      <td>44</td>\n",
       "      <td>1</td>\n",
       "      <td>8</td>\n",
       "      <td>46.0</td>\n",
       "      <td>2.0</td>\n",
       "      <td>3</td>\n",
       "      <td>1</td>\n",
       "    </tr>\n",
       "    <tr>\n",
       "      <th>60</th>\n",
       "      <td>23</td>\n",
       "      <td>1</td>\n",
       "      <td>1</td>\n",
       "      <td>15.0</td>\n",
       "      <td>1.0</td>\n",
       "      <td>1</td>\n",
       "      <td>1</td>\n",
       "    </tr>\n",
       "    <tr>\n",
       "      <th>186</th>\n",
       "      <td>44</td>\n",
       "      <td>0</td>\n",
       "      <td>13</td>\n",
       "      <td>104.0</td>\n",
       "      <td>4.0</td>\n",
       "      <td>2</td>\n",
       "      <td>0</td>\n",
       "    </tr>\n",
       "    <tr>\n",
       "      <th>168</th>\n",
       "      <td>48</td>\n",
       "      <td>1</td>\n",
       "      <td>16</td>\n",
       "      <td>29.0</td>\n",
       "      <td>2.0</td>\n",
       "      <td>3</td>\n",
       "      <td>1</td>\n",
       "    </tr>\n",
       "  </tbody>\n",
       "</table>\n",
       "</div>"
      ],
      "text/plain": [
       "     age  marital_status  address  income  income_category  job_category  \\\n",
       "159   27               0        0    25.0              2.0             1   \n",
       "110   44               1        8    46.0              2.0             3   \n",
       "60    23               1        1    15.0              1.0             1   \n",
       "186   44               0       13   104.0              4.0             2   \n",
       "168   48               1       16    29.0              2.0             3   \n",
       "\n",
       "     gender_m  \n",
       "159         0  \n",
       "110         1  \n",
       "60          1  \n",
       "186         0  \n",
       "168         1  "
      ]
     },
     "execution_count": null,
     "metadata": {},
     "output_type": "execute_result"
    }
   ],
   "source": [
    "demo_df5.sample(n=5)"
   ]
  },
  {
   "cell_type": "markdown",
   "id": "8aaaa623-82d8-43a7-8f94-36d477f22bfc",
   "metadata": {},
   "source": [
    "That's our last preprocessing act for now. "
   ]
  },
  {
   "cell_type": "markdown",
   "id": "6d9b32bd-e749-416c-b6d3-cc82ccd2172a",
   "metadata": {},
   "source": [
    "### Choosing the right model \n",
    "\n",
    "When choosing a machine learning model, consider the following factors:\n",
    "\n",
    "1. **Nature of the problem**: Determine whether it's a classification, regression, clustering, or another type of problem.\n",
    "2. **Data characteristics**: Assess the size, dimensionality, and quality of the dataset, including handling of missing values and categorical features.\n",
    "3. **Interpretability**: Consider if model interpretability is crucial for the application or stakeholders.\n",
    "4. **Computational efficiency**: Take into account the computational resources required for training and inference.\n",
    "5. **Scalability**: Ensure the model can handle large datasets and be scaled up if needed.\n",
    "6. **Domain knowledge**: Leverage any domain-specific insights to guide model selection and feature engineering."
   ]
  },
  {
   "cell_type": "markdown",
   "id": "bc24b130-2eda-4dbd-b311-3917cab2e6b9",
   "metadata": {},
   "source": [
    "We would like to predict `marital_status`, this makes our problem a classification problem. One of the popular classification models is the `LogisticRegression` model.\n",
    "\n",
    "This is provided for us by Sci Kit Learn through an easy and intuitive API"
   ]
  },
  {
   "cell_type": "code",
   "execution_count": null,
   "id": "0b1d8764-bd1e-4ca9-90ec-240a7c220896",
   "metadata": {},
   "outputs": [],
   "source": [
    "from sklearn.linear_model import LogisticRegression"
   ]
  },
  {
   "cell_type": "code",
   "execution_count": null,
   "id": "9afe6a0b-80f0-4b3c-9385-0ee1ae8785ed",
   "metadata": {},
   "outputs": [],
   "source": [
    "logistic_regression_model = LogisticRegression()"
   ]
  },
  {
   "cell_type": "markdown",
   "id": "82ee5237-c0ee-4d1d-b72d-5711976278ab",
   "metadata": {},
   "source": [
    "### Training the Model\n",
    "\n",
    "Before fitting or training a Machine Learning model, we need to identify what our independent features or variables are. Many Data Analysis like to call them `X`.\n",
    "\n",
    "We also need to identify the outcome feature, commonly refered to as `y`."
   ]
  },
  {
   "cell_type": "code",
   "execution_count": null,
   "id": "28e59935-17b9-4143-9ca6-bea80682ad85",
   "metadata": {},
   "outputs": [],
   "source": [
    "X = demo_df5.drop('marital_status', axis=1)\n",
    "y = demo_df5.marital_status"
   ]
  },
  {
   "cell_type": "markdown",
   "id": "9497e5cb-d776-4cf3-96a9-3baf5a62b3c3",
   "metadata": {},
   "source": [
    "So, to train our Machine Learning model using sklearn, we can just call the `fit()` method on the model object and pass to it the data ie `X` and `y` respectively"
   ]
  },
  {
   "cell_type": "code",
   "execution_count": null,
   "id": "2f001e41-f7ca-4421-830a-aab10157fe53",
   "metadata": {},
   "outputs": [
    {
     "data": {
      "text/html": [
       "<style>#sk-container-id-1 {\n",
       "  /* Definition of color scheme common for light and dark mode */\n",
       "  --sklearn-color-text: black;\n",
       "  --sklearn-color-line: gray;\n",
       "  /* Definition of color scheme for unfitted estimators */\n",
       "  --sklearn-color-unfitted-level-0: #fff5e6;\n",
       "  --sklearn-color-unfitted-level-1: #f6e4d2;\n",
       "  --sklearn-color-unfitted-level-2: #ffe0b3;\n",
       "  --sklearn-color-unfitted-level-3: chocolate;\n",
       "  /* Definition of color scheme for fitted estimators */\n",
       "  --sklearn-color-fitted-level-0: #f0f8ff;\n",
       "  --sklearn-color-fitted-level-1: #d4ebff;\n",
       "  --sklearn-color-fitted-level-2: #b3dbfd;\n",
       "  --sklearn-color-fitted-level-3: cornflowerblue;\n",
       "\n",
       "  /* Specific color for light theme */\n",
       "  --sklearn-color-text-on-default-background: var(--sg-text-color, var(--theme-code-foreground, var(--jp-content-font-color1, black)));\n",
       "  --sklearn-color-background: var(--sg-background-color, var(--theme-background, var(--jp-layout-color0, white)));\n",
       "  --sklearn-color-border-box: var(--sg-text-color, var(--theme-code-foreground, var(--jp-content-font-color1, black)));\n",
       "  --sklearn-color-icon: #696969;\n",
       "\n",
       "  @media (prefers-color-scheme: dark) {\n",
       "    /* Redefinition of color scheme for dark theme */\n",
       "    --sklearn-color-text-on-default-background: var(--sg-text-color, var(--theme-code-foreground, var(--jp-content-font-color1, white)));\n",
       "    --sklearn-color-background: var(--sg-background-color, var(--theme-background, var(--jp-layout-color0, #111)));\n",
       "    --sklearn-color-border-box: var(--sg-text-color, var(--theme-code-foreground, var(--jp-content-font-color1, white)));\n",
       "    --sklearn-color-icon: #878787;\n",
       "  }\n",
       "}\n",
       "\n",
       "#sk-container-id-1 {\n",
       "  color: var(--sklearn-color-text);\n",
       "}\n",
       "\n",
       "#sk-container-id-1 pre {\n",
       "  padding: 0;\n",
       "}\n",
       "\n",
       "#sk-container-id-1 input.sk-hidden--visually {\n",
       "  border: 0;\n",
       "  clip: rect(1px 1px 1px 1px);\n",
       "  clip: rect(1px, 1px, 1px, 1px);\n",
       "  height: 1px;\n",
       "  margin: -1px;\n",
       "  overflow: hidden;\n",
       "  padding: 0;\n",
       "  position: absolute;\n",
       "  width: 1px;\n",
       "}\n",
       "\n",
       "#sk-container-id-1 div.sk-dashed-wrapped {\n",
       "  border: 1px dashed var(--sklearn-color-line);\n",
       "  margin: 0 0.4em 0.5em 0.4em;\n",
       "  box-sizing: border-box;\n",
       "  padding-bottom: 0.4em;\n",
       "  background-color: var(--sklearn-color-background);\n",
       "}\n",
       "\n",
       "#sk-container-id-1 div.sk-container {\n",
       "  /* jupyter's `normalize.less` sets `[hidden] { display: none; }`\n",
       "     but bootstrap.min.css set `[hidden] { display: none !important; }`\n",
       "     so we also need the `!important` here to be able to override the\n",
       "     default hidden behavior on the sphinx rendered scikit-learn.org.\n",
       "     See: https://github.com/scikit-learn/scikit-learn/issues/21755 */\n",
       "  display: inline-block !important;\n",
       "  position: relative;\n",
       "}\n",
       "\n",
       "#sk-container-id-1 div.sk-text-repr-fallback {\n",
       "  display: none;\n",
       "}\n",
       "\n",
       "div.sk-parallel-item,\n",
       "div.sk-serial,\n",
       "div.sk-item {\n",
       "  /* draw centered vertical line to link estimators */\n",
       "  background-image: linear-gradient(var(--sklearn-color-text-on-default-background), var(--sklearn-color-text-on-default-background));\n",
       "  background-size: 2px 100%;\n",
       "  background-repeat: no-repeat;\n",
       "  background-position: center center;\n",
       "}\n",
       "\n",
       "/* Parallel-specific style estimator block */\n",
       "\n",
       "#sk-container-id-1 div.sk-parallel-item::after {\n",
       "  content: \"\";\n",
       "  width: 100%;\n",
       "  border-bottom: 2px solid var(--sklearn-color-text-on-default-background);\n",
       "  flex-grow: 1;\n",
       "}\n",
       "\n",
       "#sk-container-id-1 div.sk-parallel {\n",
       "  display: flex;\n",
       "  align-items: stretch;\n",
       "  justify-content: center;\n",
       "  background-color: var(--sklearn-color-background);\n",
       "  position: relative;\n",
       "}\n",
       "\n",
       "#sk-container-id-1 div.sk-parallel-item {\n",
       "  display: flex;\n",
       "  flex-direction: column;\n",
       "}\n",
       "\n",
       "#sk-container-id-1 div.sk-parallel-item:first-child::after {\n",
       "  align-self: flex-end;\n",
       "  width: 50%;\n",
       "}\n",
       "\n",
       "#sk-container-id-1 div.sk-parallel-item:last-child::after {\n",
       "  align-self: flex-start;\n",
       "  width: 50%;\n",
       "}\n",
       "\n",
       "#sk-container-id-1 div.sk-parallel-item:only-child::after {\n",
       "  width: 0;\n",
       "}\n",
       "\n",
       "/* Serial-specific style estimator block */\n",
       "\n",
       "#sk-container-id-1 div.sk-serial {\n",
       "  display: flex;\n",
       "  flex-direction: column;\n",
       "  align-items: center;\n",
       "  background-color: var(--sklearn-color-background);\n",
       "  padding-right: 1em;\n",
       "  padding-left: 1em;\n",
       "}\n",
       "\n",
       "\n",
       "/* Toggleable style: style used for estimator/Pipeline/ColumnTransformer box that is\n",
       "clickable and can be expanded/collapsed.\n",
       "- Pipeline and ColumnTransformer use this feature and define the default style\n",
       "- Estimators will overwrite some part of the style using the `sk-estimator` class\n",
       "*/\n",
       "\n",
       "/* Pipeline and ColumnTransformer style (default) */\n",
       "\n",
       "#sk-container-id-1 div.sk-toggleable {\n",
       "  /* Default theme specific background. It is overwritten whether we have a\n",
       "  specific estimator or a Pipeline/ColumnTransformer */\n",
       "  background-color: var(--sklearn-color-background);\n",
       "}\n",
       "\n",
       "/* Toggleable label */\n",
       "#sk-container-id-1 label.sk-toggleable__label {\n",
       "  cursor: pointer;\n",
       "  display: block;\n",
       "  width: 100%;\n",
       "  margin-bottom: 0;\n",
       "  padding: 0.5em;\n",
       "  box-sizing: border-box;\n",
       "  text-align: center;\n",
       "}\n",
       "\n",
       "#sk-container-id-1 label.sk-toggleable__label-arrow:before {\n",
       "  /* Arrow on the left of the label */\n",
       "  content: \"▸\";\n",
       "  float: left;\n",
       "  margin-right: 0.25em;\n",
       "  color: var(--sklearn-color-icon);\n",
       "}\n",
       "\n",
       "#sk-container-id-1 label.sk-toggleable__label-arrow:hover:before {\n",
       "  color: var(--sklearn-color-text);\n",
       "}\n",
       "\n",
       "/* Toggleable content - dropdown */\n",
       "\n",
       "#sk-container-id-1 div.sk-toggleable__content {\n",
       "  max-height: 0;\n",
       "  max-width: 0;\n",
       "  overflow: hidden;\n",
       "  text-align: left;\n",
       "  /* unfitted */\n",
       "  background-color: var(--sklearn-color-unfitted-level-0);\n",
       "}\n",
       "\n",
       "#sk-container-id-1 div.sk-toggleable__content.fitted {\n",
       "  /* fitted */\n",
       "  background-color: var(--sklearn-color-fitted-level-0);\n",
       "}\n",
       "\n",
       "#sk-container-id-1 div.sk-toggleable__content pre {\n",
       "  margin: 0.2em;\n",
       "  border-radius: 0.25em;\n",
       "  color: var(--sklearn-color-text);\n",
       "  /* unfitted */\n",
       "  background-color: var(--sklearn-color-unfitted-level-0);\n",
       "}\n",
       "\n",
       "#sk-container-id-1 div.sk-toggleable__content.fitted pre {\n",
       "  /* unfitted */\n",
       "  background-color: var(--sklearn-color-fitted-level-0);\n",
       "}\n",
       "\n",
       "#sk-container-id-1 input.sk-toggleable__control:checked~div.sk-toggleable__content {\n",
       "  /* Expand drop-down */\n",
       "  max-height: 200px;\n",
       "  max-width: 100%;\n",
       "  overflow: auto;\n",
       "}\n",
       "\n",
       "#sk-container-id-1 input.sk-toggleable__control:checked~label.sk-toggleable__label-arrow:before {\n",
       "  content: \"▾\";\n",
       "}\n",
       "\n",
       "/* Pipeline/ColumnTransformer-specific style */\n",
       "\n",
       "#sk-container-id-1 div.sk-label input.sk-toggleable__control:checked~label.sk-toggleable__label {\n",
       "  color: var(--sklearn-color-text);\n",
       "  background-color: var(--sklearn-color-unfitted-level-2);\n",
       "}\n",
       "\n",
       "#sk-container-id-1 div.sk-label.fitted input.sk-toggleable__control:checked~label.sk-toggleable__label {\n",
       "  background-color: var(--sklearn-color-fitted-level-2);\n",
       "}\n",
       "\n",
       "/* Estimator-specific style */\n",
       "\n",
       "/* Colorize estimator box */\n",
       "#sk-container-id-1 div.sk-estimator input.sk-toggleable__control:checked~label.sk-toggleable__label {\n",
       "  /* unfitted */\n",
       "  background-color: var(--sklearn-color-unfitted-level-2);\n",
       "}\n",
       "\n",
       "#sk-container-id-1 div.sk-estimator.fitted input.sk-toggleable__control:checked~label.sk-toggleable__label {\n",
       "  /* fitted */\n",
       "  background-color: var(--sklearn-color-fitted-level-2);\n",
       "}\n",
       "\n",
       "#sk-container-id-1 div.sk-label label.sk-toggleable__label,\n",
       "#sk-container-id-1 div.sk-label label {\n",
       "  /* The background is the default theme color */\n",
       "  color: var(--sklearn-color-text-on-default-background);\n",
       "}\n",
       "\n",
       "/* On hover, darken the color of the background */\n",
       "#sk-container-id-1 div.sk-label:hover label.sk-toggleable__label {\n",
       "  color: var(--sklearn-color-text);\n",
       "  background-color: var(--sklearn-color-unfitted-level-2);\n",
       "}\n",
       "\n",
       "/* Label box, darken color on hover, fitted */\n",
       "#sk-container-id-1 div.sk-label.fitted:hover label.sk-toggleable__label.fitted {\n",
       "  color: var(--sklearn-color-text);\n",
       "  background-color: var(--sklearn-color-fitted-level-2);\n",
       "}\n",
       "\n",
       "/* Estimator label */\n",
       "\n",
       "#sk-container-id-1 div.sk-label label {\n",
       "  font-family: monospace;\n",
       "  font-weight: bold;\n",
       "  display: inline-block;\n",
       "  line-height: 1.2em;\n",
       "}\n",
       "\n",
       "#sk-container-id-1 div.sk-label-container {\n",
       "  text-align: center;\n",
       "}\n",
       "\n",
       "/* Estimator-specific */\n",
       "#sk-container-id-1 div.sk-estimator {\n",
       "  font-family: monospace;\n",
       "  border: 1px dotted var(--sklearn-color-border-box);\n",
       "  border-radius: 0.25em;\n",
       "  box-sizing: border-box;\n",
       "  margin-bottom: 0.5em;\n",
       "  /* unfitted */\n",
       "  background-color: var(--sklearn-color-unfitted-level-0);\n",
       "}\n",
       "\n",
       "#sk-container-id-1 div.sk-estimator.fitted {\n",
       "  /* fitted */\n",
       "  background-color: var(--sklearn-color-fitted-level-0);\n",
       "}\n",
       "\n",
       "/* on hover */\n",
       "#sk-container-id-1 div.sk-estimator:hover {\n",
       "  /* unfitted */\n",
       "  background-color: var(--sklearn-color-unfitted-level-2);\n",
       "}\n",
       "\n",
       "#sk-container-id-1 div.sk-estimator.fitted:hover {\n",
       "  /* fitted */\n",
       "  background-color: var(--sklearn-color-fitted-level-2);\n",
       "}\n",
       "\n",
       "/* Specification for estimator info (e.g. \"i\" and \"?\") */\n",
       "\n",
       "/* Common style for \"i\" and \"?\" */\n",
       "\n",
       ".sk-estimator-doc-link,\n",
       "a:link.sk-estimator-doc-link,\n",
       "a:visited.sk-estimator-doc-link {\n",
       "  float: right;\n",
       "  font-size: smaller;\n",
       "  line-height: 1em;\n",
       "  font-family: monospace;\n",
       "  background-color: var(--sklearn-color-background);\n",
       "  border-radius: 1em;\n",
       "  height: 1em;\n",
       "  width: 1em;\n",
       "  text-decoration: none !important;\n",
       "  margin-left: 1ex;\n",
       "  /* unfitted */\n",
       "  border: var(--sklearn-color-unfitted-level-1) 1pt solid;\n",
       "  color: var(--sklearn-color-unfitted-level-1);\n",
       "}\n",
       "\n",
       ".sk-estimator-doc-link.fitted,\n",
       "a:link.sk-estimator-doc-link.fitted,\n",
       "a:visited.sk-estimator-doc-link.fitted {\n",
       "  /* fitted */\n",
       "  border: var(--sklearn-color-fitted-level-1) 1pt solid;\n",
       "  color: var(--sklearn-color-fitted-level-1);\n",
       "}\n",
       "\n",
       "/* On hover */\n",
       "div.sk-estimator:hover .sk-estimator-doc-link:hover,\n",
       ".sk-estimator-doc-link:hover,\n",
       "div.sk-label-container:hover .sk-estimator-doc-link:hover,\n",
       ".sk-estimator-doc-link:hover {\n",
       "  /* unfitted */\n",
       "  background-color: var(--sklearn-color-unfitted-level-3);\n",
       "  color: var(--sklearn-color-background);\n",
       "  text-decoration: none;\n",
       "}\n",
       "\n",
       "div.sk-estimator.fitted:hover .sk-estimator-doc-link.fitted:hover,\n",
       ".sk-estimator-doc-link.fitted:hover,\n",
       "div.sk-label-container:hover .sk-estimator-doc-link.fitted:hover,\n",
       ".sk-estimator-doc-link.fitted:hover {\n",
       "  /* fitted */\n",
       "  background-color: var(--sklearn-color-fitted-level-3);\n",
       "  color: var(--sklearn-color-background);\n",
       "  text-decoration: none;\n",
       "}\n",
       "\n",
       "/* Span, style for the box shown on hovering the info icon */\n",
       ".sk-estimator-doc-link span {\n",
       "  display: none;\n",
       "  z-index: 9999;\n",
       "  position: relative;\n",
       "  font-weight: normal;\n",
       "  right: .2ex;\n",
       "  padding: .5ex;\n",
       "  margin: .5ex;\n",
       "  width: min-content;\n",
       "  min-width: 20ex;\n",
       "  max-width: 50ex;\n",
       "  color: var(--sklearn-color-text);\n",
       "  box-shadow: 2pt 2pt 4pt #999;\n",
       "  /* unfitted */\n",
       "  background: var(--sklearn-color-unfitted-level-0);\n",
       "  border: .5pt solid var(--sklearn-color-unfitted-level-3);\n",
       "}\n",
       "\n",
       ".sk-estimator-doc-link.fitted span {\n",
       "  /* fitted */\n",
       "  background: var(--sklearn-color-fitted-level-0);\n",
       "  border: var(--sklearn-color-fitted-level-3);\n",
       "}\n",
       "\n",
       ".sk-estimator-doc-link:hover span {\n",
       "  display: block;\n",
       "}\n",
       "\n",
       "/* \"?\"-specific style due to the `<a>` HTML tag */\n",
       "\n",
       "#sk-container-id-1 a.estimator_doc_link {\n",
       "  float: right;\n",
       "  font-size: 1rem;\n",
       "  line-height: 1em;\n",
       "  font-family: monospace;\n",
       "  background-color: var(--sklearn-color-background);\n",
       "  border-radius: 1rem;\n",
       "  height: 1rem;\n",
       "  width: 1rem;\n",
       "  text-decoration: none;\n",
       "  /* unfitted */\n",
       "  color: var(--sklearn-color-unfitted-level-1);\n",
       "  border: var(--sklearn-color-unfitted-level-1) 1pt solid;\n",
       "}\n",
       "\n",
       "#sk-container-id-1 a.estimator_doc_link.fitted {\n",
       "  /* fitted */\n",
       "  border: var(--sklearn-color-fitted-level-1) 1pt solid;\n",
       "  color: var(--sklearn-color-fitted-level-1);\n",
       "}\n",
       "\n",
       "/* On hover */\n",
       "#sk-container-id-1 a.estimator_doc_link:hover {\n",
       "  /* unfitted */\n",
       "  background-color: var(--sklearn-color-unfitted-level-3);\n",
       "  color: var(--sklearn-color-background);\n",
       "  text-decoration: none;\n",
       "}\n",
       "\n",
       "#sk-container-id-1 a.estimator_doc_link.fitted:hover {\n",
       "  /* fitted */\n",
       "  background-color: var(--sklearn-color-fitted-level-3);\n",
       "}\n",
       "</style><div id=\"sk-container-id-1\" class=\"sk-top-container\"><div class=\"sk-text-repr-fallback\"><pre>LogisticRegression()</pre><b>In a Jupyter environment, please rerun this cell to show the HTML representation or trust the notebook. <br />On GitHub, the HTML representation is unable to render, please try loading this page with nbviewer.org.</b></div><div class=\"sk-container\" hidden><div class=\"sk-item\"><div class=\"sk-estimator fitted sk-toggleable\"><input class=\"sk-toggleable__control sk-hidden--visually\" id=\"sk-estimator-id-1\" type=\"checkbox\" checked><label for=\"sk-estimator-id-1\" class=\"sk-toggleable__label fitted sk-toggleable__label-arrow fitted\">&nbsp;&nbsp;LogisticRegression<a class=\"sk-estimator-doc-link fitted\" rel=\"noreferrer\" target=\"_blank\" href=\"https://scikit-learn.org/1.4/modules/generated/sklearn.linear_model.LogisticRegression.html\">?<span>Documentation for LogisticRegression</span></a><span class=\"sk-estimator-doc-link fitted\">i<span>Fitted</span></span></label><div class=\"sk-toggleable__content fitted\"><pre>LogisticRegression()</pre></div> </div></div></div></div>"
      ],
      "text/plain": [
       "LogisticRegression()"
      ]
     },
     "execution_count": null,
     "metadata": {},
     "output_type": "execute_result"
    }
   ],
   "source": [
    "logistic_regression_model.fit(X, y)"
   ]
  },
  {
   "cell_type": "markdown",
   "id": "cf7a9034-481d-4ce2-ac42-f07770bb98c6",
   "metadata": {},
   "source": [
    "### Evaluating the Model\n",
    "\n",
    "We can see the model's accuracy on the entire data set by calling the `score()` method on the model object and passing to it the `X` and `y`."
   ]
  },
  {
   "cell_type": "code",
   "execution_count": null,
   "id": "32796026-328f-491c-ac9b-e72f6bf4fabb",
   "metadata": {},
   "outputs": [
    {
     "data": {
      "text/plain": [
       "55.68181818181818"
      ]
     },
     "execution_count": null,
     "metadata": {},
     "output_type": "execute_result"
    }
   ],
   "source": [
    "logistic_regression_model.score(X, y) * 100"
   ]
  },
  {
   "cell_type": "markdown",
   "id": "9028ee4a-c63c-4f4d-9a25-069bf793782d",
   "metadata": {},
   "source": [
    "We can observe that the model has scored 55.68% accuracy.\n",
    "\n",
    "<div class=\"alert text-white rounded\" style=\"background: #3a6e68;\"><h4>Note!</h4><p>Accuracy is only one of many metrics that we can use to evaluate the performance of our model. We shall discover more metrics to use to understand the model performance</p></div>"
   ]
  },
  {
   "cell_type": "markdown",
   "id": "8eef4d01-47e2-4144-b930-c2cf15d9a87a",
   "metadata": {},
   "source": [
    "### HyperParameter Tuning and Optimization\n",
    "\n",
    "It turns out that `LogisticRegression` model class has some parameters that we can tune (or modify) to improve the performance of our model."
   ]
  },
  {
   "cell_type": "code",
   "execution_count": null,
   "id": "2a633171-e886-4071-b226-fc25985622b2",
   "metadata": {},
   "outputs": [
    {
     "data": {
      "text/plain": [
       "56.25"
      ]
     },
     "execution_count": null,
     "metadata": {},
     "output_type": "execute_result"
    }
   ],
   "source": [
    "logistic_regression_model2 = LogisticRegression(\n",
    "    penalty='l1', \n",
    "    solver='liblinear',\n",
    "    max_iter=100\n",
    ")\n",
    "logistic_regression_model2.fit(X, y)\n",
    "logistic_regression_model2.score(X, y) * 100"
   ]
  },
  {
   "cell_type": "markdown",
   "id": "94e22571-56aa-4ef0-bf27-7d8759d684e0",
   "metadata": {},
   "source": [
    "It appears that modifying `penalty` and `solver` improved slightly improved our model."
   ]
  },
  {
   "cell_type": "markdown",
   "id": "bb93a90d-de70-4bf0-abf4-795562bfa593",
   "metadata": {},
   "source": [
    "### Predictions and Deployment\n",
    "\n",
    "To make a prediction, first make sure that your model is trained. Then we can call the `predict()` method on the model object and pass to it the data that we want to make predictions on."
   ]
  },
  {
   "cell_type": "code",
   "execution_count": null,
   "id": "35e59072-a442-470a-9c2a-5b1a06645e1e",
   "metadata": {},
   "outputs": [],
   "source": [
    "# pick out from demo_df3 where marital status is no answer\n",
    "demo_df6 = demo_df3[demo_df3.marital_status == 'no answer'].copy()\n",
    "\n",
    "# removing marital status\n",
    "demo_df6.drop('marital_status', axis=1, inplace=True)\n",
    "\n",
    "# obtaining dummy variables for gender\n",
    "demo_df6 = pd.get_dummies(\n",
    "    data=demo_df6, \n",
    "    columns=['gender'], \n",
    "    drop_first=True, \n",
    "    dtype='int'\n",
    ")"
   ]
  },
  {
   "cell_type": "code",
   "execution_count": null,
   "id": "62243edd-a806-4404-bedb-4657e170af88",
   "metadata": {},
   "outputs": [
    {
     "data": {
      "text/html": [
       "<div>\n",
       "<style scoped>\n",
       "    .dataframe tbody tr th:only-of-type {\n",
       "        vertical-align: middle;\n",
       "    }\n",
       "\n",
       "    .dataframe tbody tr th {\n",
       "        vertical-align: top;\n",
       "    }\n",
       "\n",
       "    .dataframe thead th {\n",
       "        text-align: right;\n",
       "    }\n",
       "</style>\n",
       "<table border=\"1\" class=\"dataframe\">\n",
       "  <thead>\n",
       "    <tr style=\"text-align: right;\">\n",
       "      <th></th>\n",
       "      <th>age</th>\n",
       "      <th>address</th>\n",
       "      <th>income</th>\n",
       "      <th>income_category</th>\n",
       "      <th>job_category</th>\n",
       "      <th>gender_m</th>\n",
       "    </tr>\n",
       "  </thead>\n",
       "  <tbody>\n",
       "    <tr>\n",
       "      <th>2</th>\n",
       "      <td>28</td>\n",
       "      <td>9</td>\n",
       "      <td>28.0</td>\n",
       "      <td>2.0</td>\n",
       "      <td>1</td>\n",
       "      <td>0</td>\n",
       "    </tr>\n",
       "    <tr>\n",
       "      <th>4</th>\n",
       "      <td>25</td>\n",
       "      <td>2</td>\n",
       "      <td>23.0</td>\n",
       "      <td>1.0</td>\n",
       "      <td>2</td>\n",
       "      <td>1</td>\n",
       "    </tr>\n",
       "    <tr>\n",
       "      <th>7</th>\n",
       "      <td>46</td>\n",
       "      <td>20</td>\n",
       "      <td>75.0</td>\n",
       "      <td>4.0</td>\n",
       "      <td>3</td>\n",
       "      <td>1</td>\n",
       "    </tr>\n",
       "    <tr>\n",
       "      <th>8</th>\n",
       "      <td>41</td>\n",
       "      <td>10</td>\n",
       "      <td>26.0</td>\n",
       "      <td>2.0</td>\n",
       "      <td>2</td>\n",
       "      <td>1</td>\n",
       "    </tr>\n",
       "    <tr>\n",
       "      <th>9</th>\n",
       "      <td>29</td>\n",
       "      <td>4</td>\n",
       "      <td>19.0</td>\n",
       "      <td>1.0</td>\n",
       "      <td>2</td>\n",
       "      <td>0</td>\n",
       "    </tr>\n",
       "  </tbody>\n",
       "</table>\n",
       "</div>"
      ],
      "text/plain": [
       "   age  address  income  income_category  job_category  gender_m\n",
       "2   28        9    28.0              2.0             1         0\n",
       "4   25        2    23.0              1.0             2         1\n",
       "7   46       20    75.0              4.0             3         1\n",
       "8   41       10    26.0              2.0             2         1\n",
       "9   29        4    19.0              1.0             2         0"
      ]
     },
     "execution_count": null,
     "metadata": {},
     "output_type": "execute_result"
    }
   ],
   "source": [
    "demo_df6"
   ]
  },
  {
   "cell_type": "code",
   "execution_count": null,
   "id": "c22f89b0-23ec-4c08-8904-a26615be300d",
   "metadata": {},
   "outputs": [
    {
     "name": "stdout",
     "output_type": "stream",
     "text": [
      "[0 1 0 1 0]\n"
     ]
    }
   ],
   "source": [
    "predictions = logistic_regression_model.predict(demo_df6)\n",
    "print(predictions)"
   ]
  },
  {
   "cell_type": "markdown",
   "id": "50a479a7-9d78-4063-a5e7-7af1b81db9e8",
   "metadata": {},
   "source": [
    "We can see the prediction returned as a numpy array. The predictions can also be added to the data eg `demo_df6`."
   ]
  },
  {
   "cell_type": "code",
   "execution_count": null,
   "id": "a409840b-09fa-48f2-ad01-97a295c1affc",
   "metadata": {},
   "outputs": [
    {
     "data": {
      "text/html": [
       "<div>\n",
       "<style scoped>\n",
       "    .dataframe tbody tr th:only-of-type {\n",
       "        vertical-align: middle;\n",
       "    }\n",
       "\n",
       "    .dataframe tbody tr th {\n",
       "        vertical-align: top;\n",
       "    }\n",
       "\n",
       "    .dataframe thead th {\n",
       "        text-align: right;\n",
       "    }\n",
       "</style>\n",
       "<table border=\"1\" class=\"dataframe\">\n",
       "  <thead>\n",
       "    <tr style=\"text-align: right;\">\n",
       "      <th></th>\n",
       "      <th>age</th>\n",
       "      <th>address</th>\n",
       "      <th>income</th>\n",
       "      <th>income_category</th>\n",
       "      <th>job_category</th>\n",
       "      <th>gender_m</th>\n",
       "      <th>predicted_marital_status</th>\n",
       "    </tr>\n",
       "  </thead>\n",
       "  <tbody>\n",
       "    <tr>\n",
       "      <th>2</th>\n",
       "      <td>28</td>\n",
       "      <td>9</td>\n",
       "      <td>28.0</td>\n",
       "      <td>2.0</td>\n",
       "      <td>1</td>\n",
       "      <td>0</td>\n",
       "      <td>0</td>\n",
       "    </tr>\n",
       "    <tr>\n",
       "      <th>4</th>\n",
       "      <td>25</td>\n",
       "      <td>2</td>\n",
       "      <td>23.0</td>\n",
       "      <td>1.0</td>\n",
       "      <td>2</td>\n",
       "      <td>1</td>\n",
       "      <td>1</td>\n",
       "    </tr>\n",
       "    <tr>\n",
       "      <th>7</th>\n",
       "      <td>46</td>\n",
       "      <td>20</td>\n",
       "      <td>75.0</td>\n",
       "      <td>4.0</td>\n",
       "      <td>3</td>\n",
       "      <td>1</td>\n",
       "      <td>0</td>\n",
       "    </tr>\n",
       "    <tr>\n",
       "      <th>8</th>\n",
       "      <td>41</td>\n",
       "      <td>10</td>\n",
       "      <td>26.0</td>\n",
       "      <td>2.0</td>\n",
       "      <td>2</td>\n",
       "      <td>1</td>\n",
       "      <td>1</td>\n",
       "    </tr>\n",
       "    <tr>\n",
       "      <th>9</th>\n",
       "      <td>29</td>\n",
       "      <td>4</td>\n",
       "      <td>19.0</td>\n",
       "      <td>1.0</td>\n",
       "      <td>2</td>\n",
       "      <td>0</td>\n",
       "      <td>0</td>\n",
       "    </tr>\n",
       "  </tbody>\n",
       "</table>\n",
       "</div>"
      ],
      "text/plain": [
       "   age  address  income  income_category  job_category  gender_m  \\\n",
       "2   28        9    28.0              2.0             1         0   \n",
       "4   25        2    23.0              1.0             2         1   \n",
       "7   46       20    75.0              4.0             3         1   \n",
       "8   41       10    26.0              2.0             2         1   \n",
       "9   29        4    19.0              1.0             2         0   \n",
       "\n",
       "   predicted_marital_status  \n",
       "2                         0  \n",
       "4                         1  \n",
       "7                         0  \n",
       "8                         1  \n",
       "9                         0  "
      ]
     },
     "execution_count": null,
     "metadata": {},
     "output_type": "execute_result"
    }
   ],
   "source": [
    "demo_df6['predicted_marital_status'] = predictions\n",
    "demo_df6"
   ]
  },
  {
   "cell_type": "code",
   "execution_count": null,
   "id": "4c078688",
   "metadata": {},
   "outputs": [],
   "source": [
    "#| hide\n",
    "#| export\n",
    "\n",
    "import joblib\n",
    "\n",
    "def loadModel(filename='model.di'):\n",
    "    \"\"\"\n",
    "    Load a model from a file using joblib.\n",
    "\n",
    "    Parameters:\n",
    "    filename (str): The path to the file containing the model.\n",
    "\n",
    "    Returns:\n",
    "    object: The loaded model.\n",
    "    \"\"\"\n",
    "    return joblib.load(filename)\n",
    "\n",
    "def saveModel(model, filename='model.di'):\n",
    "    \"\"\"\n",
    "    Save a model to a file using joblib.\n",
    "\n",
    "    Parameters:\n",
    "    model (object): The model to be saved.\n",
    "    filename (str): The path to the file where the model will be saved.\n",
    "\n",
    "    Returns:\n",
    "    None\n",
    "    \"\"\"\n",
    "    joblib.dump(model, filename)"
   ]
  },
  {
   "cell_type": "code",
   "execution_count": null,
   "id": "4d6f2360",
   "metadata": {},
   "outputs": [],
   "source": [
    "#| hide\n",
    "import nbdev; nbdev.nbdev_export()"
   ]
  },
  {
   "cell_type": "markdown",
   "id": "0dfc9b6e-1cfc-420e-aa02-46efa92d33b6",
   "metadata": {},
   "source": [
    "## References \n",
    "\n",
    "- [DATAIDEA - What is Demographic Data](https://blog.dataidea.org/posts/what-is-demographic-data/)\n",
    "- [IBM - What is Machine Learning](https://www.ibm.com/topics/machine-learning)\n",
    "- [Data Camp - What is Machine Learning](https://www.datacamp.com/blog/what-is-machine-learning)"
   ]
  }
 ],
 "metadata": {
  "kernelspec": {
   "display_name": "python3",
   "language": "python",
   "name": "python3"
  }
 },
 "nbformat": 4,
 "nbformat_minor": 5
}
