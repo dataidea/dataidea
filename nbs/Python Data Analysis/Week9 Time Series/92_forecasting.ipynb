{
 "cells": [
  {
   "cell_type": "markdown",
   "metadata": {},
   "source": [
    "![Time_Series_Header](../assets/banner4.png)"
   ]
  },
  {
   "cell_type": "markdown",
   "metadata": {},
   "source": [
    "## Time Series Forecasting \n",
    "Forecasting refers to the future predictions based on the time series data analysis. Below are the steps performed during time series forecasting\n",
    "\n",
    "* Step 1: Understand the time series characteristics like trend, seasonality etc\n",
    "* Step 2: Do the analysis and identify the best method to make the time series stationary\n",
    "* Step 3: Note down the transformation steps performed to make the time series stationary and make sure that the reverse transformation of data is possible to get the original scale back\n",
    "* Step 4: Based on data analysis choose the appropriate model for time series forecasting\n",
    "* Step 5: We can assess the performance of a model by applying simple metrics such as residual sum of squares(RSS). Make sure to use whole data for prediction.\n",
    "* Step 6: Now we will have an array of predictions which are in transformed scale. We just need to apply the reverse transformation to get the prediction values in original scale.\n",
    "* Step 7: At the end we can do the future forecasting and get the future forecasted values in original scale."
   ]
  },
  {
   "cell_type": "markdown",
   "metadata": {},
   "source": [
    "## Models Used For Time Series Forecasting \n",
    "* Autoregression (AR)\n",
    "* Moving Average (MA)\n",
    "* Autoregressive Moving Average (ARMA)\n",
    "* Autoregressive Integrated Moving Average (ARIMA)\n",
    "* Seasonal Autoregressive Integrated Moving-Average (SARIMA)\n",
    "* Seasonal Autoregressive Integrated Moving-Average with Exogenous Regressors (SARIMAX)\n",
    "* Vector Autoregression (VAR)\n",
    "* Vector Autoregression Moving-Average (VARMA)\n",
    "* Vector Autoregression Moving-Average with Exogenous Regressors (VARMAX)\n",
    "* Simple Exponential Smoothing (SES)\n",
    "* Holt Winter’s Exponential Smoothing (HWES)\n",
    "\n",
    "Next part of this article we are going to analyze and forecast air passengers time series data using ARIMA model. Brief introduction of ARIMA model is as below"
   ]
  },
  {
   "cell_type": "markdown",
   "metadata": {},
   "source": [
    "[ad]\n",
    "<script async src=\"https://pagead2.googlesyndication.com/pagead/js/adsbygoogle.js?client=ca-pub-8076040302380238\"\n",
    "     crossorigin=\"anonymous\"></script>\n",
    "<!-- inline_horizontal -->\n",
    "<ins class=\"adsbygoogle\"\n",
    "     style=\"display:block\"\n",
    "     data-ad-client=\"ca-pub-8076040302380238\"\n",
    "     data-ad-slot=\"9021194372\"\n",
    "     data-ad-format=\"auto\"\n",
    "     data-full-width-responsive=\"true\"></ins>\n",
    "<script>\n",
    "     (adsbygoogle = window.adsbygoogle || []).push({});\n",
    "</script>"
   ]
  },
  {
   "cell_type": "markdown",
   "metadata": {},
   "source": [
    "## ARIMA \n",
    "* ARIMA stands for Auto-Regressive Integrated Moving Averages. It is actually a combination of AR and MA model. \n",
    "* ARIMA has three parameters 'p' for the order of Auto-Regressive (AR) part, 'q' for the order of Moving Average (MA) part and 'd' for the order of integrated part. "
   ]
  },
  {
   "cell_type": "markdown",
   "metadata": {},
   "source": [
    "### Auto-Regressive (AR) Model: \n",
    "* As the name indicates, its the regression of the variables against itself. In this model linear combination of the past values are used to forecast the future values. \n",
    "* To figure out the order of AR model we will use PACF function"
   ]
  },
  {
   "cell_type": "markdown",
   "metadata": {},
   "source": [
    "### Integration(I): \n",
    "* Uses differencing of observations (subtracting an observation from observation at the previous time step) in order to make the time series stationary. Differencing involves the subtraction of the current values of a series with its previous values $d$ number of times.\n",
    "* Most of the time value of $d = 1$, means first order of difference."
   ]
  },
  {
   "cell_type": "markdown",
   "metadata": {},
   "source": [
    "### Moving Average (MA) Model: \n",
    "* Rather than using past values of the forecast variable in a regression, a moving average model uses linear combination of past forecast errors\n",
    "* To figure out the order of MA model we will use ACF function"
   ]
  },
  {
   "cell_type": "markdown",
   "metadata": {},
   "source": [
    "[ad]\n",
    "<script async src=\"https://pagead2.googlesyndication.com/pagead/js/adsbygoogle.js?client=ca-pub-8076040302380238\"\n",
    "     crossorigin=\"anonymous\"></script>\n",
    "<!-- inline_horizontal -->\n",
    "<ins class=\"adsbygoogle\"\n",
    "     style=\"display:block\"\n",
    "     data-ad-client=\"ca-pub-8076040302380238\"\n",
    "     data-ad-slot=\"9021194372\"\n",
    "     data-ad-format=\"auto\"\n",
    "     data-full-width-responsive=\"true\"></ins>\n",
    "<script>\n",
    "     (adsbygoogle = window.adsbygoogle || []).push({});\n",
    "</script>"
   ]
  }
 ],
 "metadata": {
  "language_info": {
   "name": "python"
  }
 },
 "nbformat": 4,
 "nbformat_minor": 2
}
