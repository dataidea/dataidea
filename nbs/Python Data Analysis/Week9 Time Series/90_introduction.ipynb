{
 "cells": [
  {
   "cell_type": "markdown",
   "metadata": {},
   "source": [
    "![Photo by DATAIDEA](../assets/banner4.png)"
   ]
  },
  {
   "cell_type": "markdown",
   "metadata": {},
   "source": [
    "# What is Time Series \n",
    "Any data recorded with some fixed interval of time is called as time series data. This fixed interval can be hourly, daily, monthly or yearly. e.g. hourly temp reading, daily changing fuel prices, monthly electricity bill, annul company profit report etc. In time series data, time will always be independent variable and there can be one or many dependent variable. \n",
    "\n",
    "Sales forecasting time series with shampoo sales for every month will look like this, \n",
    "\n",
    "![Shampoo_Sales](https://raw.githubusercontent.com/satishgunjal/images/master/Shampoo_Sales.png)\n",
    "\n",
    "In above example since there is only one variable dependent on time so its called as univariate time series. If there are multiple dependent variables, then its called as multivariate time series.\n",
    "\n",
    "Objective of time series analysis is to understand how change in time affect the dependent variables and accordingly predict values for future time intervals.\n",
    "\n",
    "\n",
    "## Time Series Characteristics \n",
    "Mean, standard deviation and seasonality defines different characteristics of the time series. \n",
    "\n",
    "![Time_Series_Characteristics](https://raw.githubusercontent.com/satishgunjal/images/master/Time_Series_Characteristics.png)\n",
    "\n",
    "Important characteristics of the time series are as below\n",
    "\n",
    "### Trend \n",
    "Trend represent the change in dependent variables with respect to time from start to end. In case of increasing trend dependent variable will increase with time and vice versa. It's not necessary to have definite trend in time series, we can have a single time series with increasing and decreasing trend. In short trend represent the varying mean of time series data.\n",
    "\n",
    "![Trend](https://raw.githubusercontent.com/satishgunjal/images/master/Trend.png)\n",
    "\n",
    "### Seasonality \n",
    "If observations repeats after fixed time interval then they are referred as seasonal observations. These seasonal changes in data can occur because of natural events or man-made events. For example every year warm cloths sales increases just before winter season. So seasonality represent the data variations at fixed intervals.\n",
    "\n",
    "![Seasonality](https://raw.githubusercontent.com/satishgunjal/images/master/Seasonality.png)\n",
    "\n",
    "### Irregularities \n",
    "This is also called as noise. Strange dips and jump in the data are called as irregularities. These fluctuations are caused by uncontrollable events like earthquakes, wars, flood, pandemic etc. For example because of COVID-19 pandemic there is huge demand for hand sanitizers and masks.\n",
    "\n",
    "![Irregularities](https://raw.githubusercontent.com/satishgunjal/images/master/Irregularities.png)\n",
    "\n",
    "### Cyclicity \n",
    "Cyclicity occurs when observations in the series repeats in random pattern. Note that if there is any fixed pattern then it becomes seasonality, in case of cyclicity observations may repeat after a week, months or may be after a year. These kinds of patterns are much harder to predict.\n",
    "\n",
    "![Cyclicity](https://raw.githubusercontent.com/satishgunjal/images/master/Cyclicity.png)\n",
    "\n",
    "Time series data which has above characteristics is called as 'Non-Stationary Data'. For any analysis on time series data we must convert it to 'Stationary Data'\n",
    "\n",
    "The general guideline is to estimate the trend and seasonality in the time series, and then make the time series stationary for data modeling. In data modeling step statistical techniques are used for time series analysis and forecasting. Once we have the predictions, in the final step forecasted values converted into the original scale by applying trend and seasonality constraints back."
   ]
  },
  {
   "cell_type": "markdown",
   "metadata": {},
   "source": [
    "## Do you seriously want to learn Python and Data Analysis with Python?\n",
    "\n",
    "If you’re serious about learning Python for Data Analysis, I highly encourage you to enroll in my Complete Python and Data Analysis Courses. Don’t waste your time following disconnected, outdated tutorials.\n",
    "\n",
    "My Complete Python Course has everything you need in one place.\n",
    "\n",
    "- Over 10 hours of HD video\n",
    "- Unlimited access - watch it as many times as you want\n",
    "- Self-paced learning - take your time if you prefer\n",
    "- Watch it online or download and watch it offline\n",
    "- One-on-one training with me 2-4 times a week\n",
    "\n",
    "Sincerely,\n",
    "\n",
    "Juma Shafara\n",
    "\n",
    "Data Scientist, Instructor\n",
    "\n",
    "DATAIDEA\n",
    "\n",
    "+256-771754118 / +256-701520768\n",
    "\n",
    "dataideaorg@gmail.com\n",
    "\n",
    "www.dataidea.org\n",
    "\n",
    "UMF House,\n",
    "Sir Apollo Kagwa Rd"
   ]
  }
 ],
 "metadata": {
  "kernelspec": {
   "display_name": "python3",
   "language": "python",
   "name": "python3"
  }
 },
 "nbformat": 4,
 "nbformat_minor": 4
}
