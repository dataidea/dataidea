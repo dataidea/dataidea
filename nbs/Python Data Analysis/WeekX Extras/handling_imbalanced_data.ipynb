{
 "cells": [
  {
   "cell_type": "markdown",
   "id": "24a841ec-6273-4a97-b122-108a731a8191",
   "metadata": {},
   "source": [
    "![Photo by DATAIDEA](../assets/banner4.png)"
   ]
  },
  {
   "cell_type": "markdown",
   "id": "7bed2e31-401a-45db-ae42-120bc6694bbc",
   "metadata": {},
   "source": [
    "## Handling Imbalanced Dataset"
   ]
  },
  {
   "cell_type": "markdown",
   "id": "82fc7fc0-1e81-4b06-a740-7bb5e7aa050c",
   "metadata": {},
   "source": [
    "Handling imbalanced datasets is a common challenge in machine learning, especially in classification tasks where one class significantly outnumbers the other(s). Let's go through a simple example using the popular Iris dataset, which we'll artificially imbalance for demonstration purposes. \n",
    "\n",
    "The Iris dataset consists of 150 samples, each belonging to one of three classes: Iris Setosa, Iris Versicolour, and Iris Virginica. We'll create an imbalanced version of this dataset where one class is underrepresented.\n",
    "\n",
    "First, let's load the dataset and create the imbalance: "
   ]
  },
  {
   "cell_type": "code",
   "execution_count": null,
   "id": "766412cc-7c77-46dc-9d2c-33866b9c5afd",
   "metadata": {},
   "outputs": [],
   "source": [
    "# !pip install imbalanced-learn\n",
    "# !pip install --upgrade dataidea"
   ]
  },
  {
   "cell_type": "code",
   "execution_count": null,
   "id": "d4f8b9b3-982d-4592-93bc-3850e41dd289",
   "metadata": {},
   "outputs": [],
   "source": [
    "from dataidea.packages import pd, plt\n",
    "from sklearn.datasets import load_iris"
   ]
  },
  {
   "cell_type": "code",
   "execution_count": null,
   "id": "d3e0740c-2955-4a63-bf43-6783a669ef31",
   "metadata": {},
   "outputs": [
    {
     "data": {
      "text/html": [
       "<div>\n",
       "<style scoped>\n",
       "    .dataframe tbody tr th:only-of-type {\n",
       "        vertical-align: middle;\n",
       "    }\n",
       "\n",
       "    .dataframe tbody tr th {\n",
       "        vertical-align: top;\n",
       "    }\n",
       "\n",
       "    .dataframe thead th {\n",
       "        text-align: right;\n",
       "    }\n",
       "</style>\n",
       "<table border=\"1\" class=\"dataframe\">\n",
       "  <thead>\n",
       "    <tr style=\"text-align: right;\">\n",
       "      <th></th>\n",
       "      <th>sepal length (cm)</th>\n",
       "      <th>sepal width (cm)</th>\n",
       "      <th>petal length (cm)</th>\n",
       "      <th>petal width (cm)</th>\n",
       "      <th>target</th>\n",
       "    </tr>\n",
       "  </thead>\n",
       "  <tbody>\n",
       "    <tr>\n",
       "      <th>0</th>\n",
       "      <td>5.1</td>\n",
       "      <td>3.5</td>\n",
       "      <td>1.4</td>\n",
       "      <td>0.2</td>\n",
       "      <td>0.0</td>\n",
       "    </tr>\n",
       "    <tr>\n",
       "      <th>1</th>\n",
       "      <td>4.9</td>\n",
       "      <td>3.0</td>\n",
       "      <td>1.4</td>\n",
       "      <td>0.2</td>\n",
       "      <td>0.0</td>\n",
       "    </tr>\n",
       "    <tr>\n",
       "      <th>2</th>\n",
       "      <td>4.7</td>\n",
       "      <td>3.2</td>\n",
       "      <td>1.3</td>\n",
       "      <td>0.2</td>\n",
       "      <td>0.0</td>\n",
       "    </tr>\n",
       "    <tr>\n",
       "      <th>3</th>\n",
       "      <td>4.6</td>\n",
       "      <td>3.1</td>\n",
       "      <td>1.5</td>\n",
       "      <td>0.2</td>\n",
       "      <td>0.0</td>\n",
       "    </tr>\n",
       "    <tr>\n",
       "      <th>4</th>\n",
       "      <td>5.0</td>\n",
       "      <td>3.6</td>\n",
       "      <td>1.4</td>\n",
       "      <td>0.2</td>\n",
       "      <td>0.0</td>\n",
       "    </tr>\n",
       "  </tbody>\n",
       "</table>\n",
       "</div>"
      ],
      "text/plain": [
       "   sepal length (cm)  sepal width (cm)  petal length (cm)  petal width (cm)  \\\n",
       "0                5.1               3.5                1.4               0.2   \n",
       "1                4.9               3.0                1.4               0.2   \n",
       "2                4.7               3.2                1.3               0.2   \n",
       "3                4.6               3.1                1.5               0.2   \n",
       "4                5.0               3.6                1.4               0.2   \n",
       "\n",
       "   target  \n",
       "0     0.0  \n",
       "1     0.0  \n",
       "2     0.0  \n",
       "3     0.0  \n",
       "4     0.0  "
      ]
     },
     "execution_count": null,
     "metadata": {},
     "output_type": "execute_result"
    }
   ],
   "source": [
    "# Load Iris dataset\n",
    "iris = load_iris()\n",
    "X = iris.data\n",
    "y = iris.target\n",
    "\n",
    "# Convert to DataFrame for manipulation\n",
    "df = pd.DataFrame(data=np.c_[X, y], \n",
    "                  columns=iris.feature_names + ['target'])\n",
    "\n",
    "df.head()"
   ]
  },
  {
   "cell_type": "markdown",
   "id": "77679c09-ded2-4edb-82ee-a19fe60ba5a3",
   "metadata": {},
   "source": [
    "### Introducing Imbalance"
   ]
  },
  {
   "cell_type": "code",
   "execution_count": null,
   "id": "33bd8e1b-d7d6-4663-a9f8-5af27c70b2c8",
   "metadata": {},
   "outputs": [
    {
     "name": "stdout",
     "output_type": "stream",
     "text": [
      "target\n",
      "0.0    50\n",
      "1.0    50\n",
      "2.0    25\n",
      "Name: count, dtype: int64\n"
     ]
    }
   ],
   "source": [
    "# Introduce imbalance by removing samples from one class\n",
    "class_to_remove = 2  # Iris Virginica\n",
    "imbalance_ratio = 0.5  # Ratio of samples to be removed\n",
    "indices_to_remove = np.random.choice(df[df['target'] == class_to_remove].index,\n",
    "                                     size=int(imbalance_ratio * len(df[df['target'] == class_to_remove])),\n",
    "                                     replace=False)\n",
    "df_imbalanced = df.drop(indices_to_remove)\n",
    "\n",
    "# Check the class distribution\n",
    "value_counts = df_imbalanced['target'].value_counts()\n",
    "print(value_counts)"
   ]
  },
  {
   "cell_type": "code",
   "execution_count": null,
   "id": "b222084e-5a75-43e9-adf1-ac22d56b4c5c",
   "metadata": {},
   "outputs": [
    {
     "data": {
      "image/png": "[encoded data removed]",
      "text/plain": [
       "<Figure size 640x480 with 1 Axes>"
      ]
     },
     "metadata": {},
     "output_type": "display_data"
    }
   ],
   "source": [
    "plt.bar(value_counts.index, \n",
    "        value_counts.values, \n",
    "        color=[\"#1f77b4\", \"#ff7f0e\", \"#2ca02c\"])\n",
    "\n",
    "# Adding labels and title\n",
    "plt.xlabel('Categories')\n",
    "plt.ylabel('Values')\n",
    "plt.title('Distribution of Target (Species)')\n",
    "\n",
    "plt.show()"
   ]
  },
  {
   "cell_type": "markdown",
   "id": "023da371-8415-4814-885f-788617c27310",
   "metadata": {},
   "source": [
    "Now, `df_imbalanced` contains the imbalanced dataset. Next, we'll demonstrate a few techniques to handle this imbalance:\n",
    "\n",
    "1. **Resampling Methods:**\n",
    "   - **Oversampling:** Randomly duplicate samples from the minority class.\n",
    "   - **Undersampling:** Randomly remove samples from the majority class.\n",
    "2. **Synthetic Sampling Methods:**\n",
    "   - **SMOTE (Synthetic Minority Over-sampling Technique):** Generates synthetic samples for the minority class.\n",
    "3. **Algorithmic Techniques:**\n",
    "   - **Algorithm Tuning:** Adjusting class weights in the algorithm.\n",
    "   - **Ensemble Methods:** Using ensemble techniques like bagging or boosting."
   ]
  },
  {
   "cell_type": "markdown",
   "id": "886460cb-2a7f-46e7-9300-b26f8b53d335",
   "metadata": {},
   "source": [
    "## Resampling \n",
    "### Oversampling\n",
    "Let's implement oversampling using the `imbalanced-learn` library:"
   ]
  },
  {
   "cell_type": "code",
   "execution_count": null,
   "id": "355ea522-9377-4ed1-a9ae-571a5a1ee987",
   "metadata": {},
   "outputs": [
    {
     "name": "stdout",
     "output_type": "stream",
     "text": [
      "target\n",
      "0.0    50\n",
      "1.0    50\n",
      "2.0    50\n",
      "Name: count, dtype: int64\n"
     ]
    }
   ],
   "source": [
    "from imblearn.over_sampling import RandomOverSampler\n",
    "\n",
    "# Separate features and target\n",
    "X_imbalanced = df_imbalanced.drop('target', axis=1)\n",
    "y_imbalanced = df_imbalanced['target']\n",
    "\n",
    "# Apply Random Over-Sampling\n",
    "oversample = RandomOverSampler(sampling_strategy='auto', \n",
    "                               random_state=42)\n",
    "X_resampled, y_resampled = oversample.fit_resample(X_imbalanced, y_imbalanced)\n",
    "\n",
    "# Check the class distribution after oversampling\n",
    "oversampled_data_value_counts = pd.Series(y_resampled).value_counts()\n",
    "print(oversampled_data_value_counts)"
   ]
  },
  {
   "cell_type": "code",
   "execution_count": null,
   "id": "b64e777e-c493-4fa0-822a-f706ce8e5af9",
   "metadata": {},
   "outputs": [
    {
     "data": {
      "image/png": "[encoded data removed]",
      "text/plain": [
       "<Figure size 640x480 with 1 Axes>"
      ]
     },
     "metadata": {},
     "output_type": "display_data"
    }
   ],
   "source": [
    "plt.bar(oversampled_data_value_counts.index, \n",
    "        oversampled_data_value_counts.values, \n",
    "        color=[\"#1f77b4\", \"#ff7f0e\", \"#2ca02c\"])\n",
    "\n",
    "# Adding labels and title\n",
    "plt.xlabel('Categories')\n",
    "plt.ylabel('Values')\n",
    "plt.title('Distribution of Target (Species)')\n",
    "\n",
    "plt.show()"
   ]
  },
  {
   "cell_type": "markdown",
   "id": "16d845e3-1da8-44f6-a95b-1828b5533790",
   "metadata": {},
   "source": [
    "### Undersampling:\n",
    "Undersampling involves reducing the number of samples in the majority class to balance the dataset. Here's how you can apply random undersampling using the `imbalanced-learn` library:"
   ]
  },
  {
   "cell_type": "code",
   "execution_count": null,
   "id": "337b7cae-988f-449b-8418-97110d4539d0",
   "metadata": {},
   "outputs": [
    {
     "name": "stdout",
     "output_type": "stream",
     "text": [
      "target\n",
      "0.0    25\n",
      "1.0    25\n",
      "2.0    25\n",
      "Name: count, dtype: int64\n"
     ]
    }
   ],
   "source": [
    "from imblearn.under_sampling import RandomUnderSampler\n",
    "\n",
    "# Apply Random Under-Sampling\n",
    "undersample = RandomUnderSampler(sampling_strategy='auto', random_state=42)\n",
    "X_resampled, y_resampled = undersample.fit_resample(X_imbalanced, y_imbalanced)\n",
    "\n",
    "# Check the class distribution after undersampling\n",
    "undersampled_data_value_counts = pd.Series(y_resampled).value_counts()\n",
    "print(undersampled_data_value_counts)"
   ]
  },
  {
   "cell_type": "code",
   "execution_count": null,
   "id": "30f4bdea-19e7-4665-b157-9f5f6e09db7b",
   "metadata": {},
   "outputs": [
    {
     "data": {
      "image/png": "[encoded data removed]",
      "text/plain": [
       "<Figure size 640x480 with 1 Axes>"
      ]
     },
     "metadata": {},
     "output_type": "display_data"
    }
   ],
   "source": [
    "plt.bar(undersampled_data_value_counts.index, \n",
    "        undersampled_data_value_counts.values, \n",
    "        color=[\"#1f77b4\", \"#ff7f0e\", \"#2ca02c\"])\n",
    "\n",
    "# Adding labels and title\n",
    "plt.xlabel('Categories')\n",
    "plt.ylabel('Values')\n",
    "plt.title('Distribution of Target (Species)')\n",
    "\n",
    "plt.show()"
   ]
  },
  {
   "cell_type": "markdown",
   "id": "3e5e06e5-88cb-4165-bc3b-30492d0ba99c",
   "metadata": {},
   "source": [
    "## SMOTE (Synthetic Minority Over-sampling Technique)\n",
    "SMOTE generates synthetic samples for the minority class by interpolating between existing minority class samples.\n",
    "\n",
    "Here's how you can apply SMOTE using the `imbalanced-learn` library:"
   ]
  },
  {
   "cell_type": "code",
   "execution_count": null,
   "id": "9ba10541-60e9-43e2-b5bf-2500f46903a9",
   "metadata": {},
   "outputs": [
    {
     "name": "stdout",
     "output_type": "stream",
     "text": [
      "target\n",
      "0.0    50\n",
      "1.0    50\n",
      "2.0    50\n",
      "Name: count, dtype: int64\n"
     ]
    }
   ],
   "source": [
    "from imblearn.over_sampling import SMOTE\n",
    "\n",
    "# Apply SMOTE\n",
    "smote = SMOTE(sampling_strategy='auto', random_state=42)\n",
    "X_resampled, y_resampled = smote.fit_resample(X_imbalanced, y_imbalanced)\n",
    "\n",
    "# Check the class distribution after SMOTE\n",
    "smoted_data_value_counts = pd.Series(y_resampled).value_counts()\n",
    "print(smoted_data_value_counts)"
   ]
  },
  {
   "cell_type": "code",
   "execution_count": null,
   "id": "e41a60c3-030f-4a14-97db-774754d8f240",
   "metadata": {},
   "outputs": [
    {
     "data": {
      "image/png": "[encoded data removed]",
      "text/plain": [
       "<Figure size 640x480 with 1 Axes>"
      ]
     },
     "metadata": {},
     "output_type": "display_data"
    }
   ],
   "source": [
    "plt.bar(smoted_data_value_counts.index, \n",
    "        smoted_data_value_counts.values, \n",
    "        color=[\"#1f77b4\", \"#ff7f0e\", \"#2ca02c\"])\n",
    "\n",
    "# Adding labels and title\n",
    "plt.xlabel('Categories')\n",
    "plt.ylabel('Values')\n",
    "plt.title('Distribution of Target (Species)')\n",
    "\n",
    "plt.show()"
   ]
  },
  {
   "cell_type": "markdown",
   "id": "e6ee7ab9-56a8-45f8-8f54-b951cf1c5e68",
   "metadata": {},
   "source": [
    "By using SMOTE, you can generate synthetic samples for the minority class, effectively increasing its representation in the dataset. This can help to mitigate the class imbalance issue and improve the performance of your machine learning model."
   ]
  },
  {
   "cell_type": "markdown",
   "id": "aeef97de-de50-4a84-88d7-6da2e5ff7ebf",
   "metadata": {},
   "source": [
    "## Algorithmic Techniques"
   ]
  },
  {
   "cell_type": "markdown",
   "id": "5f4ce936-754a-41a6-9e2e-ff444d1dc5af",
   "metadata": {},
   "source": [
    "### Algorithm Tuning:\n",
    "Many algorithms allow you to specify class weights to penalize misclassifications of the minority class more heavily. Here's an example using the `class_weight` parameter in a logistic regression classifier:"
   ]
  },
  {
   "cell_type": "code",
   "execution_count": null,
   "id": "4a15ffc8-43d1-4e34-9e77-54cb4f0886d4",
   "metadata": {},
   "outputs": [],
   "source": [
    "from sklearn.model_selection import train_test_split\n",
    "from sklearn.linear_model import LogisticRegression\n",
    "from sklearn.metrics import classification_report"
   ]
  },
  {
   "cell_type": "code",
   "execution_count": null,
   "id": "b0e51cd5-f9c3-4505-b3f2-526debedb83c",
   "metadata": {},
   "outputs": [
    {
     "data": {
      "text/html": [
       "<div>\n",
       "<style scoped>\n",
       "    .dataframe tbody tr th:only-of-type {\n",
       "        vertical-align: middle;\n",
       "    }\n",
       "\n",
       "    .dataframe tbody tr th {\n",
       "        vertical-align: top;\n",
       "    }\n",
       "\n",
       "    .dataframe thead th {\n",
       "        text-align: right;\n",
       "    }\n",
       "</style>\n",
       "<table border=\"1\" class=\"dataframe\">\n",
       "  <thead>\n",
       "    <tr style=\"text-align: right;\">\n",
       "      <th></th>\n",
       "      <th>precision</th>\n",
       "      <th>recall</th>\n",
       "      <th>f1-score</th>\n",
       "      <th>support</th>\n",
       "    </tr>\n",
       "  </thead>\n",
       "  <tbody>\n",
       "    <tr>\n",
       "      <th>0.0</th>\n",
       "      <td>1.000000</td>\n",
       "      <td>1.000000</td>\n",
       "      <td>1.000000</td>\n",
       "      <td>13.00</td>\n",
       "    </tr>\n",
       "    <tr>\n",
       "      <th>1.0</th>\n",
       "      <td>1.000000</td>\n",
       "      <td>0.750000</td>\n",
       "      <td>0.857143</td>\n",
       "      <td>8.00</td>\n",
       "    </tr>\n",
       "    <tr>\n",
       "      <th>2.0</th>\n",
       "      <td>0.666667</td>\n",
       "      <td>1.000000</td>\n",
       "      <td>0.800000</td>\n",
       "      <td>4.00</td>\n",
       "    </tr>\n",
       "    <tr>\n",
       "      <th>accuracy</th>\n",
       "      <td>0.920000</td>\n",
       "      <td>0.920000</td>\n",
       "      <td>0.920000</td>\n",
       "      <td>0.92</td>\n",
       "    </tr>\n",
       "    <tr>\n",
       "      <th>macro avg</th>\n",
       "      <td>0.888889</td>\n",
       "      <td>0.916667</td>\n",
       "      <td>0.885714</td>\n",
       "      <td>25.00</td>\n",
       "    </tr>\n",
       "    <tr>\n",
       "      <th>weighted avg</th>\n",
       "      <td>0.946667</td>\n",
       "      <td>0.920000</td>\n",
       "      <td>0.922286</td>\n",
       "      <td>25.00</td>\n",
       "    </tr>\n",
       "  </tbody>\n",
       "</table>\n",
       "</div>"
      ],
      "text/plain": [
       "              precision    recall  f1-score  support\n",
       "0.0            1.000000  1.000000  1.000000    13.00\n",
       "1.0            1.000000  0.750000  0.857143     8.00\n",
       "2.0            0.666667  1.000000  0.800000     4.00\n",
       "accuracy       0.920000  0.920000  0.920000     0.92\n",
       "macro avg      0.888889  0.916667  0.885714    25.00\n",
       "weighted avg   0.946667  0.920000  0.922286    25.00"
      ]
     },
     "execution_count": null,
     "metadata": {},
     "output_type": "execute_result"
    }
   ],
   "source": [
    "# Split the data into training and testing sets\n",
    "X_train, X_test, y_train, y_test = train_test_split(X_imbalanced, y_imbalanced, \n",
    "                                                    test_size=0.2, random_state=42)\n",
    "\n",
    "# Define the logistic regression classifier with class weights\n",
    "class_weights = {0: 1, 1: 1, 2: 20}  # Penalize the minority class more heavily\n",
    "log_reg = LogisticRegression(class_weight=class_weights)\n",
    "\n",
    "# Train the model\n",
    "log_reg.fit(X_train, y_train)\n",
    "\n",
    "# Evaluate the model\n",
    "y_pred = log_reg.predict(X_test)\n",
    "\n",
    "# display classification report\n",
    "pd.DataFrame(classification_report(y_test, y_pred, output_dict=True)).transpose()"
   ]
  },
  {
   "cell_type": "markdown",
   "id": "be1fdc3a-9bff-4fd4-b9a9-3f0da360d4f5",
   "metadata": {},
   "source": [
    "In this example, the class weight for the minority class is increased to penalize misclassifications more heavily."
   ]
  },
  {
   "cell_type": "markdown",
   "id": "0d80e728-97d2-4c4a-bd65-da615f674b52",
   "metadata": {},
   "source": [
    "### Ensemble Methods\n",
    "Ensemble methods can also be effective for handling imbalanced datasets. Techniques such as bagging and boosting can improve the performance of classifiers, especially when dealing with imbalanced classes.\n",
    "\n",
    "Here's an example of using ensemble methods like Random Forest, a popular bagging algorithm, with an imbalanced dataset:"
   ]
  },
  {
   "cell_type": "code",
   "execution_count": null,
   "id": "76444d1f-89d9-4b55-a95a-88e206a562fd",
   "metadata": {},
   "outputs": [
    {
     "name": "stdout",
     "output_type": "stream",
     "text": [
      "Random Forest Classifier:\n"
     ]
    },
    {
     "data": {
      "text/html": [
       "<div>\n",
       "<style scoped>\n",
       "    .dataframe tbody tr th:only-of-type {\n",
       "        vertical-align: middle;\n",
       "    }\n",
       "\n",
       "    .dataframe tbody tr th {\n",
       "        vertical-align: top;\n",
       "    }\n",
       "\n",
       "    .dataframe thead th {\n",
       "        text-align: right;\n",
       "    }\n",
       "</style>\n",
       "<table border=\"1\" class=\"dataframe\">\n",
       "  <thead>\n",
       "    <tr style=\"text-align: right;\">\n",
       "      <th></th>\n",
       "      <th>precision</th>\n",
       "      <th>recall</th>\n",
       "      <th>f1-score</th>\n",
       "      <th>support</th>\n",
       "    </tr>\n",
       "  </thead>\n",
       "  <tbody>\n",
       "    <tr>\n",
       "      <th>0.0</th>\n",
       "      <td>1.000000</td>\n",
       "      <td>1.000000</td>\n",
       "      <td>1.000000</td>\n",
       "      <td>13.00</td>\n",
       "    </tr>\n",
       "    <tr>\n",
       "      <th>1.0</th>\n",
       "      <td>1.000000</td>\n",
       "      <td>0.875000</td>\n",
       "      <td>0.933333</td>\n",
       "      <td>8.00</td>\n",
       "    </tr>\n",
       "    <tr>\n",
       "      <th>2.0</th>\n",
       "      <td>0.800000</td>\n",
       "      <td>1.000000</td>\n",
       "      <td>0.888889</td>\n",
       "      <td>4.00</td>\n",
       "    </tr>\n",
       "    <tr>\n",
       "      <th>accuracy</th>\n",
       "      <td>0.960000</td>\n",
       "      <td>0.960000</td>\n",
       "      <td>0.960000</td>\n",
       "      <td>0.96</td>\n",
       "    </tr>\n",
       "    <tr>\n",
       "      <th>macro avg</th>\n",
       "      <td>0.933333</td>\n",
       "      <td>0.958333</td>\n",
       "      <td>0.940741</td>\n",
       "      <td>25.00</td>\n",
       "    </tr>\n",
       "    <tr>\n",
       "      <th>weighted avg</th>\n",
       "      <td>0.968000</td>\n",
       "      <td>0.960000</td>\n",
       "      <td>0.960889</td>\n",
       "      <td>25.00</td>\n",
       "    </tr>\n",
       "  </tbody>\n",
       "</table>\n",
       "</div>"
      ],
      "text/plain": [
       "              precision    recall  f1-score  support\n",
       "0.0            1.000000  1.000000  1.000000    13.00\n",
       "1.0            1.000000  0.875000  0.933333     8.00\n",
       "2.0            0.800000  1.000000  0.888889     4.00\n",
       "accuracy       0.960000  0.960000  0.960000     0.96\n",
       "macro avg      0.933333  0.958333  0.940741    25.00\n",
       "weighted avg   0.968000  0.960000  0.960889    25.00"
      ]
     },
     "execution_count": null,
     "metadata": {},
     "output_type": "execute_result"
    }
   ],
   "source": [
    "from sklearn.ensemble import RandomForestClassifier\n",
    "from sklearn.metrics import classification_report\n",
    "\n",
    "# Define and train Random Forest classifier\n",
    "rf_classifier = RandomForestClassifier(n_estimators=100, random_state=42)\n",
    "rf_classifier.fit(X_train, y_train)\n",
    "\n",
    "# Predict on the test set\n",
    "y_pred_rf = rf_classifier.predict(X_test)\n",
    "\n",
    "# Evaluate the performance\n",
    "print(\"Random Forest Classifier:\")\n",
    "pd.DataFrame(data=classification_report(y_test, y_pred_rf, output_dict=True)).transpose()"
   ]
  },
  {
   "cell_type": "markdown",
   "id": "f81b8bcb-498f-4fb6-9652-2cf59a2c964e",
   "metadata": {},
   "source": [
    "Ensemble methods like Random Forest build multiple decision trees and combine their predictions to make a final prediction. This can often lead to better generalization and performance, even in the presence of imbalanced classes."
   ]
  },
  {
   "cell_type": "markdown",
   "id": "33cbb6c2-3240-4955-b94c-58c6786ad259",
   "metadata": {},
   "source": [
    "### AdaBoost Classifier\n",
    "Another ensemble method that specifically addresses class imbalance is AdaBoost (Adaptive Boosting). AdaBoost focuses more on those training instances that were previously misclassified, thus giving higher weight to the minority class instances."
   ]
  },
  {
   "cell_type": "code",
   "execution_count": null,
   "id": "1f96020a-a5b4-4aef-a0ea-cc7f47f35f34",
   "metadata": {},
   "outputs": [
    {
     "name": "stdout",
     "output_type": "stream",
     "text": [
      "AdaBoost Classifier:\n"
     ]
    },
    {
     "name": "stderr",
     "output_type": "stream",
     "text": [
      "/home/jumashafara/venvs/dataidea/lib/python3.10/site-packages/sklearn/ensemble/_weight_boosting.py:519: FutureWarning: The SAMME.R algorithm (the default) is deprecated and will be removed in 1.6. Use the SAMME algorithm to circumvent this warning.\n",
      "  warnings.warn(\n"
     ]
    },
    {
     "data": {
      "text/html": [
       "<div>\n",
       "<style scoped>\n",
       "    .dataframe tbody tr th:only-of-type {\n",
       "        vertical-align: middle;\n",
       "    }\n",
       "\n",
       "    .dataframe tbody tr th {\n",
       "        vertical-align: top;\n",
       "    }\n",
       "\n",
       "    .dataframe thead th {\n",
       "        text-align: right;\n",
       "    }\n",
       "</style>\n",
       "<table border=\"1\" class=\"dataframe\">\n",
       "  <thead>\n",
       "    <tr style=\"text-align: right;\">\n",
       "      <th></th>\n",
       "      <th>precision</th>\n",
       "      <th>recall</th>\n",
       "      <th>f1-score</th>\n",
       "      <th>support</th>\n",
       "    </tr>\n",
       "  </thead>\n",
       "  <tbody>\n",
       "    <tr>\n",
       "      <th>0.0</th>\n",
       "      <td>1.000000</td>\n",
       "      <td>1.000000</td>\n",
       "      <td>1.000000</td>\n",
       "      <td>13.00</td>\n",
       "    </tr>\n",
       "    <tr>\n",
       "      <th>1.0</th>\n",
       "      <td>1.000000</td>\n",
       "      <td>0.875000</td>\n",
       "      <td>0.933333</td>\n",
       "      <td>8.00</td>\n",
       "    </tr>\n",
       "    <tr>\n",
       "      <th>2.0</th>\n",
       "      <td>0.800000</td>\n",
       "      <td>1.000000</td>\n",
       "      <td>0.888889</td>\n",
       "      <td>4.00</td>\n",
       "    </tr>\n",
       "    <tr>\n",
       "      <th>accuracy</th>\n",
       "      <td>0.960000</td>\n",
       "      <td>0.960000</td>\n",
       "      <td>0.960000</td>\n",
       "      <td>0.96</td>\n",
       "    </tr>\n",
       "    <tr>\n",
       "      <th>macro avg</th>\n",
       "      <td>0.933333</td>\n",
       "      <td>0.958333</td>\n",
       "      <td>0.940741</td>\n",
       "      <td>25.00</td>\n",
       "    </tr>\n",
       "    <tr>\n",
       "      <th>weighted avg</th>\n",
       "      <td>0.968000</td>\n",
       "      <td>0.960000</td>\n",
       "      <td>0.960889</td>\n",
       "      <td>25.00</td>\n",
       "    </tr>\n",
       "  </tbody>\n",
       "</table>\n",
       "</div>"
      ],
      "text/plain": [
       "              precision    recall  f1-score  support\n",
       "0.0            1.000000  1.000000  1.000000    13.00\n",
       "1.0            1.000000  0.875000  0.933333     8.00\n",
       "2.0            0.800000  1.000000  0.888889     4.00\n",
       "accuracy       0.960000  0.960000  0.960000     0.96\n",
       "macro avg      0.933333  0.958333  0.940741    25.00\n",
       "weighted avg   0.968000  0.960000  0.960889    25.00"
      ]
     },
     "execution_count": null,
     "metadata": {},
     "output_type": "execute_result"
    }
   ],
   "source": [
    "from sklearn.ensemble import AdaBoostClassifier\n",
    "\n",
    "# Define and train AdaBoost classifier\n",
    "ada_classifier = AdaBoostClassifier(n_estimators=100, random_state=42)\n",
    "ada_classifier.fit(X_train, y_train)\n",
    "\n",
    "# Predict on the test set\n",
    "y_pred_ada = ada_classifier.predict(X_test)\n",
    "\n",
    "# Evaluate the performance\n",
    "print(\"AdaBoost Classifier:\")\n",
    "pd.DataFrame(data=classification_report(y_test, y_pred_ada, output_dict=True)).transpose()"
   ]
  },
  {
   "cell_type": "markdown",
   "id": "40677eea-ccf9-4d18-aba2-9d5e2c98218c",
   "metadata": {},
   "source": [
    "By utilizing ensemble methods like Random Forest and AdaBoost, you can often achieve better performance on imbalanced datasets compared to individual classifiers, as these methods inherently mitigate the effects of class imbalance through their construction."
   ]
  },
  {
   "cell_type": "markdown",
   "id": "86028650-9820-44d9-9ca3-f18d9bb73791",
   "metadata": {},
   "source": [
    "These are just a few techniques for handling imbalanced datasets. It's crucial to experiment with different methods and evaluate their performance using appropriate evaluation metrics to find the best approach for your specific problem."
   ]
  },
  {
   "cell_type": "markdown",
   "id": "03a897d6",
   "metadata": {},
   "source": [
    "A few ads maybe displayed for income as resources are now offered freely. 🤝🤝🤝\n",
    "<!-- Insert AdSense script dynamically -->\n",
    "<script>\n",
    "    (function() {\n",
    "        var adScript = document.createElement('script');\n",
    "        adScript.src = 'https://pagead2.googlesyndication.com/pagead/js/adsbygoogle.js?client=ca-pub-8076040302380238';\n",
    "        adScript.async = true;\n",
    "        adScript.crossorigin=\"anonymous\"\n",
    "        document.head.appendChild(adScript);\n",
    "    })();\n",
    "</script>\n"
   ]
  }
 ],
 "metadata": {
  "kernelspec": {
   "display_name": "python3",
   "language": "python",
   "name": "python3"
  }
 },
 "nbformat": 4,
 "nbformat_minor": 5
}
