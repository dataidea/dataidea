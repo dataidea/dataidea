{
 "cells": [
  {
   "cell_type": "markdown",
   "id": "18aa18a6-e428-44a0-983a-7776d149f1ab",
   "metadata": {},
   "source": [
    "![Photo by DATAIDEA](../assets/banner4.png)"
   ]
  },
  {
   "cell_type": "markdown",
   "id": "002bb931-7d58-4306-88d9-d7a2b420b113",
   "metadata": {},
   "source": [
    "## Feature Selection"
   ]
  },
  {
   "cell_type": "markdown",
   "id": "08d2982b-beb9-4836-89e5-06a698be3b58",
   "metadata": {},
   "source": [
    "Feature selection is a process where you automatically select those features in your data that contribute most to the prediction variable or output in which you are interested.\n",
    "\n",
    "Having irrelevant features in your data can decrease the accuracy of many models, especially linear algorithms like linear and logistic regression.\n",
    "\n",
    "Three benefits of performing feature selection before modeling your data are:\n",
    "\n",
    "- Reduces Overfitting: Less redundant data means less opportunity to make decisions based on noise.\n",
    "- Improves Accuracy: Less misleading data means modeling accuracy improves.\n",
    "- Reduces Training Time: Less data means that algorithms train faster.\n",
    "\n",
    "You can learn more about feature selection with scikit-learn in the article [Feature selection](https://scikit-learn.org/stable/modules/feature_selection.html)."
   ]
  },
  {
   "cell_type": "code",
   "execution_count": 2,
   "id": "667c25c9-8854-46f1-b2d4-6654c09b3edb",
   "metadata": {},
   "outputs": [],
   "source": [
    "import pandas as pd\n",
    "from sklearn.model_selection import train_test_split\n",
    "from dataidea.datasets import loadDataset"
   ]
  },
  {
   "cell_type": "code",
   "execution_count": 3,
   "id": "b1ab88cc-367a-4f63-b070-25789aa5c168",
   "metadata": {},
   "outputs": [
    {
     "data": {
      "text/html": [
       "<div>\n",
       "<style scoped>\n",
       "    .dataframe tbody tr th:only-of-type {\n",
       "        vertical-align: middle;\n",
       "    }\n",
       "\n",
       "    .dataframe tbody tr th {\n",
       "        vertical-align: top;\n",
       "    }\n",
       "\n",
       "    .dataframe thead th {\n",
       "        text-align: right;\n",
       "    }\n",
       "</style>\n",
       "<table border=\"1\" class=\"dataframe\">\n",
       "  <thead>\n",
       "    <tr style=\"text-align: right;\">\n",
       "      <th></th>\n",
       "      <th>age</th>\n",
       "      <th>gender</th>\n",
       "      <th>marital_status</th>\n",
       "      <th>address</th>\n",
       "      <th>income</th>\n",
       "      <th>income_category</th>\n",
       "      <th>job_category</th>\n",
       "    </tr>\n",
       "  </thead>\n",
       "  <tbody>\n",
       "    <tr>\n",
       "      <th>0</th>\n",
       "      <td>55</td>\n",
       "      <td>f</td>\n",
       "      <td>1</td>\n",
       "      <td>12</td>\n",
       "      <td>72.0</td>\n",
       "      <td>3.0</td>\n",
       "      <td>3</td>\n",
       "    </tr>\n",
       "    <tr>\n",
       "      <th>1</th>\n",
       "      <td>56</td>\n",
       "      <td>m</td>\n",
       "      <td>0</td>\n",
       "      <td>29</td>\n",
       "      <td>153.0</td>\n",
       "      <td>4.0</td>\n",
       "      <td>3</td>\n",
       "    </tr>\n",
       "    <tr>\n",
       "      <th>2</th>\n",
       "      <td>24</td>\n",
       "      <td>m</td>\n",
       "      <td>1</td>\n",
       "      <td>4</td>\n",
       "      <td>26.0</td>\n",
       "      <td>2.0</td>\n",
       "      <td>1</td>\n",
       "    </tr>\n",
       "    <tr>\n",
       "      <th>3</th>\n",
       "      <td>45</td>\n",
       "      <td>m</td>\n",
       "      <td>0</td>\n",
       "      <td>9</td>\n",
       "      <td>76.0</td>\n",
       "      <td>4.0</td>\n",
       "      <td>2</td>\n",
       "    </tr>\n",
       "    <tr>\n",
       "      <th>4</th>\n",
       "      <td>44</td>\n",
       "      <td>m</td>\n",
       "      <td>1</td>\n",
       "      <td>17</td>\n",
       "      <td>144.0</td>\n",
       "      <td>4.0</td>\n",
       "      <td>3</td>\n",
       "    </tr>\n",
       "  </tbody>\n",
       "</table>\n",
       "</div>"
      ],
      "text/plain": [
       "   age gender  marital_status  address  income  income_category  job_category\n",
       "0   55      f               1       12    72.0              3.0             3\n",
       "1   56      m               0       29   153.0              4.0             3\n",
       "2   24      m               1        4    26.0              2.0             1\n",
       "3   45      m               0        9    76.0              4.0             2\n",
       "4   44      m               1       17   144.0              4.0             3"
      ]
     },
     "execution_count": 3,
     "metadata": {},
     "output_type": "execute_result"
    }
   ],
   "source": [
    "data = loadDataset('../assets/demo_cleaned.csv', \n",
    "                    inbuilt=False, file_type='csv')\n",
    "data.head()"
   ]
  },
  {
   "cell_type": "code",
   "execution_count": 4,
   "id": "8b1509aa-98f4-462e-aa71-8fd9ec5f6312",
   "metadata": {},
   "outputs": [
    {
     "data": {
      "text/html": [
       "<div>\n",
       "<style scoped>\n",
       "    .dataframe tbody tr th:only-of-type {\n",
       "        vertical-align: middle;\n",
       "    }\n",
       "\n",
       "    .dataframe tbody tr th {\n",
       "        vertical-align: top;\n",
       "    }\n",
       "\n",
       "    .dataframe thead th {\n",
       "        text-align: right;\n",
       "    }\n",
       "</style>\n",
       "<table border=\"1\" class=\"dataframe\">\n",
       "  <thead>\n",
       "    <tr style=\"text-align: right;\">\n",
       "      <th></th>\n",
       "      <th>age</th>\n",
       "      <th>marital_status</th>\n",
       "      <th>address</th>\n",
       "      <th>income</th>\n",
       "      <th>income_category</th>\n",
       "      <th>job_category</th>\n",
       "      <th>gender_m</th>\n",
       "    </tr>\n",
       "  </thead>\n",
       "  <tbody>\n",
       "    <tr>\n",
       "      <th>0</th>\n",
       "      <td>55</td>\n",
       "      <td>1</td>\n",
       "      <td>12</td>\n",
       "      <td>72.0</td>\n",
       "      <td>3.0</td>\n",
       "      <td>3</td>\n",
       "      <td>0</td>\n",
       "    </tr>\n",
       "    <tr>\n",
       "      <th>1</th>\n",
       "      <td>56</td>\n",
       "      <td>0</td>\n",
       "      <td>29</td>\n",
       "      <td>153.0</td>\n",
       "      <td>4.0</td>\n",
       "      <td>3</td>\n",
       "      <td>1</td>\n",
       "    </tr>\n",
       "    <tr>\n",
       "      <th>2</th>\n",
       "      <td>24</td>\n",
       "      <td>1</td>\n",
       "      <td>4</td>\n",
       "      <td>26.0</td>\n",
       "      <td>2.0</td>\n",
       "      <td>1</td>\n",
       "      <td>1</td>\n",
       "    </tr>\n",
       "    <tr>\n",
       "      <th>3</th>\n",
       "      <td>45</td>\n",
       "      <td>0</td>\n",
       "      <td>9</td>\n",
       "      <td>76.0</td>\n",
       "      <td>4.0</td>\n",
       "      <td>2</td>\n",
       "      <td>1</td>\n",
       "    </tr>\n",
       "    <tr>\n",
       "      <th>4</th>\n",
       "      <td>44</td>\n",
       "      <td>1</td>\n",
       "      <td>17</td>\n",
       "      <td>144.0</td>\n",
       "      <td>4.0</td>\n",
       "      <td>3</td>\n",
       "      <td>1</td>\n",
       "    </tr>\n",
       "  </tbody>\n",
       "</table>\n",
       "</div>"
      ],
      "text/plain": [
       "   age  marital_status  address  income  income_category  job_category  \\\n",
       "0   55               1       12    72.0              3.0             3   \n",
       "1   56               0       29   153.0              4.0             3   \n",
       "2   24               1        4    26.0              2.0             1   \n",
       "3   45               0        9    76.0              4.0             2   \n",
       "4   44               1       17   144.0              4.0             3   \n",
       "\n",
       "   gender_m  \n",
       "0         0  \n",
       "1         1  \n",
       "2         1  \n",
       "3         1  \n",
       "4         1  "
      ]
     },
     "execution_count": 4,
     "metadata": {},
     "output_type": "execute_result"
    }
   ],
   "source": [
    "data = pd.get_dummies(data, columns=['gender'], \n",
    "                      dtype='int', drop_first=True)\n",
    "data.head(n=5)"
   ]
  },
  {
   "cell_type": "markdown",
   "id": "c44563b5-79d7-4764-b2e3-6dafa7086138",
   "metadata": {},
   "source": [
    "## Univariate Selection\n",
    "Statistical tests can be used to select those features that have the strongest relationship with the output variable.\n",
    "\n",
    "The scikit-learn library provides the `SelectKBest` class that can be used with a suite of different statistical tests to select a specific number of features.\n",
    "\n",
    "Many different statistical tests can be used with this selection method. For example the *ANOVA F-value* method is appropriate for numerical inputs and categorical data. This can be used via the f_classif() function. We will select the 4 best features using this method in the example below."
   ]
  },
  {
   "cell_type": "code",
   "execution_count": 5,
   "id": "69bd8f24-ad5d-4040-b329-4a1434654499",
   "metadata": {},
   "outputs": [],
   "source": [
    "from sklearn.feature_selection import SelectKBest\n",
    "from sklearn.feature_selection import f_classif\n",
    "from sklearn.feature_selection import f_regression\n",
    "from sklearn.feature_selection import chi2"
   ]
  },
  {
   "cell_type": "markdown",
   "id": "f4f58738",
   "metadata": {},
   "source": [
    "Let's first separate our data into features ie `X` and outcome ie `y` as below."
   ]
  },
  {
   "cell_type": "code",
   "execution_count": 21,
   "id": "51d92f80-f9f6-4f92-8ce3-1f0979357a80",
   "metadata": {},
   "outputs": [],
   "source": [
    "X = data.drop('marital_status', axis=1)\n",
    "y = data.marital_status"
   ]
  },
  {
   "cell_type": "markdown",
   "id": "7cb4a9b9",
   "metadata": {},
   "source": [
    "### Numeric Features with Categorical Outcome\n",
    "Beginning with the numeric columns, let's find which of them best contributes to the outcome variable"
   ]
  },
  {
   "cell_type": "code",
   "execution_count": 22,
   "id": "ac3f805e-8810-4a3e-a35b-1981db4793be",
   "metadata": {},
   "outputs": [],
   "source": [
    "X_numeric = X[['age', 'income', 'address']].copy()"
   ]
  },
  {
   "cell_type": "code",
   "execution_count": 24,
   "id": "a31694e0-9343-4873-b73c-b303ac8271cf",
   "metadata": {},
   "outputs": [
    {
     "name": "stdout",
     "output_type": "stream",
     "text": [
      "Feature Scores:  [1.34973748 1.73808724 0.02878244]\n",
      "Selected Features Indices:  [0 1]\n"
     ]
    }
   ],
   "source": [
    "# create a test object from SelectKBest\n",
    "test = SelectKBest(score_func=f_classif, k=2)\n",
    "\n",
    "# fit the test object to the data\n",
    "fit = test.fit(X_numeric, y)\n",
    "\n",
    "# get the scores and features\n",
    "scores = fit.scores_\n",
    "\n",
    "# get the selected indices\n",
    "features = fit.transform(X_numeric)\n",
    "selected_indices = test.get_support(indices=True)\n",
    "\n",
    "# print the scores and features\n",
    "print('Feature Scores: ', scores)\n",
    "print('Selected Features Indices: ', selected_indices)"
   ]
  },
  {
   "cell_type": "markdown",
   "id": "a6a7b55c",
   "metadata": {},
   "source": [
    "This shows us that the best 2 features to use to differentiate between the groups in our outcome are `[0, 1]` ie `age` and `income`"
   ]
  },
  {
   "cell_type": "markdown",
   "id": "2e630f33",
   "metadata": {},
   "source": [
    "### Numeric Features with Numeric Outcome\n",
    "Let's selecting the input features `X`, and the output (outcome), `y`"
   ]
  },
  {
   "cell_type": "code",
   "execution_count": 25,
   "id": "32719b23-5115-496f-82a8-3a4212c15e78",
   "metadata": {},
   "outputs": [],
   "source": [
    "# pick numeric input and output\n",
    "X = data[['age', 'address']].copy()\n",
    "y = data.income"
   ]
  },
  {
   "cell_type": "markdown",
   "id": "158d4a5a",
   "metadata": {},
   "source": [
    "We will still use the `SelectKBest` class but with our `score_func` as `f_regression` instead. "
   ]
  },
  {
   "cell_type": "code",
   "execution_count": 26,
   "id": "f256d55b-780d-4590-a0fb-b5a5ecdf5eaf",
   "metadata": {},
   "outputs": [
    {
     "name": "stdout",
     "output_type": "stream",
     "text": [
      "Feature Scores:  [25.18294605 23.43115992]\n",
      "Selected Features Indices:  [0]\n"
     ]
    }
   ],
   "source": [
    "test = SelectKBest(score_func=f_regression, k=1)\n",
    "\n",
    "# Fit the test to the data\n",
    "fit = test.fit(X, y)\n",
    "\n",
    "# get scores\n",
    "test_scores = fit.scores_\n",
    "\n",
    "# summarize selected features\n",
    "features = fit.transform(X)\n",
    "\n",
    "# Get the selected feature indices\n",
    "selected_indices = fit.get_support(indices=True)\n",
    "\n",
    "print('Feature Scores: ', test_scores)\n",
    "print('Selected Features Indices: ', selected_indices)"
   ]
  },
  {
   "cell_type": "markdown",
   "id": "2dd82a85",
   "metadata": {},
   "source": [
    "Here, we can see that `age` is selected because it returns the higher f_statistic between the two features"
   ]
  },
  {
   "cell_type": "markdown",
   "id": "97d8d788",
   "metadata": {},
   "source": [
    "### Both input and outcome Categorical\n",
    "\n",
    "Let's begin by selecting out only the categorical features to make our `X` set and set `y` as categorical"
   ]
  },
  {
   "cell_type": "code",
   "execution_count": 27,
   "id": "82ad19ab-adcb-439b-b5ce-8640edcb6892",
   "metadata": {},
   "outputs": [],
   "source": [
    "# selecting categorical features\n",
    "X = data[['gender_m', 'income_category', 'job_category']].copy()\n",
    "\n",
    "# selecting categorical outcome\n",
    "y = data.marital_status"
   ]
  },
  {
   "cell_type": "markdown",
   "id": "f934f057",
   "metadata": {},
   "source": [
    "Now we shall again use `SelectKBest` but with the `score_func` as `chi2`."
   ]
  },
  {
   "cell_type": "code",
   "execution_count": 28,
   "id": "3aa391d1-0af0-4ec0-a256-2dd3029f189f",
   "metadata": {},
   "outputs": [
    {
     "name": "stdout",
     "output_type": "stream",
     "text": [
      "Feature Scores:  [0.20921223 0.61979264 0.00555967]\n",
      "Selected Features Indices:  [0 1]\n"
     ]
    }
   ],
   "source": [
    "test = SelectKBest(score_func=chi2, k=2)\n",
    "fit = test.fit(X, y)\n",
    "scores = fit.scores_\n",
    "features = fit.transform(X)\n",
    "selected_indices = fit.get_support(indices=True)\n",
    "\n",
    "print('Feature Scores: ', scores)\n",
    "print('Selected Features Indices: ', selected_indices)"
   ]
  },
  {
   "cell_type": "markdown",
   "id": "7fade8df",
   "metadata": {},
   "source": [
    "Again, we can see that the features with higher f_statistic scores have been selected"
   ]
  },
  {
   "cell_type": "markdown",
   "id": "94b9c102",
   "metadata": {},
   "source": [
    "- `f_classif` is most applicable where the input features are continuous and the outcome is categorical.\n",
    "- `f_regression` is most applicable where the input features are continuous and the outcome is continuous.\n",
    "- `chi2` is best for when the both the input and outcome are categorical."
   ]
  },
  {
   "cell_type": "markdown",
   "id": "ce0298ef-12ed-4ea1-b021-d1b22c5eb7f3",
   "metadata": {},
   "source": [
    "## Recursive Feature Elimination\n",
    "The Recursive Feature Elimination (or RFE) works by recursively removing attributes and building a model on those attributes that remain.\n",
    "\n",
    "It uses the model accuracy to identify which attributes (and combination of attributes) contribute the most to predicting the target attribute.\n",
    "\n",
    "You can learn more about the RFE class in the [scikit-learn documentation](https://scikit-learn.org/stable/modules/generated/sklearn.feature_selection.RFE.html)."
   ]
  },
  {
   "cell_type": "markdown",
   "id": "f3ce8008",
   "metadata": {},
   "source": [
    "### Logistic Regression"
   ]
  },
  {
   "cell_type": "code",
   "execution_count": 14,
   "id": "d3402545-d4e9-40da-9b46-7f8d8025fbed",
   "metadata": {},
   "outputs": [],
   "source": [
    "from sklearn.feature_selection import RFE\n",
    "from sklearn.linear_model import LogisticRegression"
   ]
  },
  {
   "cell_type": "code",
   "execution_count": 15,
   "id": "09e35521",
   "metadata": {},
   "outputs": [],
   "source": [
    "X = data.drop('marital_status', axis=1)\n",
    "y = data.marital_status"
   ]
  },
  {
   "cell_type": "code",
   "execution_count": 16,
   "id": "c8bfb229-f48d-407b-9090-fed93afd4951",
   "metadata": {},
   "outputs": [
    {
     "name": "stdout",
     "output_type": "stream",
     "text": [
      "Num Features: 3\n",
      "Selected Features: [False False False  True  True  True]\n",
      "Feature Ranking: [2 3 4 1 1 1]\n"
     ]
    }
   ],
   "source": [
    "# feature extraction\n",
    "model = LogisticRegression()\n",
    "rfe = RFE(model)\n",
    "fit = rfe.fit(X, y)\n",
    "\n",
    "print(\"Num Features: %d\" % fit.n_features_)\n",
    "print(\"Selected Features: %s\" % fit.support_)\n",
    "print(\"Feature Ranking: %s\" % fit.ranking_)"
   ]
  },
  {
   "cell_type": "markdown",
   "id": "e974ef18",
   "metadata": {},
   "source": [
    "From the operation above, we can observe features that bring out the best from the `LogisticRegression` model ranked from `1` as most best and bigger numbers as less."
   ]
  },
  {
   "cell_type": "markdown",
   "id": "f54b853c-53d7-4f86-84fe-2f0ecb21932f",
   "metadata": {},
   "source": [
    "## Feature Importance\n",
    "Bagged decision trees like Random Forest and Extra Trees can be used to estimate the importance of features.\n",
    "\n",
    "In the example below we construct a ExtraTreesClassifier classifier for the Pima Indians onset of diabetes dataset. You can learn more about the ExtraTreesClassifier class in the scikit-learn API."
   ]
  },
  {
   "cell_type": "markdown",
   "id": "566a680c",
   "metadata": {},
   "source": [
    "### Extra Trees Classifier"
   ]
  },
  {
   "cell_type": "code",
   "execution_count": 17,
   "id": "c573aaa5-95ef-4c34-9ba1-9056c73fc9f6",
   "metadata": {},
   "outputs": [],
   "source": [
    "from sklearn.ensemble import ExtraTreesClassifier\n",
    "from sklearn.ensemble import RandomForestClassifier"
   ]
  },
  {
   "cell_type": "code",
   "execution_count": 18,
   "id": "7c86f3d2-589c-41cc-bcb9-c89f6c8424d9",
   "metadata": {},
   "outputs": [
    {
     "name": "stdout",
     "output_type": "stream",
     "text": [
      "[0.29058207 0.24978811 0.26342117 0.06763375 0.08501043 0.04356447]\n"
     ]
    }
   ],
   "source": [
    "# feature extraction\n",
    "model = ExtraTreesClassifier()\n",
    "model.fit(X, y)\n",
    "\n",
    "# see the best features\n",
    "print(model.feature_importances_)"
   ]
  },
  {
   "cell_type": "markdown",
   "id": "7e9cd132",
   "metadata": {},
   "source": [
    "### Random Forest Classifier"
   ]
  },
  {
   "cell_type": "code",
   "execution_count": 19,
   "id": "7db51618-e308-4d73-acc4-b4562f6cfde7",
   "metadata": {},
   "outputs": [
    {
     "name": "stdout",
     "output_type": "stream",
     "text": [
      "[0.28660896 0.26276849 0.28562863 0.06317586 0.06307544 0.03874262]\n"
     ]
    }
   ],
   "source": [
    "# feature extraction\n",
    "model = RandomForestClassifier()\n",
    "model.fit(X, y)\n",
    "\n",
    "# see the best features\n",
    "print(model.feature_importances_)"
   ]
  },
  {
   "cell_type": "markdown",
   "id": "e2f3d51d",
   "metadata": {},
   "source": [
    "more about random forest [here](https://scikit-learn.org/stable/modules/generated/sklearn.ensemble.RandomForestClassifier.html)"
   ]
  }
 ],
 "metadata": {
  "kernelspec": {
   "display_name": "python3",
   "language": "python",
   "name": "python3"
  },
  "language_info": {
   "codemirror_mode": {
    "name": "ipython",
    "version": 3
   },
   "file_extension": ".py",
   "mimetype": "text/x-python",
   "name": "python",
   "nbconvert_exporter": "python",
   "pygments_lexer": "ipython3",
   "version": "3.10.12"
  }
 },
 "nbformat": 4,
 "nbformat_minor": 5
}
