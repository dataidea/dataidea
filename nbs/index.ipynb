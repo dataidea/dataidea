{
 "cells": [
  {
   "cell_type": "markdown",
   "metadata": {},
   "source": [
    "## Welcome to DATAIDEA"
   ]
  },
  {
   "cell_type": "markdown",
   "metadata": {},
   "source": [
    "<div style=\"background-color: #3a6e68; border:1px solid #3a6e68; color: #fff; font-weight: 700; padding-left: 10px; padding-top: 5px; padding-bottom: 5px\"><strong>NOTE:</strong></div>\n",
    "<div style=\"background-color: #f3f4f7; padding-left: 10px; padding-top: 10px; padding-bottom: 10px; padding-right: 10px\">\n",
    "<p>We have re-develped our website to use jupyter notebooks, which is the tool we mostly use for teaching. This is so that you can access updated learning materials faster.</p>\n",
    "<p class=pb-1>\n",
    "To be among the first to hear about future updates of the course materials, simply enter your email below, follow us on <a href=\"https://x.com/dataideaorg\"><i class=\"bi bi-twitter-x\"></i>\n",
    " (formally Twitter)</a>, or subscribe to our <a href=\"https://www.youtube.com/@dataideaorg\"><i class=\"bi bi-youtube\"></i> YouTube channel</a>.\n",
    "</p>\n",
    "<iframe src=\"https://embeds.beehiiv.com/5fc7c425-9c7e-4e08-a514-ad6c22beee74?slim=true\" data-test-id=\"beehiiv-embed\" height=\"52\" frameborder=\"0\" scrolling=\"no\" style=\"margin: 0; border-radius: 0px !important; background-color: transparent; width: 100%;\" ></iframe>\n",
    "</div>\n"
   ]
  },
  {
   "cell_type": "markdown",
   "metadata": {},
   "source": [
    "## Learn Programming For Data Science"
   ]
  },
  {
   "cell_type": "markdown",
   "metadata": {},
   "source": [
    "- Programming for Data Science is a subject we've designed to explore the various programming components of data science. \n",
    "- You'll learn programming techniques to do Data Science stuff like data manipulation, analysis, visualization, machine learning. "
   ]
  },
  {
   "cell_type": "markdown",
   "metadata": {},
   "source": [
    "This subject has been split into specific courses as below. The duration is the average of what our older students have taken, but can be longer or shorter for different types of students:\n",
    "\n",
    "- [Fundamentals of Programming (Python)(1 month) <i class=\"bi bi-arrow-right-circle\" title=\"Get Started\"></i>](./Python/00_outline.ipynb)\n",
    "- [Data Analysis with Python <i class=\"bi bi-arrow-right-circle\" title=\"Get Started\"></i> (2 months)](./Python-Data-Analysis/outline.ipynb)\n",
    "- [Machine Learning (1 month) <i class=\"bi bi-arrow-right-circle\" title=\"Get Started\"></i>](./Python-Data-Analysis/Week4-ML-Intro/41_overview_of_machine_learning.ipynb)\n",
    "- [Deep Learning with Pytorch (3-5 months) <i class=\"bi bi-arrow-right-circle\" title=\"Get Started\"></i>](./Pytorch/pytorch_outline.ipynb)\n",
    "- Database Management with SQL and Python (optional) (1 month)\n",
    "- [Web Development with Django (optional) (2-6 months) <i class=\"bi bi-arrow-right-circle\" title=\"Get Started\"></i>](https://web.dataidea.org)"
   ]
  },
  {
   "cell_type": "markdown",
   "metadata": {},
   "source": [
    "This subject can be taken as a whole or you can take specific parts of strong interest or application to you and your field. But if you're a complete beginner, we advise you take the whole subject."
   ]
  },
  {
   "cell_type": "markdown",
   "metadata": {},
   "source": [
    "Here is how our subject is offered:\n",
    "\n",
    "- Duration: (Depends on the course units you have chosen) \n",
    "- Sessions: Four times a week (one on one) \n",
    "- Timing: Evenings or/and weekends \n",
    "- Location: Online or/and at UMF House, Sir Apollo Kagwa Road"
   ]
  },
  {
   "cell_type": "markdown",
   "metadata": {},
   "source": [
    "If you’re serious about learning Programming and getting prepared for Data Science and Web Development roles, I highly encourage you to enroll in our programming courses.\n",
    "\n",
    "Don’t waste your time following disconnected, outdated tutorials. We can teach you all that you need to kickstart your career.\n",
    "\n",
    "Contact us at:\n",
    "\n",
    "- dataideaorg@gmail.com\n",
    "- +256701520768 / +256771754118\n",
    "- www.dataidea.org"
   ]
  }
 ],
 "metadata": {
  "kernelspec": {
   "display_name": "python3",
   "language": "python",
   "name": "python3"
  }
 },
 "nbformat": 4,
 "nbformat_minor": 4
}
