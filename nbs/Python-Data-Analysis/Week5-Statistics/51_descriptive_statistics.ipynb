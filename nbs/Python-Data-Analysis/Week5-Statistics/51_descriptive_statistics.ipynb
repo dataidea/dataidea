{
 "cells": [
  {
   "cell_type": "markdown",
   "metadata": {},
   "source": [
    "---\n",
    "title: Descriptive Statistics\n",
    "keywords: [descriptive statistics, \"what is descriptive statistics\", Measures of central tendency, mean, median, mode, Measures of variability, range, variance,standard deviation, Measures of distribution shape, skewness, kurtosis, Measures of association, quantify the relationship between variables, coefficients]\n",
    "---\n",
    "<style>\n",
    "     .keywords {\n",
    "          display: none\n",
    "     }\n",
    "</style>"
   ]
  },
  {
   "cell_type": "markdown",
   "metadata": {},
   "source": [
    "![Photo by DATAIDEA](../assets/banner4.png)"
   ]
  },
  {
   "cell_type": "code",
   "execution_count": 1,
   "metadata": {},
   "outputs": [],
   "source": [
    "#| hide\n",
    "#| default_exp statistics"
   ]
  },
  {
   "cell_type": "code",
   "execution_count": 2,
   "metadata": {},
   "outputs": [],
   "source": [
    "## Uncomment and run this cell to install the packages\n",
    "# !pip install --upgrade dataidea"
   ]
  },
  {
   "cell_type": "code",
   "execution_count": 1,
   "metadata": {},
   "outputs": [],
   "source": [
    "import pandas as pd\n",
    "import numpy as np\n",
    "import scipy as sp\n",
    "import matplotlib.pyplot as plt"
   ]
  },
  {
   "cell_type": "markdown",
   "metadata": {},
   "source": [
    "This notebook has been modified to use the Nobel Price Laureates Dataset which you can download from [opendatasoft](https://public.opendatasoft.com/explore/dataset/nobel-prize-laureates/export/?disjunctive.category)"
   ]
  },
  {
   "cell_type": "markdown",
   "metadata": {},
   "source": [
    "## Descriptive Statistics and Summary Metrics"
   ]
  },
  {
   "cell_type": "markdown",
   "metadata": {},
   "source": [
    "Descriptive statistics is a branch of statistics that deals with the presentation and summary of data in a meaningful and informative way. Its primary goal is to describe and summarize the main features of a dataset. \n",
    "\n",
    "Commonly used measures in descriptive statistics include:\n",
    "\n",
    "1. Measures of central tendency: These describe the center or average of a dataset and include metrics like mean, median, and mode.\n",
    "\n",
    "2. Measures of variability: These indicate the spread or dispersion of the data and include metrics like range, variance, and standard deviation.\n",
    "\n",
    "3. Measures of distribution shape: These describe the distribution of data points and include metrics like skewness and kurtosis.\n",
    "\n",
    "4. Measures of association: These quantify the relationship between variables and include correlation coefficients.\n",
    "\n",
    "Descriptive statistics provide simple summaries about the sample and the observations that have been made."
   ]
  },
  {
   "cell_type": "markdown",
   "metadata": {},
   "source": [
    "#### 1. **Measures of central tendency ie Mean, Median, Mode**:\n",
    "**The Center of the Data:**\n",
    "\n",
    "The center of the data is where most of the values are concentrated.\n",
    "\n",
    "   - Mean: It is the average value of a dataset calculated by summing all values(numerical) and dividing by the total count.\n",
    "   - Median: It is the middle value of a dataset when arranged in ascending order. If there is an even number of observations, the median is the average of the two middle values.\n",
    "   - Mode: It is the value that appears most frequently in a dataset.\n"
   ]
  },
  {
   "cell_type": "code",
   "execution_count": 2,
   "metadata": {},
   "outputs": [
    {
     "data": {
      "text/html": [
       "<div>\n",
       "<style scoped>\n",
       "    .dataframe tbody tr th:only-of-type {\n",
       "        vertical-align: middle;\n",
       "    }\n",
       "\n",
       "    .dataframe tbody tr th {\n",
       "        vertical-align: top;\n",
       "    }\n",
       "\n",
       "    .dataframe thead th {\n",
       "        text-align: right;\n",
       "    }\n",
       "</style>\n",
       "<table border=\"1\" class=\"dataframe\">\n",
       "  <thead>\n",
       "    <tr style=\"text-align: right;\">\n",
       "      <th></th>\n",
       "      <th>Year</th>\n",
       "      <th>Gender</th>\n",
       "      <th>Category</th>\n",
       "      <th>birth_year</th>\n",
       "      <th>age</th>\n",
       "    </tr>\n",
       "  </thead>\n",
       "  <tbody>\n",
       "    <tr>\n",
       "      <th>238</th>\n",
       "      <td>1911</td>\n",
       "      <td>male</td>\n",
       "      <td>Physics</td>\n",
       "      <td>1864</td>\n",
       "      <td>47</td>\n",
       "    </tr>\n",
       "    <tr>\n",
       "      <th>183</th>\n",
       "      <td>1937</td>\n",
       "      <td>male</td>\n",
       "      <td>Physics</td>\n",
       "      <td>1881</td>\n",
       "      <td>56</td>\n",
       "    </tr>\n",
       "    <tr>\n",
       "      <th>361</th>\n",
       "      <td>1902</td>\n",
       "      <td>male</td>\n",
       "      <td>Literature</td>\n",
       "      <td>1817</td>\n",
       "      <td>85</td>\n",
       "    </tr>\n",
       "    <tr>\n",
       "      <th>893</th>\n",
       "      <td>1931</td>\n",
       "      <td>male</td>\n",
       "      <td>Medicine</td>\n",
       "      <td>1883</td>\n",
       "      <td>48</td>\n",
       "    </tr>\n",
       "    <tr>\n",
       "      <th>539</th>\n",
       "      <td>1981</td>\n",
       "      <td>male</td>\n",
       "      <td>Physics</td>\n",
       "      <td>1920</td>\n",
       "      <td>61</td>\n",
       "    </tr>\n",
       "  </tbody>\n",
       "</table>\n",
       "</div>"
      ],
      "text/plain": [
       "     Year Gender    Category  birth_year  age\n",
       "238  1911   male     Physics        1864   47\n",
       "183  1937   male     Physics        1881   56\n",
       "361  1902   male  Literature        1817   85\n",
       "893  1931   male    Medicine        1883   48\n",
       "539  1981   male     Physics        1920   61"
      ]
     },
     "execution_count": 2,
     "metadata": {},
     "output_type": "execute_result"
    }
   ],
   "source": [
    "# load the dataset (modify the path to point to your copy of the dataset)\n",
    "data = pd.read_csv('../assets/nobel_prize_year.csv')\n",
    "data.sample(n=5)"
   ]
  },
  {
   "cell_type": "code",
   "execution_count": 3,
   "metadata": {},
   "outputs": [],
   "source": [
    "# removing organizations\n",
    "data = data[data.Gender != 'org']"
   ]
  },
  {
   "cell_type": "code",
   "execution_count": 4,
   "metadata": {},
   "outputs": [
    {
     "name": "stdout",
     "output_type": "stream",
     "text": [
      "Mean: 60.21383647798742\n",
      "Median: 60.0\n",
      "Mode: 56\n"
     ]
    }
   ],
   "source": [
    "ages = data.age\n",
    "\n",
    "# Let's get the values that \n",
    "# describe the center of the ages data \n",
    "mean_value = np.mean(ages)\n",
    "median_value = np.median(ages)\n",
    "mode_value = sp.stats.mode(ages)[0]\n",
    "\n",
    "# Let's print the values\n",
    "print(\"Mean:\", mean_value)\n",
    "print(\"Median:\", median_value)\n",
    "print(\"Mode:\", mode_value)"
   ]
  },
  {
   "cell_type": "markdown",
   "metadata": {},
   "source": [
    "**Homework:**\n",
    "- Other ways to find mode (ie using pandas and numpy)"
   ]
  },
  {
   "cell_type": "markdown",
   "metadata": {},
   "source": [
    "\n",
    "#### 2. **Measures of variability**\n",
    "**The Variation of the Data:**\n",
    "\n",
    "The variation of the data is how spread out the data are around the center.\n",
    "\n",
    "   **a) Variance and Standard Deviation**:\n",
    "   - Variance: It measures the spread of the data points around the mean.\n",
    "   - Standard Deviation: It is the square root of the variance, providing a measure of the average distance between each data point and the mean.\n",
    "\n",
    ">In summary, variance provides a measure of dispersion in squared units, while standard deviation provides a measure of dispersion in the original units of the data\n"
   ]
  },
  {
   "cell_type": "code",
   "execution_count": 11,
   "metadata": {},
   "outputs": [
    {
     "name": "stdout",
     "output_type": "stream",
     "text": [
      "Variance: 159.28551085795658\n",
      "Standard Deviation: 12.620836377116873\n"
     ]
    }
   ],
   "source": [
    "# how to implement the variance and standard deviation using numpy\n",
    "variance_value = np.var(ages)\n",
    "std_deviation_value = np.std(ages)\n",
    "\n",
    "print(\"Variance:\", variance_value)\n",
    "print(\"Standard Deviation:\", std_deviation_value)"
   ]
  },
  {
   "cell_type": "markdown",
   "metadata": {},
   "source": [
    ">Smaller variances and standard deviation values mean that the data has values similar to each other and closer to the mean and the vice versa is true"
   ]
  },
  {
   "cell_type": "code",
   "execution_count": 12,
   "metadata": {},
   "outputs": [
    {
     "name": "stdout",
     "output_type": "stream",
     "text": [
      "First Standard Deviation: 12.620836377116873\n",
      "Second Standard Deviation: 25.241672754233747\n",
      "Third Standard Deviation: 37.86250913135062\n"
     ]
    }
   ],
   "source": [
    "# Multiply by 2 for the second standard deviation\n",
    "std_second = 2 * std_deviation_value  \n",
    "\n",
    "# Multiply by 3 for the third standard deviation\n",
    "std_third = 3 * std_deviation_value   \n",
    "\n",
    "print(\"First Standard Deviation:\", std_deviation_value)\n",
    "print(\"Second Standard Deviation:\", std_second)\n",
    "print(\"Third Standard Deviation:\", std_third)\n",
    "\n",
    "# empirical rule, also known as the 68-95-99.7 rule, "
   ]
  },
  {
   "cell_type": "code",
   "execution_count": 13,
   "metadata": {},
   "outputs": [
    {
     "data": {
      "image/png": "[encoded data removed]",
      "text/plain": [
       "<Figure size 640x480 with 1 Axes>"
      ]
     },
     "metadata": {},
     "output_type": "display_data"
    }
   ],
   "source": [
    "plt.hist(x=ages, bins=20, edgecolor='black')\n",
    "# add standard deviation lines\n",
    "plt.axvline(mean_value, color='red', linestyle='--', label='Mean')\n",
    "plt.axvline(mean_value+std_deviation_value, color='orange', linestyle='--', label='1st std Dev')\n",
    "plt.axvline(mean_value-std_deviation_value, color='orange', linestyle='--')\n",
    "plt.axvline(mean_value+std_second, color='black', linestyle='--', label='2nd Std Dev')\n",
    "plt.axvline(mean_value-std_second, color='black', linestyle='--')\n",
    "plt.axvline(mean_value+std_third, color='green', linestyle='--', label='3rd Std Dev')\n",
    "plt.axvline(mean_value-std_third, color='green', linestyle='--')\n",
    "plt.title('Age of Nobel Prize Winners')\n",
    "plt.ylabel('Frequency')\n",
    "plt.xlabel('Age')\n",
    "# Adjust the position of the legend\n",
    "plt.legend(loc='upper left')\n",
    "\n",
    "plt.show()"
   ]
  },
  {
   "cell_type": "markdown",
   "metadata": {},
   "source": [
    "**The rule to consider:**\n",
    "\n",
    "The empirical rule, also known as the 68-95-99.7 rule, describes the distribution of data in a normal distribution. According to this rule:\n",
    "\n",
    "1. Approximately 68% of the data falls within one standard deviation of the mean.\n",
    "2. Approximately 95% of the data falls within two standard deviations of the mean.\n",
    "3. Approximately 99.7% of the data falls within three standard deviations of the mean."
   ]
  },
  {
   "cell_type": "markdown",
   "metadata": {},
   "source": [
    "\n",
    " b) **Range and Interquartile Range (IQR)**:\n",
    "   - Range: It is the difference between the maximum and minimum values in a dataset. It is simplest measure of variation\n",
    "   - Interquartile Range (IQR): It is the range between the first quartile (25th percentile) and the third quartile (75th percentile) of the dataset.\n",
    "\n",
    ">In summary, while the range gives an overview of the entire spread of the data from lowest to highest, the interquartile range focuses s`pecifically on the spread of the middle portion of the data, making it more robust against outliers.\n"
   ]
  },
  {
   "cell_type": "code",
   "execution_count": 14,
   "metadata": {},
   "outputs": [
    {
     "name": "stdout",
     "output_type": "stream",
     "text": [
      "Range: 80\n"
     ]
    }
   ],
   "source": [
    "# One way to obtain range\n",
    "min_age = min(ages)\n",
    "max_age = max(ages)\n",
    "age_range = max_age - min_age\n",
    "print('Range:', age_range)"
   ]
  },
  {
   "cell_type": "code",
   "execution_count": 15,
   "metadata": {},
   "outputs": [
    {
     "name": "stdout",
     "output_type": "stream",
     "text": [
      "Range: 80\n"
     ]
    }
   ],
   "source": [
    "# Calculating the range using numpy\n",
    "range_value = np.ptp(ages)\n",
    "\n",
    "print(\"Range:\", range_value)"
   ]
  },
  {
   "cell_type": "code",
   "execution_count": 16,
   "metadata": {},
   "outputs": [
    {
     "data": {
      "image/png": "[encoded data removed]",
      "text/plain": [
       "<Figure size 640x480 with 1 Axes>"
      ]
     },
     "metadata": {},
     "output_type": "display_data"
    }
   ],
   "source": [
    "plt.hist(x=ages, bins=20, edgecolor='black')\n",
    "# add standard deviation lines\n",
    "plt.axvline(min_age, color='green', linestyle='--', label=f'Min({min_age})')\n",
    "plt.axvline(max_age, color='red', linestyle='--', label=f'Max({max_age})')\n",
    "plt.plot([min_age, max_age], [170, 170], label=f'Range({age_range})')\n",
    "# labels\n",
    "plt.title('Age of Nobel Prize Winners')\n",
    "plt.ylabel('Frequency')\n",
    "plt.xlabel('Age')\n",
    "# Adjust the position of the legend\n",
    "plt.legend(loc='upper left')\n",
    "plt.show()"
   ]
  },
  {
   "cell_type": "markdown",
   "metadata": {},
   "source": [
    "**Quartiles:**"
   ]
  },
  {
   "cell_type": "markdown",
   "metadata": {},
   "source": [
    "**Calculating Quartiles**"
   ]
  },
  {
   "cell_type": "markdown",
   "metadata": {},
   "source": [
    "The quartiles (Q0,Q1,Q2,Q3,Q4) are the values that separate each quarter.\n",
    "\n",
    "Between Q0 and Q1 are the 25% lowest values in the data. Between Q1 and Q2 are the next 25%. And so on.\n",
    "\n",
    "- Q0 is the smallest value in the data.\n",
    "- Q1 is the value separating the first quarter from the second quarter of the data.\n",
    "- Q2 is the middle value (median), separating the bottom from the top half.\n",
    "- Q3 is the value separating the third quarter from the fourth quarter\n",
    "- Q4 is the largest value in the data."
   ]
  },
  {
   "cell_type": "code",
   "execution_count": 41,
   "metadata": {},
   "outputs": [
    {
     "name": "stdout",
     "output_type": "stream",
     "text": [
      "[17. 51. 60. 69. 97.]\n"
     ]
    }
   ],
   "source": [
    "# Calculate the quartile\n",
    "quartiles = np.quantile(a=ages, q=[0, 0.25, 0.5, 0.75, 1])\n",
    "\n",
    "print(quartiles)"
   ]
  },
  {
   "cell_type": "code",
   "execution_count": 37,
   "metadata": {},
   "outputs": [
    {
     "data": {
      "image/png": "[encoded data removed]",
      "text/plain": [
       "<Figure size 640x480 with 1 Axes>"
      ]
     },
     "metadata": {},
     "output_type": "display_data"
    }
   ],
   "source": [
    "plt.hist(x=ages, bins=20, edgecolor='black')\n",
    "# add standard deviation lines\n",
    "plt.axvline(quartiles[0], color='orange', linestyle='--', label=f'Q0({quartiles[0]})')\n",
    "plt.axvline(quartiles[1], color='red', linestyle='--', label=f'Q1({quartiles[1]})')\n",
    "plt.axvline(quartiles[2], color='green', linestyle='--', label=f'Q2({quartiles[2]})')\n",
    "plt.axvline(quartiles[3], color='blue', linestyle='--', label=f'Q3({quartiles[3]})')\n",
    "plt.axvline(quartiles[4], color='black', linestyle='--', label=f'Q4({quartiles[4]})')\n",
    "plt.plot([quartiles[0], quartiles[1]], [180, 180], color='red', label=f'25%')\n",
    "plt.plot([quartiles[0], quartiles[2]], [175, 175], color='green', label=f'50%')\n",
    "plt.plot([quartiles[0], quartiles[3]], [170, 170], color='blue', label=f'75%')\n",
    "plt.plot([quartiles[0], quartiles[4]], [165, 165], color='black', label=f'100%')\n",
    "# labels\n",
    "plt.title('Age of Nobel Prize Winners')\n",
    "plt.ylabel('Frequency')\n",
    "plt.xlabel('Age')\n",
    "# Adjust the position of the legend\n",
    "plt.legend(loc='center left')\n",
    "plt.show()"
   ]
  },
  {
   "cell_type": "markdown",
   "metadata": {},
   "source": [
    "**Percentiles:**\n",
    "\n",
    "Percentiles are values that separate the data into 100 equal parts.\n",
    "\n",
    "For example, The 95th percentile separates the lowest 95% of the values from the top 5%\n",
    "\n",
    "- The 25th percentile (P25%) is the same as the first quartile (Q1).\n",
    "\n",
    "- The 50th percentile (P50%) is the same as the second quartile (Q2) and the median.\n",
    "\n",
    "- The 75th percentile (P75%) is the same as the third quartile (Q3)\n",
    "\n",
    "**Calculating Percentiles with Python**"
   ]
  },
  {
   "cell_type": "markdown",
   "metadata": {},
   "source": [
    "To get all the percentile values, we can use `np.percentile()` method and pass in the data, and the list of the percentiles as showed below."
   ]
  },
  {
   "cell_type": "code",
   "execution_count": 49,
   "metadata": {},
   "outputs": [
    {
     "data": {
      "text/plain": [
       "array([51., 60., 69.])"
      ]
     },
     "execution_count": 49,
     "metadata": {},
     "output_type": "execute_result"
    }
   ],
   "source": [
    "# Getting many percentiles\n",
    "np.percentile(ages, [25, 50, 75])"
   ]
  },
  {
   "cell_type": "markdown",
   "metadata": {},
   "source": [
    "To get a single percentile value, we can again use the `np.percentile()` method and pass in the data, and a the specicific percentile you're interested in eg:"
   ]
  },
  {
   "cell_type": "code",
   "execution_count": 44,
   "metadata": {},
   "outputs": [
    {
     "name": "stdout",
     "output_type": "stream",
     "text": [
      "first_quartile:  51.0\n",
      "middle_percentile:  60.0\n",
      "third_quartile 69.0\n"
     ]
    }
   ],
   "source": [
    "# Getting one percentile at a time\n",
    "first_quartile = np.percentile(a=ages, q=25) # 25th percentile\n",
    "middle_percentile = np.percentile(ages, 50)\n",
    "third_quartile = np.percentile(ages, 75) # 75th percentile\n",
    "\n",
    "print('first_quartile: ', first_quartile)\n",
    "print('middle_percentile: ', middle_percentile)  \n",
    "print('third_quartile', third_quartile)"
   ]
  },
  {
   "cell_type": "markdown",
   "metadata": {},
   "source": [
    "<div class=\"alert text-white rounded\" style=\"background: #3a6e68;\"><h4>Note!</h4><p>Note also that we can be able to use the `np.quantile()` method  to calculate the percentiles which makes logical sense as all the values mark a fraction(percentage) of the data</p></div>\n"
   ]
  },
  {
   "cell_type": "code",
   "execution_count": 51,
   "metadata": {},
   "outputs": [
    {
     "name": "stdout",
     "output_type": "stream",
     "text": [
      "Percentiles: [51. 60. 69.]\n"
     ]
    }
   ],
   "source": [
    "percentiles = np.quantile(a=ages, q=[0.25, 0.50, 0.75])\n",
    "print('Percentiles:', percentiles)"
   ]
  },
  {
   "cell_type": "markdown",
   "metadata": {},
   "source": [
    "Now we can be able to obtain the interquartile range as the difference between the third and first quartiles as predefined."
   ]
  },
  {
   "cell_type": "code",
   "execution_count": 53,
   "metadata": {},
   "outputs": [
    {
     "name": "stdout",
     "output_type": "stream",
     "text": [
      "Interquartile range:  18.0\n"
     ]
    }
   ],
   "source": [
    "# obtain the interquartile\n",
    "iqr_value = third_quartile - first_quartile\n",
    "\n",
    "print('Interquartile range: ', iqr_value)"
   ]
  },
  {
   "cell_type": "markdown",
   "metadata": {},
   "source": [
    "Note: *Quartiles and percentiles are both types of quantiles*"
   ]
  },
  {
   "cell_type": "markdown",
   "metadata": {},
   "source": [
    "#### 3. **Measures of distribution shape ie Skewness and Kurtosis**:\n",
    "**The shape of the Data:**\n",
    "\n",
    "The shape of the data refers to how the data are bounded on either side of the center.\n",
    "   - Skewness: It measures the asymmetry of the distribution.\n",
    "   - Kurtosis: It measures the peakedness or flatness of the distribution.\n",
    "\n",
    "<div class=\"alert text-white rounded\" style=\"background: #3a6e68;\"><h4>Note!</h4><p>In simple terms, skewness tells you if your data is leaning more to one side or the other, while kurtosis tells you if your data has heavy or light tails and how sharply it peaks.</p></div>"
   ]
  },
  {
   "cell_type": "code",
   "execution_count": 56,
   "metadata": {},
   "outputs": [
    {
     "data": {
      "image/png": "[encoded data removed]",
      "text/plain": [
       "<Figure size 640x480 with 1 Axes>"
      ]
     },
     "metadata": {},
     "output_type": "display_data"
    }
   ],
   "source": [
    "# Plot the histogram\n",
    "# Set density=True for normalized histogram\n",
    "plt.hist(x=ages, bins=20, density=True, edgecolor='black')  \n",
    "\n",
    "# Create a normal distribution curve\n",
    "xmin, xmax = plt.xlim()\n",
    "x = np.linspace(xmin, xmax, 100)\n",
    "p = sp.stats.norm.pdf(x, mean_value, std_deviation_value)\n",
    "plt.plot(x, p, 'k', linewidth=2)  \n",
    "# 'k' indicates black color, you can change it to any color\n",
    "\n",
    "# Labels and legend\n",
    "plt.xlabel('Age')\n",
    "plt.ylabel('Probability Density')\n",
    "plt.title('Histogram with Normal Distribution Curve')\n",
    "plt.legend(['Normal Distribution', 'Histogram'])\n",
    "\n",
    "plt.show()"
   ]
  },
  {
   "cell_type": "code",
   "execution_count": 58,
   "metadata": {},
   "outputs": [
    {
     "name": "stdout",
     "output_type": "stream",
     "text": [
      "Skewness: -0.028324578326524283\n"
     ]
    }
   ],
   "source": [
    "# let's get skew from scipy\n",
    "skewness_value = sp.stats.skew(ages)\n",
    "\n",
    "print(\"Skewness:\", skewness_value)"
   ]
  },
  {
   "cell_type": "markdown",
   "metadata": {},
   "source": [
    "**How to interpret Skewness:**\n",
    "\n",
    "- Positive skewness (> 0) indicates that the tail on the right side of the distribution is longer than the left side (right skewed). \n",
    "- Negative skewness (< 0) indicates that the tail on the left side of the distribution is longer than the right side (left skewed). "
   ]
  },
  {
   "cell_type": "code",
   "execution_count": 59,
   "metadata": {},
   "outputs": [
    {
     "name": "stdout",
     "output_type": "stream",
     "text": [
      "Kurtosis: -0.3811155702676823\n"
     ]
    }
   ],
   "source": [
    "# let's get kurtosis from scipy\n",
    "kurtosis_value = sp.stats.kurtosis(ages)\n",
    "\n",
    "print(\"Kurtosis:\", kurtosis_value)"
   ]
  },
  {
   "cell_type": "markdown",
   "metadata": {},
   "source": [
    "**How to interpret Kurtosis:**\n",
    "\n",
    "- A kurtosis of 3 indicates the normal distribution (mesokurtic), also known as Gaussian distribution.\n",
    "- Positive kurtosis (> 3) indicates a distribution with heavier tails and a sharper peak than the normal distribution. This is called leptokurtic.\n",
    "- Negative kurtosis (< 3) indicates a distribution with lighter tails and a flatter peak than the normal distribution. This is called platykurtic."
   ]
  },
  {
   "cell_type": "markdown",
   "metadata": {},
   "source": [
    "#### 4.**Measures of association**\n",
    "\n",
    "a) **Correlation**\n",
    "\n",
    "- Correlation measures the relationship between two numerical variables.\n",
    "\n",
    "**Correlation Matrix**\n",
    "\n",
    "- A correlation matrix is simply a table showing the correlation coefficients between variables\n",
    "\n",
    "**Correlation Matrix in Python**\n",
    "\n",
    "We can use the `corrcoef()` function in Python to create a correlation matrix."
   ]
  },
  {
   "cell_type": "code",
   "execution_count": 62,
   "metadata": {},
   "outputs": [
    {
     "data": {
      "text/html": [
       "<div>\n",
       "<style scoped>\n",
       "    .dataframe tbody tr th:only-of-type {\n",
       "        vertical-align: middle;\n",
       "    }\n",
       "\n",
       "    .dataframe tbody tr th {\n",
       "        vertical-align: top;\n",
       "    }\n",
       "\n",
       "    .dataframe thead th {\n",
       "        text-align: right;\n",
       "    }\n",
       "</style>\n",
       "<table border=\"1\" class=\"dataframe\">\n",
       "  <thead>\n",
       "    <tr style=\"text-align: right;\">\n",
       "      <th></th>\n",
       "      <th>x</th>\n",
       "      <th>y</th>\n",
       "    </tr>\n",
       "  </thead>\n",
       "  <tbody>\n",
       "    <tr>\n",
       "      <th>x</th>\n",
       "      <td>1.000000</td>\n",
       "      <td>0.867722</td>\n",
       "    </tr>\n",
       "    <tr>\n",
       "      <th>y</th>\n",
       "      <td>0.867722</td>\n",
       "      <td>1.000000</td>\n",
       "    </tr>\n",
       "  </tbody>\n",
       "</table>\n",
       "</div>"
      ],
      "text/plain": [
       "          x         y\n",
       "x  1.000000  0.867722\n",
       "y  0.867722  1.000000"
      ]
     },
     "execution_count": 62,
     "metadata": {},
     "output_type": "execute_result"
    }
   ],
   "source": [
    "# Generate example data\n",
    "x = np.array([1, 1, 3, 5, 15])\n",
    "y = np.array([2, 4, 6, 8, 10])\n",
    "\n",
    "correlation_matrix = np.corrcoef(x, y)\n",
    "\n",
    "correlation_matrix_df = pd.DataFrame(\n",
    "    correlation_matrix, \n",
    "    columns=['x', 'y'], \n",
    "    index=['x', 'y']\n",
    "    )\n",
    "correlation_matrix_df"
   ]
  },
  {
   "cell_type": "markdown",
   "metadata": {},
   "source": [
    "**Correlation Coefficient**:\n",
    "   - The correlation coefficient measures the strength and direction of the linear relationship between two continuous variables.\n",
    "   - It ranges from -1 to 1, where:\n",
    "     - 1 indicates a perfect positive linear relationship, eg complementary good bread and blueband, battery and torch, fuel and car\n",
    "     - -1 indicates a perfect negative linear relationship, eg substitute goods like tea and coffee\n",
    "     - 0 indicates no linear relationship, eg phones and socks, house and mouse"
   ]
  },
  {
   "cell_type": "code",
   "execution_count": null,
   "metadata": {},
   "outputs": [
    {
     "name": "stdout",
     "output_type": "stream",
     "text": [
      "Correlation Coefficient: 0.8677218312746245\n"
     ]
    }
   ],
   "source": [
    "# Calculate correlation coefficient\n",
    "correlation = np.corrcoef(x, y)[0, 1]\n",
    "print(\"Correlation Coefficient:\", correlation)"
   ]
  },
  {
   "cell_type": "markdown",
   "metadata": {},
   "source": [
    "**Correlation vs Causality:**\n",
    "\n",
    "Correlation measures the numerical relationship between two varaibles\n",
    "\n",
    "A high correlation coefficient (close to 1), does not mean that we can for sure conclude an actual relationship between two variables.\n",
    "\n",
    "A classic example:\n",
    "\n",
    "- During the summer, the sale of ice cream at a beach increases\n",
    "- Simultaneously, drowning accidents also increase as well\n",
    "  \n",
    "Does this mean that increase of ice cream sale is a direct cause of increased drowning accidents?"
   ]
  },
  {
   "cell_type": "markdown",
   "metadata": {},
   "source": [
    "**Measures of Association for Categorical Variables**\n",
    "\n",
    "b) **Contingency Tables and Chi-square Test for Independence**:\n",
    "   - Contingency tables are used to summarize the relationship between two categorical variables by counting the frequency of observations for each combination of categories.\n",
    "   - Chi-square test for independence determines whether there is a statistically significant association between the two categorical variables."
   ]
  },
  {
   "cell_type": "code",
   "execution_count": 65,
   "metadata": {},
   "outputs": [],
   "source": [
    "demo_data = data[['Gender', 'Category']]\n",
    "\n",
    "# We drop all the missing values just for demonstration purposes\n",
    "demo_data = demo_data.dropna()"
   ]
  },
  {
   "cell_type": "code",
   "execution_count": 66,
   "metadata": {},
   "outputs": [
    {
     "data": {
      "text/html": [
       "<div>\n",
       "<style scoped>\n",
       "    .dataframe tbody tr th:only-of-type {\n",
       "        vertical-align: middle;\n",
       "    }\n",
       "\n",
       "    .dataframe tbody tr th {\n",
       "        vertical-align: top;\n",
       "    }\n",
       "\n",
       "    .dataframe thead th {\n",
       "        text-align: right;\n",
       "    }\n",
       "</style>\n",
       "<table border=\"1\" class=\"dataframe\">\n",
       "  <thead>\n",
       "    <tr style=\"text-align: right;\">\n",
       "      <th>Category</th>\n",
       "      <th>Chemistry</th>\n",
       "      <th>Economics</th>\n",
       "      <th>Literature</th>\n",
       "      <th>Medicine</th>\n",
       "      <th>Peace</th>\n",
       "      <th>Physics</th>\n",
       "    </tr>\n",
       "    <tr>\n",
       "      <th>Gender</th>\n",
       "      <th></th>\n",
       "      <th></th>\n",
       "      <th></th>\n",
       "      <th></th>\n",
       "      <th></th>\n",
       "      <th></th>\n",
       "    </tr>\n",
       "  </thead>\n",
       "  <tbody>\n",
       "    <tr>\n",
       "      <th>female</th>\n",
       "      <td>8</td>\n",
       "      <td>2</td>\n",
       "      <td>17</td>\n",
       "      <td>13</td>\n",
       "      <td>18</td>\n",
       "      <td>5</td>\n",
       "    </tr>\n",
       "    <tr>\n",
       "      <th>male</th>\n",
       "      <td>181</td>\n",
       "      <td>87</td>\n",
       "      <td>102</td>\n",
       "      <td>212</td>\n",
       "      <td>90</td>\n",
       "      <td>219</td>\n",
       "    </tr>\n",
       "  </tbody>\n",
       "</table>\n",
       "</div>"
      ],
      "text/plain": [
       "Category  Chemistry  Economics  Literature  Medicine  Peace  Physics\n",
       "Gender                                                              \n",
       "female            8          2          17        13     18        5\n",
       "male            181         87         102       212     90      219"
      ]
     },
     "execution_count": 66,
     "metadata": {},
     "output_type": "execute_result"
    }
   ],
   "source": [
    "# Obtain the cross tabulation of Gender and Category\n",
    "# The cross tabulation is also known as the contingency table\n",
    "gender_category_tab = pd.crosstab(\n",
    "    demo_data.Gender, \n",
    "    demo_data.Category\n",
    "    )\n",
    "\n",
    "# Let's have a look at the outcome\n",
    "gender_category_tab"
   ]
  },
  {
   "cell_type": "markdown",
   "metadata": {},
   "source": [
    "### Test of Independence:\n",
    "   This test is used to determine whether there is a significant association between two categorical variables.\n",
    "\n",
    "   Formula:\n",
    "   $$χ² = \\sum \\frac{(O_{ij} - E_{ij})^2}{E_{ij}}$$\n",
    "   where:\n",
    "   - $O_{ij}$ = Observed frequency for each cell in the contingency table\n",
    "   - $E_{ij}$ = Expected frequency for each cell under the assumption of independence\n"
   ]
  },
  {
   "cell_type": "code",
   "execution_count": 67,
   "metadata": {},
   "outputs": [
    {
     "name": "stdout",
     "output_type": "stream",
     "text": [
      "Chi-square Statistic: 40.7686907732235\n",
      "p-value: 1.044840181761602e-07\n",
      "Degrees of freedom (dof): 5\n"
     ]
    }
   ],
   "source": [
    "chi2_stat, p_value, dof, expected = sp.stats.chi2_contingency(gender_category_tab)\n",
    "\n",
    "print('Chi-square Statistic:', chi2_stat)\n",
    "print('p-value:', p_value)\n",
    "print('Degrees of freedom (dof):', dof)\n",
    "# print('Expected:', expected)"
   ]
  },
  {
   "cell_type": "markdown",
   "metadata": {},
   "source": [
    "**Interpretation of Chi2 Test Results:**\n",
    "\n",
    "- The Chi-square statistic measures the difference between the observed frequencies in the contingency table and the frequencies that would be expected if the variables were independent.\n",
    "- The p-value is the probability of obtaining a Chi-square statistic as extreme as, or more extreme than, the one observed in the sample, assuming that the null hypothesis is true (i.e., assuming that there is no association between the variables).\n",
    "- A low p-value indicates strong evidence against the null hypothesis, suggesting that there is a significant association between the variables.\n",
    "- A high p-value indicates weak evidence against the null hypothesis, suggesting that there is no significant association between the variables."
   ]
  },
  {
   "cell_type": "markdown",
   "metadata": {},
   "source": [
    "c. **Measures of Association for Categorical Variables**:\n",
    "   - Measures like Cramer's V or phi coefficient quantify the strength of association between two categorical variables.\n",
    "   - These measures are based on chi-square statistics and the dimensions of the contingency table."
   ]
  },
  {
   "cell_type": "markdown",
   "metadata": {},
   "source": [
    "### The formula for Cramer's V is:\n",
    "\n",
    "$$V = \\sqrt{\\frac{χ²}{n(k - 1)}}$$\n",
    "\n",
    "Where:\n",
    "- $χ²$ is the chi-square statistic from the chi-square test of independence.\n",
    "- $n$ is the total number of observations in the contingency table.\n",
    "- $k$ is the minimum of the number of rows and the number of columns in the contingency table.\n",
    "\n",
    "Cramer's V is a normalized measure of association, making it easier to interpret compared to the raw chi-square statistic. A larger value of Cramer's V indicates a stronger association between the variables."
   ]
  },
  {
   "cell_type": "code",
   "execution_count": 17,
   "metadata": {},
   "outputs": [],
   "source": [
    "#| hide\n",
    "#| export\n",
    "\n",
    "def cramersV(contingency_table):\n",
    "    \n",
    "    chi2_statistic = sp.stats.chi2_contingency(contingency_table)[0]\n",
    "    total_observations = contingency_table.sum().sum()\n",
    "    phi2 = chi2_statistic / total_observations\n",
    "    rows, columns = contingency_table.shape\n",
    "    \n",
    "    return np.sqrt(phi2/ min(rows-1, columns-1))"
   ]
  },
  {
   "cell_type": "code",
   "execution_count": 18,
   "metadata": {},
   "outputs": [],
   "source": [
    "from dataidea.statistics import cramersV"
   ]
  },
  {
   "cell_type": "code",
   "execution_count": 19,
   "metadata": {},
   "outputs": [
    {
     "ename": "NameError",
     "evalue": "name 'gender_category_tab' is not defined",
     "output_type": "error",
     "traceback": [
      "\u001b[0;31m---------------------------------------------------------------------------\u001b[0m",
      "\u001b[0;31mNameError\u001b[0m                                 Traceback (most recent call last)",
      "Cell \u001b[0;32mIn[19], line 1\u001b[0m\n\u001b[0;32m----> 1\u001b[0m cramersV(contingency_table\u001b[38;5;241m=\u001b[39m\u001b[43mgender_category_tab\u001b[49m)\n",
      "\u001b[0;31mNameError\u001b[0m: name 'gender_category_tab' is not defined"
     ]
    }
   ],
   "source": [
    "cramersV(contingency_table=gender_category_tab)"
   ]
  },
  {
   "cell_type": "code",
   "execution_count": null,
   "metadata": {},
   "outputs": [],
   "source": [
    "#| hide\n",
    "#| export\n",
    "\n",
    "def cramersVCorrected(contingency_table):\n",
    "    \n",
    "    chi2_statistic = sp.stats.chi2_contingency(contingency_table)[0]\n",
    "    total_observations = contingency_table.sum().sum()\n",
    "    phi2 = chi2_statistic / total_observations\n",
    "    rows, columns = contingency_table.shape\n",
    "    phi2_corrected = max(0, phi2 - ((columns-1)*(rows-1))/(total_observations-1))\n",
    "    rows_corrected = rows - ((rows-1)**2)/(total_observations-1)\n",
    "    columns_corrected = columns - ((columns-1)**2)/(total_observations-1)\n",
    "    \n",
    "    return np.sqrt(phi2_corrected / min((columns_corrected-1), (rows_corrected-1)))"
   ]
  },
  {
   "cell_type": "code",
   "execution_count": null,
   "metadata": {},
   "outputs": [],
   "source": [
    "from dataidea.statistics import cramersVCorrected"
   ]
  },
  {
   "cell_type": "code",
   "execution_count": null,
   "metadata": {},
   "outputs": [
    {
     "data": {
      "text/plain": [
       "0.19371955249110775"
      ]
     },
     "execution_count": null,
     "metadata": {},
     "output_type": "execute_result"
    }
   ],
   "source": [
    "cramersVCorrected(gender_category_tab)"
   ]
  },
  {
   "cell_type": "markdown",
   "metadata": {},
   "source": [
    "Cramer's V is measure of association between two categorical variables. It ranges from 0 to 1 where: \n",
    "\n",
    "- 0 indicates no association between the variables\n",
    "- 1 indicates a perfect association between the variables\n",
    "\n",
    "Here's an interpretation of the Cramer's V:\n",
    "\n",
    "- Small effect: Around 0.1\n",
    "- Medium effect: Around 0.3\n",
    "- Large effect: Around 0.5 or greater"
   ]
  },
  {
   "cell_type": "markdown",
   "metadata": {},
   "source": [
    "#### Frequency Tables\n",
    "Frequency means the number of times a value appears in the data. A table can quickly show us how many times each value appears. If the data has many different values, it is easier to use intervals of values to present them in a table.\n",
    "\n",
    "Here's the age of the 934 Nobel Prize winners up until the year 2020. IN the table, each row is an age interval of 10 years"
   ]
  },
  {
   "cell_type": "markdown",
   "metadata": {},
   "source": [
    "Age Interval | Frequency\n",
    "-------------|-----------\n",
    "10-19 |\t1\n",
    "20-29 |\t2\n",
    "30-39 |\t48\n",
    "40-49 |\t158\n",
    "50-59 |\t236\n",
    "60-69 |\t262\n",
    "70-79 |\t174\n",
    "80-89 |\t50\n",
    "90-99 |\t3\n",
    "\n",
    "**Note:** *The intervals for the values are also called bin*"
   ]
  },
  {
   "cell_type": "markdown",
   "metadata": {},
   "source": [
    "### Further Reading\n",
    "\n",
    "Chapter 3 of *An Introduction to Statistical Methods and Data Analysis 7th Edition_New*"
   ]
  },
  {
   "cell_type": "code",
   "execution_count": null,
   "metadata": {},
   "outputs": [],
   "source": [
    "#| hide\n",
    "import nbdev; nbdev.nbdev_export()"
   ]
  },
  {
   "cell_type": "markdown",
   "metadata": {},
   "source": [
    "<p class=pb-1>\n",
    "To be among the first to hear about future updates of the course materials, simply enter your email below, follow us on <a href=\"https://x.com/dataideaorg\"><i class=\"bi bi-twitter-x\"></i>\n",
    " (formally Twitter)</a>, or subscribe to our <a href=\"https://www.youtube.com/@dataideaorg\"><i class=\"bi bi-youtube\"></i> YouTube channel</a>.\n",
    "</p>\n",
    "<iframe src=\"https://embeds.beehiiv.com/5fc7c425-9c7e-4e08-a514-ad6c22beee74?slim=true\" data-test-id=\"beehiiv-embed\" height=\"52\" frameborder=\"0\" scrolling=\"no\" style=\"margin: 0; border-radius: 0px !important; background-color: transparent; width: 100%;\" ></iframe>\n",
    "\n",
    "<script async src=\"https://pagead2.googlesyndication.com/pagead/js/adsbygoogle.js?client=ca-pub-8076040302380238\"\n",
    "     crossorigin=\"anonymous\"></script>\n",
    "<!-- inline_horizontal -->\n",
    "<ins class=\"adsbygoogle\"\n",
    "     style=\"display:block\"\n",
    "     data-ad-client=\"ca-pub-8076040302380238\"\n",
    "     data-ad-slot=\"9021194372\"\n",
    "     data-ad-format=\"auto\"\n",
    "     data-full-width-responsive=\"true\"></ins>\n",
    "<script>\n",
    "     (adsbygoogle = window.adsbygoogle || []).push({});\n",
    "</script>\n"
   ]
  }
 ],
 "metadata": {
  "kernelspec": {
   "display_name": "python3",
   "language": "python",
   "name": "python3"
  },
  "language_info": {
   "codemirror_mode": {
    "name": "ipython",
    "version": 3
   },
   "file_extension": ".py",
   "mimetype": "text/x-python",
   "name": "python",
   "nbconvert_exporter": "python",
   "pygments_lexer": "ipython3",
   "version": "3.10.12"
  }
 },
 "nbformat": 4,
 "nbformat_minor": 4
}
