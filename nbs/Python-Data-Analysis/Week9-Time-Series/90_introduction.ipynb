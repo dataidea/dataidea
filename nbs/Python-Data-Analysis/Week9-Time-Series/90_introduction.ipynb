{
 "cells": [
  {
   "cell_type": "markdown",
   "metadata": {},
   "source": [
    "![Photo by DATAIDEA](../assets/banner4.png)"
   ]
  },
  {
   "cell_type": "markdown",
   "metadata": {},
   "source": [
    "## What is Time Series \n",
    "Any data recorded with some fixed interval of time is called as time series data. This fixed interval can be hourly, daily, monthly or yearly. e.g. hourly temperature reading, daily changing fuel prices, monthly electricity bill, annul company profit report etc. In time series data, time will always be independent variable and there can be one or many dependent variable. \n",
    "\n",
    "Sales forecasting time series with shampoo sales for every month will look like this, "
   ]
  },
  {
   "cell_type": "markdown",
   "metadata": {},
   "source": [
    "![Shampoo_Sales](../assets/Shampoo_Sales.png)"
   ]
  },
  {
   "cell_type": "markdown",
   "metadata": {},
   "source": [
    "In above example since there is only one variable dependent on time so its called as univariate time series. If there are multiple dependent variables, then its called as multivariate time series.\n",
    "\n",
    "Objective of time series analysis is to understand how change in time affect the dependent variables and accordingly predict values for future time intervals."
   ]
  },
  {
   "cell_type": "markdown",
   "metadata": {},
   "source": [
    "[ad]\n",
    "<script async src=\"https://pagead2.googlesyndication.com/pagead/js/adsbygoogle.js?client=ca-pub-8076040302380238\"\n",
    "     crossorigin=\"anonymous\"></script>\n",
    "<!-- inline_horizontal -->\n",
    "<ins class=\"adsbygoogle\"\n",
    "     style=\"display:block\"\n",
    "     data-ad-client=\"ca-pub-8076040302380238\"\n",
    "     data-ad-slot=\"9021194372\"\n",
    "     data-ad-format=\"auto\"\n",
    "     data-full-width-responsive=\"true\"></ins>\n",
    "<script>\n",
    "     (adsbygoogle = window.adsbygoogle || []).push({});\n",
    "</script>"
   ]
  },
  {
   "cell_type": "markdown",
   "metadata": {},
   "source": [
    "## Time Series Characteristics \n",
    "Mean, standard deviation and seasonality defines different characteristics of the time series. \n",
    "\n",
    "![Time_Series_Characteristics](../assets/Time_Series_Characteristics.png)\n",
    "\n",
    "Important characteristics of the time series are as below"
   ]
  },
  {
   "cell_type": "markdown",
   "metadata": {},
   "source": [
    "### Trend \n",
    "Trend represent the change in dependent variables with respect to time from start to end. In case of increasing trend dependent variable will increase with time and vice versa. It's not necessary to have definite trend in time series, we can have a single time series with increasing and decreasing trend. In short trend represent the varying mean of time series data.\n",
    "\n",
    "![Trend](../assets/Trend.png)"
   ]
  },
  {
   "cell_type": "markdown",
   "metadata": {},
   "source": [
    "### Seasonality \n",
    "If observations repeats after fixed time interval then they are referred as seasonal observations. These seasonal changes in data can occur because of natural events or man-made events. For example every year warm cloths sales increases just before winter season. So seasonality represent the data variations at fixed intervals.\n",
    "\n",
    "![Seasonality](../assets/Seasonality.png)"
   ]
  },
  {
   "cell_type": "markdown",
   "metadata": {},
   "source": [
    "### Irregularities \n",
    "This is also called as noise. Strange dips and jump in the data are called as irregularities. These fluctuations are caused by uncontrollable events like earthquakes, wars, flood, pandemic etc. For example because of COVID-19 pandemic there is huge demand for hand sanitizers and masks.\n",
    "\n",
    "![Irregularities](../assets/Irregularities.png)"
   ]
  },
  {
   "cell_type": "markdown",
   "metadata": {},
   "source": [
    "### Cyclicity \n",
    "Cyclicity occurs when observations in the series repeats in random pattern. Note that if there is any fixed pattern then it becomes seasonality, in case of cyclicity observations may repeat after a week, months or may be after a year. These kinds of patterns are much harder to predict.\n",
    "\n",
    "![Cyclicity](../assets/Cyclicity.png)\n",
    "\n",
    "Time series data which has above characteristics is called as 'Non-Stationary Data'. For any analysis on time series data we must convert it to 'Stationary Data'\n",
    "\n",
    "The general guideline is to estimate the trend and seasonality in the time series, and then make the time series stationary for data modeling. In data modeling step statistical techniques are used for time series analysis and forecasting. Once we have the predictions, in the final step forecasted values converted into the original scale by applying trend and seasonality constraints back."
   ]
  },
  {
   "cell_type": "markdown",
   "metadata": {},
   "source": [
    "[ad]\n",
    "<script async src=\"https://pagead2.googlesyndication.com/pagead/js/adsbygoogle.js?client=ca-pub-8076040302380238\"\n",
    "     crossorigin=\"anonymous\"></script>\n",
    "<!-- inline_horizontal -->\n",
    "<ins class=\"adsbygoogle\"\n",
    "     style=\"display:block\"\n",
    "     data-ad-client=\"ca-pub-8076040302380238\"\n",
    "     data-ad-slot=\"9021194372\"\n",
    "     data-ad-format=\"auto\"\n",
    "     data-full-width-responsive=\"true\"></ins>\n",
    "<script>\n",
    "     (adsbygoogle = window.adsbygoogle || []).push({});\n",
    "</script>\n"
   ]
  }
 ],
 "metadata": {
  "kernelspec": {
   "display_name": "python3",
   "language": "python",
   "name": "python3"
  }
 },
 "nbformat": 4,
 "nbformat_minor": 4
}
