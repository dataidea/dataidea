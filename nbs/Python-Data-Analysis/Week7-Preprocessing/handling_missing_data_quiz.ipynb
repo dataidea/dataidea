{
 "cells": [
  {
   "cell_type": "markdown",
   "metadata": {},
   "source": [
    "---\n",
    "title: Handling Missing Data Quiz\n",
    "keywords: [Handling Missing Data Quiz, Handling Missing Data]\n",
    "---"
   ]
  },
  {
   "cell_type": "markdown",
   "metadata": {},
   "source": [
    "## Questions:\n",
    "\n",
    "1. **Which of the following is a common method for handling missing data?**\n",
    "   - A) Deleting rows with missing values\n",
    "   - B) Using the mean to fill missing values\n",
    "   - C) Using a machine learning algorithm to predict missing values\n",
    "   - D) All of the above\n",
    "\n",
    "2. **What is the term used for removing rows or columns that contain missing data?**\n",
    "   - A) Imputation\n",
    "   - B) Deletion\n",
    "   - C) Interpolation\n",
    "   - D) Normalization\n",
    "\n",
    "3. **Which imputation method replaces missing values with the mean, median, or mode?**\n",
    "   - A) Random sampling imputation\n",
    "   - B) Regression imputation\n",
    "   - C) Central tendency imputation\n",
    "   - D) K-nearest neighbors imputation\n",
    "\n",
    "4. **What is the potential drawback of deleting rows with missing data?**\n",
    "   - A) It is computationally expensive.\n",
    "   - B) It can lead to biased results.\n",
    "   - C) It always improves model accuracy.\n",
    "   - D) It requires complex algorithms.\n",
    "\n",
    "5. **Which technique involves predicting missing values based on other available data?**\n",
    "   - A) Listwise deletion\n",
    "   - B) Pairwise deletion\n",
    "   - C) Multiple imputation\n",
    "   - D) Hot deck imputation\n",
    "\n",
    "6. **Which of the following is NOT a method for handling missing data in time series analysis?**\n",
    "   - A) Forward fill\n",
    "   - B) Backward fill\n",
    "   - C) Interpolation\n",
    "   - D) Cross-validation\n",
    "\n",
    "7. **In the context of handling missing data, what does 'MCAR' stand for?**\n",
    "   - A) Missing Completely at Random\n",
    "   - B) Missing Conditional on Available Rows\n",
    "   - C) Missing Characteristic Attribute Reduction\n",
    "   - D) Missing Completely Available Records\n",
    "\n",
    "8. **Which method is most suitable for handling missing data when the data is 'MAR' (Missing At Random)?**\n",
    "   - A) Listwise deletion\n",
    "   - B) Multiple imputation\n",
    "   - C) Mean imputation\n",
    "   - D) Mode imputation\n",
    "\n",
    "9. **Which Python library is widely used for data manipulation and handling missing data?**\n",
    "   - A) NumPy\n",
    "   - B) Pandas\n",
    "   - C) SciPy\n",
    "   - D) Matplotlib\n",
    "\n",
    "10. **Which of the following is a disadvantage of using mean imputation?**\n",
    "    - A) It is computationally intensive.\n",
    "    - B) It can distort the variance of the data.\n",
    "    - C) It requires labeled data.\n",
    "    - D) It is only applicable to categorical data."
   ]
  },
  {
   "cell_type": "markdown",
   "metadata": {},
   "source": [
    "## Answers:\n",
    "1. D) All of the above\n",
    "2. B) Deletion\n",
    "3. C) Central tendency imputation\n",
    "4. B) It can lead to biased results.\n",
    "5. C) Multiple imputation\n",
    "6. D) Cross-validation\n",
    "7. A) Missing Completely at Random\n",
    "8. B) Multiple imputation\n",
    "9. B) Pandas\n",
    "10. B) It can distort the variance of the data."
   ]
  }
 ],
 "metadata": {
  "language_info": {
   "name": "python"
  }
 },
 "nbformat": 4,
 "nbformat_minor": 2
}
