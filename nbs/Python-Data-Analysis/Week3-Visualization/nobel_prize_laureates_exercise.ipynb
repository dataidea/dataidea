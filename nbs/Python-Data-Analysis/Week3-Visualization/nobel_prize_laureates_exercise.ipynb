{
 "cells": [
  {
   "cell_type": "markdown",
   "id": "94971a66",
   "metadata": {},
   "source": [
    "## Nobel Prize Laureates Exercise:"
   ]
  },
  {
   "cell_type": "markdown",
   "id": "91884f65-aceb-4981-bfc9-7d275c5ab8c4",
   "metadata": {},
   "source": [
    "![](../assets/banner4.png)"
   ]
  },
  {
   "cell_type": "markdown",
   "id": "70e2a8f6-68fa-4c76-a56f-62e7a2045d95",
   "metadata": {},
   "source": [
    "Here are ten questions based on the Nobel Prize laureates dataset. Each question involves a mix of data exploration, cleaning, and analysis tasks. You can use Python and libraries such as pandas, matplotlib to solve these questions.\n",
    "\n",
    "You can download the Nobel Prize Laureates dataset from [opendatasoft](https://public.opendatasoft.com/explore/dataset/nobel-prize-laureates/export/?disjunctive.category)"
   ]
  },
  {
   "cell_type": "markdown",
   "id": "c0e6f5cb-ec16-4b46-a22d-3d4a2dabe9c9",
   "metadata": {},
   "source": [
    "1. How many Nobel Prize laureates are included in the dataset?"
   ]
  },
  {
   "cell_type": "code",
   "execution_count": null,
   "id": "f698eca9-e586-40ca-8d97-a2ead0cb9b34",
   "metadata": {},
   "outputs": [],
   "source": [
    "# your solution here"
   ]
  },
  {
   "cell_type": "markdown",
   "id": "6dc1e84a-8a8a-4b88-b3a8-8368c0ae7fdd",
   "metadata": {},
   "source": [
    "2. Which country has the highest number of Nobel laureates?"
   ]
  },
  {
   "cell_type": "code",
   "execution_count": null,
   "id": "87e30004-187b-4859-8c1b-149271d49fb4",
   "metadata": {},
   "outputs": [],
   "source": [
    "# your solution here"
   ]
  },
  {
   "cell_type": "markdown",
   "id": "9dfb8326-a793-45b9-8c52-68d15a593375",
   "metadata": {},
   "source": [
    "<script async src=\"https://pagead2.googlesyndication.com/pagead/js/adsbygoogle.js?client=ca-pub-8076040302380238\"\n",
    "     crossorigin=\"anonymous\"></script>\n",
    "<!-- inline_horizontal -->\n",
    "<ins class=\"adsbygoogle\"\n",
    "     style=\"display:block\"\n",
    "     data-ad-client=\"ca-pub-8076040302380238\"\n",
    "     data-ad-slot=\"9021194372\"\n",
    "     data-ad-format=\"auto\"\n",
    "     data-full-width-responsive=\"true\"></ins>\n",
    "<script>\n",
    "     (adsbygoogle = window.adsbygoogle || []).push({});\n",
    "</script>\n",
    "\n",
    "3. What is the distribution of Nobel laureates across different prize categories?"
   ]
  },
  {
   "cell_type": "code",
   "execution_count": null,
   "id": "ae0320bc-1cda-4e99-ba38-74b657d17b3b",
   "metadata": {},
   "outputs": [],
   "source": [
    "# your solution here"
   ]
  },
  {
   "cell_type": "markdown",
   "id": "7550a565-7eeb-4ff9-ae7d-7434df607c6e",
   "metadata": {},
   "source": [
    "4. How many Nobel laureates were awarded in each decade?"
   ]
  },
  {
   "cell_type": "code",
   "execution_count": null,
   "id": "9fa4ff12-68b7-4360-8bb2-96395856a82e",
   "metadata": {},
   "outputs": [],
   "source": [
    "# your solution here"
   ]
  },
  {
   "cell_type": "markdown",
   "id": "36adaffd-99db-4403-8138-f6807ddcc0bc",
   "metadata": {},
   "source": [
    "5. Are there any missing values in the dataset? If so, in which columns?"
   ]
  },
  {
   "cell_type": "code",
   "execution_count": null,
   "id": "a5f07dc5-b46b-4016-83e9-0c06448a7bb3",
   "metadata": {},
   "outputs": [],
   "source": [
    "# your solution here"
   ]
  },
  {
   "cell_type": "markdown",
   "id": "308a1a15-9005-43a0-bccd-a5321ebb28b9",
   "metadata": {},
   "source": [
    "6. Perform data cleaning by handling missing values appropriately. Describe your approach."
   ]
  },
  {
   "cell_type": "code",
   "execution_count": null,
   "id": "a7d85ba4-88e2-44f4-b31e-8c6de30fde98",
   "metadata": {},
   "outputs": [],
   "source": [
    "# your solution here"
   ]
  },
  {
   "cell_type": "markdown",
   "id": "43221b2f-b0e7-4629-ac8f-6c240b14ccbf",
   "metadata": {},
   "source": [
    "<script async src=\"https://pagead2.googlesyndication.com/pagead/js/adsbygoogle.js?client=ca-pub-8076040302380238\"\n",
    "     crossorigin=\"anonymous\"></script>\n",
    "<!-- inline_horizontal -->\n",
    "<ins class=\"adsbygoogle\"\n",
    "     style=\"display:block\"\n",
    "     data-ad-client=\"ca-pub-8076040302380238\"\n",
    "     data-ad-slot=\"9021194372\"\n",
    "     data-ad-format=\"auto\"\n",
    "     data-full-width-responsive=\"true\"></ins>\n",
    "<script>\n",
    "     (adsbygoogle = window.adsbygoogle || []).push({});\n",
    "</script>\n",
    "\n",
    "7. Visualize the distribution of Nobel laureates' birth countries on a world map."
   ]
  },
  {
   "cell_type": "code",
   "execution_count": null,
   "id": "a141be24-334f-49bd-ae8b-7f271261ba17",
   "metadata": {},
   "outputs": [],
   "source": [
    "# your solution here"
   ]
  },
  {
   "cell_type": "markdown",
   "id": "0678df0e-532e-4854-a9e7-54a56a594ef5",
   "metadata": {},
   "source": [
    "8. Is there any correlation between a laureate's birth year and the year they were awarded the Nobel Prize? Visualize if there's any relationship."
   ]
  },
  {
   "cell_type": "code",
   "execution_count": null,
   "id": "5c7f06f6-e59e-4ce6-9771-f407f93b341b",
   "metadata": {},
   "outputs": [],
   "source": [
    "# your solution here"
   ]
  },
  {
   "cell_type": "markdown",
   "id": "be86b681-0db8-4d70-b745-b260365731de",
   "metadata": {},
   "source": [
    "9. Perform anomaly detection on the birth years of laureates. Identify and explain any outliers."
   ]
  },
  {
   "cell_type": "code",
   "execution_count": null,
   "id": "1f6fdd80-2287-485c-8098-dbc8af9fddd6",
   "metadata": {},
   "outputs": [],
   "source": [
    "# your solution here"
   ]
  },
  {
   "cell_type": "markdown",
   "id": "64a79647",
   "metadata": {},
   "source": [
    "<div class=\"p-3\">\n",
    "<p class=pb-1>\n",
    "Don't miss out on any updates and developments! Subscribe to the DATAIDEA Newsletter it's easy and safe.\n",
    "</p>\n",
    "<iframe src=\"https://embeds.beehiiv.com/5fc7c425-9c7e-4e08-a514-ad6c22beee74?slim=true\" data-test-id=\"beehiiv-embed\" height=\"52\" frameborder=\"0\" scrolling=\"no\" style=\"margin: 0; border-radius: 0px !important; background-color: transparent; width: 100%;\" ></iframe>\n",
    "</div>"
   ]
  },
  {
   "cell_type": "markdown",
   "id": "e473567b-344b-4717-a598-2e63f1f2a357",
   "metadata": {},
   "source": [
    "10. Based on the dataset, can you identify any interesting trends or patterns regarding Nobel laureates' demographics or the fields in which they were awarded?"
   ]
  },
  {
   "cell_type": "code",
   "execution_count": null,
   "id": "8a25df93-9a50-42a4-9ff9-0424b3bf6cc9",
   "metadata": {},
   "outputs": [],
   "source": [
    "# your solution here"
   ]
  },
  {
   "cell_type": "markdown",
   "id": "7fc4ae82-13b6-4ee9-94a1-4f4b4a46e8a3",
   "metadata": {},
   "source": [
    "These questions cover various aspects of data exploration, cleaning, visualization, and analysis using the Nobel Prize laureates dataset. You can explore and analyze the dataset to find answers to these questions and gain insights into the demographics and distribution of Nobel laureates over time and across different categories. "
   ]
  },
  {
   "cell_type": "markdown",
   "id": "6ade14df",
   "metadata": {},
   "source": [
    "<script async src=\"https://pagead2.googlesyndication.com/pagead/js/adsbygoogle.js?client=ca-pub-8076040302380238\"\n",
    "     crossorigin=\"anonymous\"></script>\n",
    "<!-- inline_horizontal -->\n",
    "<ins class=\"adsbygoogle\"\n",
    "     style=\"display:block\"\n",
    "     data-ad-client=\"ca-pub-8076040302380238\"\n",
    "     data-ad-slot=\"9021194372\"\n",
    "     data-ad-format=\"auto\"\n",
    "     data-full-width-responsive=\"true\"></ins>\n",
    "<script>\n",
    "     (adsbygoogle = window.adsbygoogle || []).push({});\n",
    "</script>"
   ]
  }
 ],
 "metadata": {
  "kernelspec": {
   "display_name": "Python 3 (ipykernel)",
   "language": "python",
   "name": "python3"
  },
  "language_info": {
   "codemirror_mode": {
    "name": "ipython",
    "version": 3
   },
   "file_extension": ".py",
   "mimetype": "text/x-python",
   "name": "python",
   "nbconvert_exporter": "python",
   "pygments_lexer": "ipython3",
   "version": "3.10.12"
  }
 },
 "nbformat": 4,
 "nbformat_minor": 5
}
