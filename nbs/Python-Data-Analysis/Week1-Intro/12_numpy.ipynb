{
 "cells": [
  {
   "cell_type": "markdown",
   "metadata": {},
   "source": [
    "![Photo by DATAIDEA](../assets/banner4.png)"
   ]
  },
  {
   "cell_type": "markdown",
   "metadata": {},
   "source": [
    "## Numpy\n",
    "- Numpy is a python package used for scientific computing\n",
    "- Numpy provides arrays which are greater and faster alternatives to traditional python lists. An array is a group of elements of the same data type\n",
    "- A standard numpy array is required to have elements of the same data type."
   ]
  },
  {
   "cell_type": "code",
   "execution_count": null,
   "metadata": {},
   "outputs": [],
   "source": [
    "# Uncomment and run this cell to install numpy\n",
    "# !pip install numpy"
   ]
  },
  {
   "cell_type": "markdown",
   "metadata": {},
   "source": [
    "### Inspecting our arrays"
   ]
  },
  {
   "cell_type": "code",
   "execution_count": null,
   "metadata": {},
   "outputs": [],
   "source": [
    "# import numpy module\n",
    "import numpy as np"
   ]
  },
  {
   "cell_type": "code",
   "execution_count": null,
   "metadata": {},
   "outputs": [
    {
     "data": {
      "text/plain": [
       "'1.26.4'"
      ]
     },
     "execution_count": null,
     "metadata": {},
     "output_type": "execute_result"
    }
   ],
   "source": [
    "# checking the numpy version\n",
    "np.__version__"
   ]
  },
  {
   "cell_type": "code",
   "execution_count": null,
   "metadata": {},
   "outputs": [],
   "source": [
    "# creating a numpy array\n",
    "num_arr = np.array([1, 2, 3, 4])"
   ]
  },
  {
   "cell_type": "markdown",
   "metadata": {},
   "source": [
    "The object that's created by `array()` is called `ndarray`.\n",
    "This can be shown by checking the type of the object using `type()`"
   ]
  },
  {
   "cell_type": "code",
   "execution_count": null,
   "metadata": {},
   "outputs": [
    {
     "data": {
      "text/plain": [
       "numpy.ndarray"
      ]
     },
     "execution_count": null,
     "metadata": {},
     "output_type": "execute_result"
    }
   ],
   "source": [
    "# Checking type of object\n",
    "type(num_arr)"
   ]
  },
  {
   "cell_type": "markdown",
   "metadata": {},
   "source": [
    "#### Data Types\n",
    "The table below describes some of the most common data types we use in numpy\n",
    "\n",
    "Data Type | Description\n",
    "----------|-----------\n",
    "`np.int64`|Signed 64-bit integer types\n",
    "`np.float32`|Standard double-precision floating point\n",
    "`np.complex`|Complex numbers represented by 128 floats\n",
    "`np.bool`|Boolean type storing `True` and `False` values\n",
    "`np.object`|Python object type\n",
    "`np.string_`|Fixed-length string type\n",
    "`np.unicode_`|Fixed-length unicode type"
   ]
  },
  {
   "cell_type": "code",
   "execution_count": null,
   "metadata": {},
   "outputs": [
    {
     "data": {
      "text/plain": [
       "(4,)"
      ]
     },
     "execution_count": null,
     "metadata": {},
     "output_type": "execute_result"
    }
   ],
   "source": [
    "# shape of array\n",
    "num_arr.shape"
   ]
  },
  {
   "cell_type": "code",
   "execution_count": null,
   "metadata": {},
   "outputs": [],
   "source": [
    "# finding the number of dimensions\n",
    "num_arr.ndim"
   ]
  },
  {
   "cell_type": "code",
   "execution_count": null,
   "metadata": {},
   "outputs": [],
   "source": [
    "# number of elements in array\n",
    "len(num_arr)"
   ]
  },
  {
   "cell_type": "code",
   "execution_count": null,
   "metadata": {},
   "outputs": [],
   "source": [
    "# another way to get the number of elements\n",
    "num_arr.size"
   ]
  },
  {
   "cell_type": "code",
   "execution_count": null,
   "metadata": {},
   "outputs": [],
   "source": [
    "# finding data type of array elements\n",
    "print(num_arr.dtype.name)"
   ]
  },
  {
   "cell_type": "code",
   "execution_count": null,
   "metadata": {},
   "outputs": [],
   "source": [
    "# converting an array\n",
    "float_arr = np.array([1.2, 3.5, 7.0])\n",
    "\n",
    "# use astype() to convert to a specific\n",
    "int_arr = float_arr.astype(int)\n",
    "\n",
    "print(f'Array: {float_arr}, Data Type: {float_arr.dtype}')\n",
    "print(f'Array: {int_arr}, Data Type: {int_arr.dtype}')"
   ]
  },
  {
   "cell_type": "markdown",
   "metadata": {},
   "source": [
    "### Ask for help"
   ]
  },
  {
   "cell_type": "code",
   "execution_count": null,
   "metadata": {},
   "outputs": [],
   "source": [
    "np.info(np.ndarray.shape)"
   ]
  },
  {
   "cell_type": "code",
   "execution_count": null,
   "metadata": {},
   "outputs": [],
   "source": [
    "?np.ndarray.shape"
   ]
  },
  {
   "cell_type": "markdown",
   "metadata": {},
   "source": [
    "## Array mathematics\n",
    "\n",
    "Numpy has out of the box tools to help us perform some import mathematical operations"
   ]
  },
  {
   "cell_type": "markdown",
   "metadata": {},
   "source": [
    "#### Arithmetic Operations"
   ]
  },
  {
   "cell_type": "code",
   "execution_count": null,
   "metadata": {},
   "outputs": [],
   "source": [
    "# creating arrays\n",
    "array1 = np.array([1, 4, 6, 7])\n",
    "array2 = np.array([3, 5, 3, 1])"
   ]
  },
  {
   "cell_type": "code",
   "execution_count": null,
   "metadata": {},
   "outputs": [],
   "source": [
    "# subtract\n",
    "difference1 = array2 - array1\n",
    "print('difference1 =', difference1)\n",
    "\n",
    "# another way\n",
    "difference2 = np.subtract(array2, array1)\n",
    "print('difference2 =', difference2)"
   ]
  },
  {
   "cell_type": "markdown",
   "metadata": {},
   "source": [
    "As we may notice, numpy does element-wise operations for ordinary arithmetic operations"
   ]
  },
  {
   "cell_type": "code",
   "execution_count": null,
   "metadata": {},
   "outputs": [],
   "source": [
    "# sum\n",
    "summation1 = array1 + array2\n",
    "print('summation1 =', summation1)\n",
    "\n",
    "# another way\n",
    "summation2 = np.add(array1, array2)\n",
    "print('summation2 =', summation2)"
   ]
  },
  {
   "cell_type": "markdown",
   "metadata": {},
   "source": [
    "#### Trigonometric operations"
   ]
  },
  {
   "cell_type": "code",
   "execution_count": null,
   "metadata": {},
   "outputs": [],
   "source": [
    "# sin\n",
    "print('sin(array1) =', np.sin(array1))\n",
    "# cos\n",
    "print('cos(array1) =', np.cos(array1))\n",
    "# log\n",
    "print('log(array1) =', np.log(array1))"
   ]
  },
  {
   "cell_type": "code",
   "execution_count": null,
   "metadata": {},
   "outputs": [],
   "source": [
    "# dot product\n",
    "array1.dot(array2)"
   ]
  },
  {
   "cell_type": "markdown",
   "metadata": {},
   "source": [
    "Given matrices A and B, the `dot` operation mulitiplies A with the transpose of B"
   ]
  },
  {
   "cell_type": "markdown",
   "metadata": {},
   "source": [
    "**Research:**\n",
    "\n",
    "- another way to dot matrices (arrays)"
   ]
  },
  {
   "cell_type": "markdown",
   "metadata": {},
   "source": [
    "#### Comparison"
   ]
  },
  {
   "cell_type": "code",
   "execution_count": null,
   "metadata": {},
   "outputs": [],
   "source": [
    "array1 == array2"
   ]
  },
  {
   "cell_type": "code",
   "execution_count": null,
   "metadata": {},
   "outputs": [],
   "source": [
    "array1 > 3"
   ]
  },
  {
   "cell_type": "markdown",
   "metadata": {},
   "source": [
    "#### Aggregate functions"
   ]
  },
  {
   "cell_type": "code",
   "execution_count": null,
   "metadata": {},
   "outputs": [],
   "source": [
    "# average\n",
    "mean = array1.mean()\n",
    "print('Mean: ', mean)\n",
    "\n",
    "# min\n",
    "minimum = array1.min()\n",
    "print('Minimum: ', minimum)\n",
    "\n",
    "# max\n",
    "maximum = array1.max()\n",
    "print('Maximum: ', maximum)\n",
    "\n",
    "# corrcoef\n",
    "correlation_coefficient = np.corrcoef(array1, array2)\n",
    "print('Correlation Coefficient: ', correlation_coefficient)\n",
    "\n",
    "standard_deviation = np.std(array1)\n",
    "print('Standard Deviation: ', standard_deviation)"
   ]
  },
  {
   "cell_type": "markdown",
   "metadata": {},
   "source": [
    "**Research:**\n",
    "\n",
    "- copying arrays (you might meet `view()`, `copy()`) "
   ]
  },
  {
   "cell_type": "markdown",
   "metadata": {},
   "source": [
    "## Subsetting, Slicing and Indexing\n",
    "- Indexing is the technique we use to access individual elements in an array. 0 represents the first element, 1 the represents second element and so on.\n",
    "- Slicing is used to access elements of an array using a range of two indexes. The first index is the start of the range while the second index is the end of the range. The indexes are separated by a colon ie `[start:end]`"
   ]
  },
  {
   "cell_type": "code",
   "execution_count": null,
   "metadata": {},
   "outputs": [],
   "source": [
    "# Creating numpy arrays of different dimension\n",
    "# 1D array\n",
    "arr1 = np.array([1, 4, 6, 7])\n",
    "print('Array1 (1D): \\n', arr1)\n",
    "\n",
    "# 2D array\n",
    "arr2 = np.array([[1.5, 2, 3], [4, 5, 6]]) \n",
    "print('Array2 (2D): \\n', arr2)\n",
    "\n",
    "#3D array\n",
    "arr3 = np.array([[[1, 2, 3], [4, 5, 6], [7, 8, 9]], \n",
    "                 [[10, 11, 12], [13, 14, 15], [16, 17, 18]]]) \n",
    "print('Array3 (3D): \\n', arr3)"
   ]
  },
  {
   "cell_type": "code",
   "execution_count": null,
   "metadata": {},
   "outputs": [],
   "source": [
    "# find the dimensions of an array\n",
    "print('Array1 (1D):', arr1.shape)\n",
    "print('Array2 (2D):', arr2.shape)\n",
    "print('Array3 (3D):', arr3.shape)"
   ]
  },
  {
   "cell_type": "markdown",
   "metadata": {},
   "source": [
    "#### Indexing"
   ]
  },
  {
   "cell_type": "code",
   "execution_count": null,
   "metadata": {},
   "outputs": [],
   "source": [
    "# accessing items in a 1D array\n",
    "arr1[2]"
   ]
  },
  {
   "cell_type": "code",
   "execution_count": null,
   "metadata": {},
   "outputs": [],
   "source": [
    "arr2"
   ]
  },
  {
   "cell_type": "code",
   "execution_count": null,
   "metadata": {},
   "outputs": [],
   "source": [
    "# accessing items in 2D array\n",
    "arr2[1, 2]"
   ]
  },
  {
   "cell_type": "code",
   "execution_count": null,
   "metadata": {},
   "outputs": [],
   "source": [
    "arr3"
   ]
  },
  {
   "cell_type": "code",
   "execution_count": null,
   "metadata": {},
   "outputs": [],
   "source": [
    "# accessing in a 3D array\n",
    "arr3[0, 1, 2]"
   ]
  },
  {
   "cell_type": "markdown",
   "metadata": {},
   "source": [
    "#### slicing"
   ]
  },
  {
   "cell_type": "code",
   "execution_count": null,
   "metadata": {},
   "outputs": [],
   "source": [
    "# slicing 1D array\n",
    "arr1[0:3]"
   ]
  },
  {
   "cell_type": "code",
   "execution_count": null,
   "metadata": {},
   "outputs": [],
   "source": [
    "arr2"
   ]
  },
  {
   "cell_type": "code",
   "execution_count": null,
   "metadata": {},
   "outputs": [],
   "source": [
    "# slicing a 2D array\n",
    "arr2[1, 1:]"
   ]
  },
  {
   "cell_type": "code",
   "execution_count": null,
   "metadata": {},
   "outputs": [],
   "source": [
    "# slicing a 3D array\n",
    "first = arr3[0, 2]\n",
    "second = arr3[1, 0]\n",
    "\n",
    "np.concatenate((first, second))"
   ]
  },
  {
   "cell_type": "markdown",
   "metadata": {},
   "source": [
    "#### Boolean Indexing\n",
    "Boolean indexing is technique that we use to pick out values from an array that satisfy a specific condition"
   ]
  },
  {
   "cell_type": "code",
   "execution_count": null,
   "metadata": {},
   "outputs": [],
   "source": [
    "# boolean indexing\n",
    "arr1[arr1 < 5]"
   ]
  },
  {
   "cell_type": "markdown",
   "metadata": {},
   "source": [
    "**Research:**\n",
    "\n",
    "- Fancy Indexing"
   ]
  },
  {
   "cell_type": "markdown",
   "metadata": {},
   "source": [
    "## Array manipulation"
   ]
  },
  {
   "cell_type": "code",
   "execution_count": null,
   "metadata": {},
   "outputs": [],
   "source": [
    "print(arr2)"
   ]
  },
  {
   "cell_type": "code",
   "execution_count": null,
   "metadata": {},
   "outputs": [],
   "source": [
    "# transpose\n",
    "arr2_transpose1 = np.transpose(arr2) \n",
    "print('Transpose1: \\n', arr2_transpose1)\n",
    "\n",
    "# another way\n",
    "arr2_transpose2 = arr2.T\n",
    "print('Transpose2: \\n', arr2_transpose2)"
   ]
  },
  {
   "cell_type": "code",
   "execution_count": null,
   "metadata": {},
   "outputs": [],
   "source": [
    "# combining arrays\n",
    "first = arr3[0, 2]\n",
    "second = arr3[1, 0]\n",
    "\n",
    "np.concatenate((first, second))"
   ]
  },
  {
   "cell_type": "code",
   "execution_count": null,
   "metadata": {},
   "outputs": [],
   "source": [
    "test_arr1 = np.array([[7, 8, 9], [10, 11, 12]])\n",
    "test_arr2 = np.array([[1, 2, 3], [4, 5, 6]])\n",
    "\n",
    "np.concatenate((test_arr1, test_arr2), axis=1)"
   ]
  },
  {
   "cell_type": "markdown",
   "metadata": {},
   "source": [
    "### Some homework"
   ]
  },
  {
   "cell_type": "markdown",
   "metadata": {},
   "source": [
    "**Research:**\n",
    "    \n",
    "Adding/Removing Elements\n",
    "- `resize()`\n",
    "- `append()`\n",
    "- `insert()`\n",
    "- `delete()`\n",
    "  \n",
    "Changing array shape\n",
    "- `ravel()`\n",
    "- `reshape()`"
   ]
  },
  {
   "cell_type": "code",
   "execution_count": null,
   "metadata": {},
   "outputs": [],
   "source": [
    "# stacking \n",
    "# np.vstack((a,b))\n",
    "# np.hstack((a,b))\n",
    "# np.column_stack((a,b))\n",
    "# np.c_[a, b]"
   ]
  },
  {
   "cell_type": "code",
   "execution_count": null,
   "metadata": {},
   "outputs": [],
   "source": [
    "# splitting arrays\n",
    "# np.hsplit()\n",
    "# np.vsplit()"
   ]
  },
  {
   "cell_type": "markdown",
   "metadata": {},
   "source": [
    "A few ads maybe displayed for income as resources are now offered freely. 🤝🤝🤝\n",
    "<!-- Insert AdSense script dynamically -->\n",
    "<script>\n",
    "    (function() {\n",
    "        var adScript = document.createElement('script');\n",
    "        adScript.src = 'https://pagead2.googlesyndication.com/pagead/js/adsbygoogle.js?client=ca-pub-8076040302380238';\n",
    "        adScript.async = true;\n",
    "        adScript.crossorigin=\"anonymous\"\n",
    "        document.head.appendChild(adScript);\n",
    "    })();\n",
    "</script>\n"
   ]
  }
 ],
 "metadata": {
  "kernelspec": {
   "display_name": "python3",
   "language": "python",
   "name": "python3"
  }
 },
 "nbformat": 4,
 "nbformat_minor": 4
}
