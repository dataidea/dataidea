{
 "cells": [
  {
   "cell_type": "markdown",
   "id": "375341dc",
   "metadata": {},
   "source": [
    "![Photo by DATAIDEA](../assets/banner4.png)"
   ]
  },
  {
   "cell_type": "markdown",
   "id": "995fa79a-96f8-4a59-a5d4-a20cdff17ff6",
   "metadata": {},
   "source": [
    "## Data Analysis Outline"
   ]
  },
  {
   "cell_type": "markdown",
   "id": "32114775-ed3b-45b3-88f1-5e40458cdba2",
   "metadata": {},
   "source": [
    "## Week 1: Introduction to Data Analysis [<i class=\"bi bi-arrow-right-circle\" title=\"Get Started\"></i>](./Week1-Intro/11_python_tutorial.ipynb)\n",
    "- Understanding the role of data analysis in decision-making\n",
    "- Introduction to Python for data analysis (Numpy and Pandas)\n",
    "- Exploring data types, data structures, and data manipulation\n",
    "\n",
    "[Get Started <i class=\"bi bi-arrow-right-circle\"></i>](./Week1-Intro/11_python_tutorial.ipynb)"
   ]
  },
  {
   "cell_type": "markdown",
   "id": "afc4d45d-90a6-43fe-a1e9-53c36b37db09",
   "metadata": {},
   "source": [
    "## Week 2: Introduction to Data Cleaning and Preprocessing [<i class=\"bi bi-arrow-right-circle\" title=\"Get Started\"></i>](./Week2-Cleaning-Intro/21_weather_data.ipynb)\n",
    "- Data quality assurance\n",
    "- Identifying and handling missing data\n",
    "- Dealing with outliers and other data anomalies\n",
    "\n",
    "[Get Started <i class=\"bi bi-arrow-right-circle\"></i>](./Week2-Cleaning-Intro/21_weather_data.ipynb)"
   ]
  },
  {
   "cell_type": "markdown",
   "id": "444e904b-576f-4167-bcfb-7c2b7181ccd0",
   "metadata": {},
   "source": [
    "## Week 3: Introduction to Data Visualization [<i class=\"bi bi-arrow-right-circle\" title=\"Get Started\"></i>](./Week3-Visualization/31_matplotlib_refined.ipynb)\n",
    "- Basic plotting techniques using Matplotlib\n",
    "- Extracting insights from data distributions and relationships\n",
    "- Performing EDA using Pandas and visualizations\n",
    "\n",
    "[Get Started <i class=\"bi bi-arrow-right-circle\"></i>](./Week3-Visualization/31_matplotlib_refined.ipynb)"
   ]
  },
  {
   "cell_type": "markdown",
   "id": "1a4267ee-7b0f-420d-a2dc-017263a5682e",
   "metadata": {},
   "source": [
    "## Week 4: Introduction to Machine Learning [<i class=\"bi bi-arrow-right-circle\" title=\"Get Started\"></i>](./Week4-ML-Intro/41_overview_of_machine_learning.ipynb)\n",
    "- Overview of machine learning concepts\n",
    "- Supervised vs. unsupervised learning\n",
    "- Hands-on exercises with Scikit-Learn for classification and regression\n",
    "\n",
    "[Get Started <i class=\"bi bi-arrow-right-circle\"></i>](./Week4-ML-Intro/41_overview_of_machine_learning.ipynb)"
   ]
  },
  {
   "cell_type": "markdown",
   "id": "bed1721d-42f0-4ae6-acfe-eba537db19f4",
   "metadata": {},
   "source": [
    "## Week 5: Statistical Analysis [<i class=\"bi bi-arrow-right-circle\" title=\"Get Started\"></i>](./Week5-Statistics/51_descriptive_statistics.ipynb)\n",
    "- Overview of machine learning concepts\n",
    "- Descriptive statistics and summary metrics\n",
    "- Hypothesis testing and p-values\n",
    "- Implementing statistical analysis in Python using SciPy\n",
    "\n",
    "[Get Started <i class=\"bi bi-arrow-right-circle\"></i>](./Week5-Statistics/51_descriptive_statistics.ipynb)"
   ]
  },
  {
   "cell_type": "markdown",
   "id": "b658d0c5-dde9-48ea-a715-58a4b2303c50",
   "metadata": {},
   "source": [
    "## Week 6: More Data Visualization and Exploratory Data Analysis (EDA) [<i class=\"bi bi-arrow-right-circle\" title=\"Get Started\"></i>](./Week6-Visualization2/62_seaborn_part1.ipynb)\n",
    "- Overview of machine learning concepts\n",
    "- Advanced visualization with Seaborn for statistical analysis\n",
    "- Creating meaningful visualizations for data exploration\n",
    "- Correlation analysis and feature selection\n",
    "\n",
    "[Get Started <i class=\"bi bi-arrow-right-circle\"></i>](./Week6-Visualization2/62_seaborn_part1.ipynb)"
   ]
  },
  {
   "cell_type": "markdown",
   "id": "67725944-e59b-4bff-8fcd-8d6e49686ee2",
   "metadata": {},
   "source": [
    "## Week 7: Data Wrangling and Feature Engineering [<i class=\"bi bi-arrow-right-circle\" title=\"Get Started\"></i>](./Week7-Preprocessing/72_why_scaling.ipynb)\n",
    "- Feature scaling and engineering for model improvement\n",
    "- Data normalization and standardization\n",
    "- Handling categorical data and encoding techniques\n",
    "\n",
    "[Get Started <i class=\"bi bi-arrow-right-circle\"></i>](./Week7-Preprocessing/72_why_scaling.ipynb)"
   ]
  },
  {
   "cell_type": "markdown",
   "id": "8583a7d1-0da1-496c-a52a-e8370cad6b04",
   "metadata": {},
   "source": [
    "## Week 8: Model Evaluation and Validation [<i class=\"bi bi-arrow-right-circle\" title=\"Get Started\"></i>](./Week8-More-ML/80_classification_metrics.ipynb)\n",
    "- Evaluating machine learning models\n",
    "- Cross-validation and hyperparameter tuning\n",
    "- Model selection and performance metrics\n",
    "\n",
    "[Get Started <i class=\"bi bi-arrow-right-circle\"></i>](./Week8-More-ML/80_classification_metrics.ipynb)"
   ]
  },
  {
   "cell_type": "markdown",
   "id": "c0394821-5d82-4d69-bf57-7cf9c943ea3d",
   "metadata": {},
   "source": [
    "## Week 9: Time Series Analysis [<i class=\"bi bi-arrow-right-circle\" title=\"Get Started\"></i>](./Week9-Time-Series/90_introduction.ipynb)\n",
    "- Evaluating machine learning models\n",
    "- Understanding time series data\n",
    "- Time series visualization and decomposition\n",
    "- Forecasting techniques with Python\n",
    "\n",
    "[Get Started <i class=\"bi bi-arrow-right-circle\"></i>](./Week9-Time-Series/90_introduction.ipynb)"
   ]
  },
  {
   "cell_type": "markdown",
   "id": "41d09a33-15b1-4ae8-9c53-af780418ae70",
   "metadata": {},
   "source": [
    "## Week 10: Capstone Project\n",
    "- Applying learned concepts to a real-world dataset\n",
    "- Data analysis, visualization, and modeling\n",
    "- Presenting findings and insights"
   ]
  },
  {
   "cell_type": "markdown",
   "id": "b0518fae",
   "metadata": {},
   "source": [
    "<div class=\"p-3\">\n",
    "<p class=pb-1>\n",
    "Don't miss out on any updates and developments! Subscribe to the DATAIDEA Newsletter it's easy and safe.\n",
    "</p>\n",
    "<iframe src=\"https://embeds.beehiiv.com/5fc7c425-9c7e-4e08-a514-ad6c22beee74?slim=true\" data-test-id=\"beehiiv-embed\" height=\"52\" frameborder=\"0\" scrolling=\"no\" style=\"margin: 0; border-radius: 0px !important; background-color: transparent; width: 100%;\" ></iframe>\n",
    "\n",
    "<script async src=\"https://pagead2.googlesyndication.com/pagead/js/adsbygoogle.js?client=ca-pub-8076040302380238\"\n",
    "     crossorigin=\"anonymous\"></script>\n",
    "<!-- inline_horizontal -->\n",
    "<ins class=\"adsbygoogle\"\n",
    "     style=\"display:block\"\n",
    "     data-ad-client=\"ca-pub-8076040302380238\"\n",
    "     data-ad-slot=\"9021194372\"\n",
    "     data-ad-format=\"auto\"\n",
    "     data-full-width-responsive=\"true\"></ins>\n",
    "<script>\n",
    "     (adsbygoogle = window.adsbygoogle || []).push({});\n",
    "</script>"
   ]
  }
 ],
 "metadata": {
  "kernelspec": {
   "display_name": "python3",
   "language": "python",
   "name": "python3"
  }
 },
 "nbformat": 4,
 "nbformat_minor": 5
}
