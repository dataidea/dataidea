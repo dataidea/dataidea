{
 "cells": [
  {
   "cell_type": "markdown",
   "id": "9635e6f5-96fc-456d-b65e-cf58e339047a",
   "metadata": {},
   "source": [
    "## Containers "
   ]
  },
  {
   "cell_type": "code",
   "execution_count": null,
   "id": "fea01236-5a9d-4641-a7b6-ac3bcde91fd0",
   "metadata": {},
   "outputs": [],
   "source": [
    "## Lists"
   ]
  },
  {
   "cell_type": "code",
   "execution_count": null,
   "id": "ac379690-2379-4469-ae9e-283915eb8a8a",
   "metadata": {},
   "outputs": [
    {
     "name": "stdout",
     "output_type": "stream",
     "text": [
      "<class 'list'>\n"
     ]
    }
   ],
   "source": [
    "pets = ['dog', 'cat', 'rabbit', 'monkey']\n",
    "\n",
    "# A python list is an ordered container\n",
    "\n",
    "# indexing\n",
    "# print(pets[2])\n",
    "# range of indexes\n",
    "# print(pets[1:3])\n",
    "\n",
    "# Adding items\n",
    "pets.append('parrot') #appending\n",
    "\n",
    "pets.insert(2, 'fish') #inserting\n",
    "\n",
    "\n",
    "# Delete items\n",
    "# pop\n",
    "pets.pop()\n",
    "\n",
    "# remove\n",
    "pets.remove('fish')\n",
    "\n",
    "# del\n",
    "del pets[1]\n",
    "\n",
    "# length of a list\n",
    "len(pets)\n",
    "\n",
    "# Change a value \n",
    "pets[1] = 'python'\n",
    "\n",
    "# Check if an item exist\n",
    "'monkey' in pets\n",
    "\n",
    "# Extend a list\n",
    "other_pets = ['turtle', 'horse', 'rat']\n",
    "\n",
    "pets.extend(other_pets)\n",
    "\n",
    "# Get all items in a list one by one\n",
    "# for pet in pets:\n",
    "#     # print(pet)\n",
    "\n",
    "# Another way to create lists\n",
    "friends = list(('Vee', 'Shafara'))\n",
    "print(type(friends))"
   ]
  },
  {
   "cell_type": "markdown",
   "id": "54e23f5b-ac57-41c7-b025-983c677efc5f",
   "metadata": {},
   "source": [
    "## Tuple"
   ]
  },
  {
   "cell_type": "code",
   "execution_count": null,
   "id": "fa05d175-ddbf-4f50-8845-5d25010d5aa5",
   "metadata": {},
   "outputs": [],
   "source": [
    "pets = ('dog', 'cat', 'rabbit')"
   ]
  },
  {
   "cell_type": "markdown",
   "id": "8858538b-83df-431b-8778-fcae79917ece",
   "metadata": {},
   "source": [
    "## Sets"
   ]
  },
  {
   "cell_type": "code",
   "execution_count": null,
   "id": "c1d46850-6ef3-4bc4-8284-e1b859e8c712",
   "metadata": {},
   "outputs": [
    {
     "name": "stdout",
     "output_type": "stream",
     "text": [
      "{'Juma', 'Philo', 'Drileba', 'Akullu', 'Danny', 'Viola', 'Shafara'}\n"
     ]
    }
   ],
   "source": [
    "# A set is a container/collection \n",
    "# that is unordered and immutable\n",
    "\n",
    "pets = {'dog', 'cat', 'rabbit'}\n",
    "\n",
    "mixed = {'dog', 21, True}\n",
    "\n",
    "# print(type(mixed))\n",
    "\n",
    "# Accessing\n",
    "# for pet in pets:\n",
    "#     print(pet)\n",
    "\n",
    "# Adding items to a set\n",
    "pets.add('fish')\n",
    "\n",
    "# Removing items from a set\n",
    "pets.remove('cat') # remove\n",
    "pets.discard('rabbit') #discard\n",
    "pets.pop() # pop removes the last item from the set\n",
    "\n",
    "# Getting the length of a set\n",
    "length = len(pets)\n",
    "\n",
    "# Check membership\n",
    "'parrot' in pets\n",
    "\n",
    "# Combine sets\n",
    "pets.update(mixed)\n",
    "\n",
    "# # Another way to create a set\n",
    "# new_pets = set(('parrot', 'rat', 'python'))\n",
    "# print(type(new_pets))\n",
    "\n",
    "names_set = {'Viola', 'Akullu', 'Juma', 'Shafara'}\n",
    "\n",
    "other_names = {'Danny', 'Philo', 'Drileba', 'Viola'}\n",
    "\n",
    "names_set.update(other_names)\n",
    "\n",
    "print(names_set)\n",
    "\n",
    "# Getting the difference\n",
    "first_numbers = {1, 2, 3, 4}\n",
    "second_numbers = {3, 4, 5, 6}\n",
    "\n",
    "difference = first_numbers - second_numbers\n",
    "difference2 = first_numbers.difference(second_numbers)"
   ]
  },
  {
   "cell_type": "markdown",
   "id": "1dffd9e3-1422-4ae4-8ce2-274258c60c1d",
   "metadata": {},
   "source": [
    "## Dictionaries"
   ]
  },
  {
   "cell_type": "code",
   "execution_count": null,
   "id": "58ab8bf0-7a9c-4ac6-8c5e-a3a6c191784d",
   "metadata": {},
   "outputs": [
    {
     "name": "stdout",
     "output_type": "stream",
     "text": [
      "Juma Shafara\n",
      "{'a': '1', 'b': '2', 'c': '3'}\n"
     ]
    }
   ],
   "source": [
    "# A dictionary is an unordered and mutable colletion of items\n",
    "\n",
    "# Creating \n",
    "person = {\n",
    "    'first_name': 'Voila', \n",
    "    'last_name': 'Akullu',\n",
    "    'age': 16\n",
    "    }\n",
    "\n",
    "# Accessing \n",
    "# person['middle_name']\n",
    "person.get('middle_name')\n",
    "\n",
    "\n",
    "# Adding items \n",
    "person['middle_name'] = 'Vee'\n",
    "\n",
    "# Remove items\n",
    "person.pop('age')\n",
    "\n",
    "del person['middle_name']\n",
    "\n",
    "# Number of elements\n",
    "len(person)\n",
    "\n",
    "# Check if a member(key) exists\n",
    "'middle_name' in person\n",
    "\n",
    "# Looping through a dictionary\n",
    "# for key in person:\n",
    "#     print(person[key])\n",
    "\n",
    "# Nesting dictionaries\n",
    "employees = {\n",
    "    'manager': {\n",
    "        'name': 'Akullu Viola',\n",
    "        'age': 29\n",
    "    },\n",
    "    'programmer': {\n",
    "        'name': 'Juma Shafara',\n",
    "        'age': 30\n",
    "    }\n",
    "}\n",
    "\n",
    "# Accessing nested dictionary\n",
    "programmer = employees['programmer']\n",
    "\n",
    "print(programmer['name'])\n",
    "\n",
    "# Using a dictionary constructer\n",
    "names = ('a1', 'b2', 'c3')\n",
    "dictionary = dict(names)\n",
    "print(dictionary)"
   ]
  },
  {
   "cell_type": "code",
   "execution_count": null,
   "id": "58286455-8dae-4ef4-9161-87429dfb9c5c",
   "metadata": {},
   "outputs": [
    {
     "data": {
      "text/plain": [
       "'Juma Shafara'"
      ]
     },
     "execution_count": null,
     "metadata": {},
     "output_type": "execute_result"
    }
   ],
   "source": [
    "person = {\n",
    "    'first_name': 'John',\n",
    "    'last_name': 'Tong'\n",
    "}\n",
    "\n",
    "# print(person)\n",
    "ln = person['last_name']\n",
    "\n",
    "# Adding elements to a dictionary\n",
    "person['middle_name'] = 'Peter'\n",
    "person['age'] = 39\n",
    "\n",
    "# Changing values in a dictionary\n",
    "person['age'] = 40\n",
    "\n",
    "# Removing items from a dictionary\n",
    "person.pop('middle_name')\n",
    "\n",
    "# finding the number of elements in a dictionary\n",
    "len(person) \n",
    "\n",
    "\n",
    "employees = {\n",
    "    'manager': {\n",
    "        'name': 'Juma Shafara',\n",
    "        'age': 39,\n",
    "        'email': 'jumashafara@dataidea.org'\n",
    "    },\n",
    "    'programmer': {\n",
    "        'name': 'Calvin Tong',\n",
    "        'age': 29,\n",
    "        'email': 'tongcalvin@dataidea.org'\n",
    "    }\n",
    "}\n",
    "\n",
    "employees['manager']['name']"
   ]
  },
  {
   "cell_type": "code",
   "execution_count": null,
   "id": "be850a80-89ee-4628-ba84-d3e179778db7",
   "metadata": {},
   "outputs": [],
   "source": []
  }
 ],
 "metadata": {
  "kernelspec": {
   "display_name": "python3",
   "language": "python",
   "name": "python3"
  }
 },
 "nbformat": 4,
 "nbformat_minor": 5
}
