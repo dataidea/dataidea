{
 "cells": [
  {
   "cell_type": "markdown",
   "id": "8e9a2319-c924-4197-a421-50a0fce4b66d",
   "metadata": {},
   "source": [
    "## Numbers"
   ]
  },
  {
   "cell_type": "markdown",
   "id": "2418dd34-eb7c-4058-9628-d4434998265f",
   "metadata": {},
   "source": [
    "## Types"
   ]
  },
  {
   "cell_type": "code",
   "execution_count": null,
   "id": "8362de4a-2c74-49fe-8e58-8bc782e5f9d5",
   "metadata": {},
   "outputs": [],
   "source": [
    "# Python Numbers: intgers\n",
    "\n",
    "a = 3\n",
    "b = 4\n",
    "number = 5\n",
    "c = 21"
   ]
  },
  {
   "cell_type": "code",
   "execution_count": null,
   "id": "4705c657-23a5-45a9-adf1-16046323f78e",
   "metadata": {},
   "outputs": [],
   "source": [
    "# Python Numbers: floating point\n",
    "a = 3.0\n",
    "b = 4.21\n",
    "number = 5.33\n",
    "c = 6.123"
   ]
  },
  {
   "cell_type": "code",
   "execution_count": null,
   "id": "046ed7fb-7660-41e6-ab9e-155fab527fa1",
   "metadata": {},
   "outputs": [
    {
     "name": "stdout",
     "output_type": "stream",
     "text": [
      "<class 'int'>\n",
      "<class 'float'>\n",
      "<class 'complex'>\n"
     ]
    }
   ],
   "source": [
    "# Python Numbers: type\n",
    "\n",
    "a = 3\n",
    "b = 5.21\n",
    "c = 5.33j\n",
    "\n",
    "print(type(a))\n",
    "print(type(b))\n",
    "print(type(c))"
   ]
  },
  {
   "cell_type": "code",
   "execution_count": null,
   "id": "aaab53f8-90ff-404d-b8ce-096fcf77b370",
   "metadata": {},
   "outputs": [
    {
     "name": "stdout",
     "output_type": "stream",
     "text": [
      "<class 'complex'>\n"
     ]
    }
   ],
   "source": [
    "# Python Numbers: complex\n",
    "\n",
    "b = 4.21j\n",
    "c = 3 + 5j\n",
    "\n",
    "print(type(b))"
   ]
  },
  {
   "cell_type": "markdown",
   "id": "7f22f6c9-2030-45d3-ab71-81377f482b5f",
   "metadata": {},
   "source": [
    "## Number Arthmetics"
   ]
  },
  {
   "cell_type": "code",
   "execution_count": null,
   "id": "5a6bead5-7159-440f-a1d0-aa58f5dc4fde",
   "metadata": {},
   "outputs": [
    {
     "name": "stdout",
     "output_type": "stream",
     "text": [
      "sum: 6\n",
      "difference: 2\n",
      "product: 8\n",
      "quotient: 2.0\n"
     ]
    }
   ],
   "source": [
    "# By Juma Shafara\n",
    "\n",
    "# Python Numbers: arthmetics\n",
    "\n",
    "summation = 4 + 2\n",
    "print('sum:', summation)\n",
    "\n",
    "difference = 4 - 2\n",
    "print('difference:', difference)\n",
    "\n",
    "product = 4 * 2\n",
    "print('product:', product)\n",
    "\n",
    "quotient = 4 / 2\n",
    "print('quotient:', quotient)"
   ]
  },
  {
   "cell_type": "markdown",
   "id": "5eeb5245-fdac-44e0-a997-6168adc011e2",
   "metadata": {},
   "source": [
    "## Number Methods"
   ]
  },
  {
   "cell_type": "code",
   "execution_count": null,
   "id": "61a7cddb-c73f-4ed2-abc6-a9846b545399",
   "metadata": {},
   "outputs": [
    {
     "name": "stdout",
     "output_type": "stream",
     "text": [
      "1\n"
     ]
    }
   ],
   "source": [
    "# By Juma Shafara\n",
    "\n",
    "# Python Numbers: methods\n",
    "\n",
    "# round off\n",
    "# print(round(number=3.1415, ndigits=2))\n",
    "\n",
    "# raise to a power\n",
    "# print(pow(base=4, exp=2))\n",
    "\n",
    "# get absolute value\n",
    "# print(abs(-3.21))\n",
    "\n",
    "# get quotient and reminder\n",
    "# print(divmod(5, 2))\n",
    "\n",
    "quo, rem = divmod(5, 2)\n",
    "\n",
    "print(rem)"
   ]
  }
 ],
 "metadata": {
  "kernelspec": {
   "display_name": "python3",
   "language": "python",
   "name": "python3"
  }
 },
 "nbformat": 4,
 "nbformat_minor": 5
}
