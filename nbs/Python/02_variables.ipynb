{
 "cells": [
  {
   "cell_type": "markdown",
   "id": "074210a2-1c7e-4f67-8683-46457b1f72da",
   "metadata": {},
   "source": [
    "## Variables"
   ]
  },
  {
   "cell_type": "code",
   "execution_count": null,
   "id": "747819af-f133-40bb-9f04-cbb0ecd3d690",
   "metadata": {},
   "outputs": [
    {
     "name": "stdout",
     "output_type": "stream",
     "text": [
      "voila  likes  mango\n"
     ]
    }
   ],
   "source": [
    "fruit = 'mango'\n",
    "name = 'voila'\n",
    "\n",
    "print(name, ' likes ', fruit )\n",
    "\n",
    "# Rules to consider \n",
    "# 1. Spaces are not allowed eg \n",
    "# 2. Can not start with number eg\n",
    "# 3. Can not have special characters eg\n",
    "# 4. Are case sensitive\n",
    "\n",
    "my_favorite_character = 'Stewie Griffin' # snake case\n",
    "myFavoriteCharacter = 'Meg Griffin' # camel case\n",
    "MyFavoriteCharacter = 'Brian Griffin' # Pascal case"
   ]
  },
  {
   "cell_type": "markdown",
   "id": "bcbac3ef-ff7f-4115-ae0a-409a0d9f1fe8",
   "metadata": {},
   "source": [
    "## Data Types"
   ]
  },
  {
   "cell_type": "code",
   "execution_count": null,
   "id": "304b2f4f-92fa-4e8c-9896-80d5f234524a",
   "metadata": {},
   "outputs": [
    {
     "data": {
      "text/plain": [
       "list"
      ]
     },
     "execution_count": null,
     "metadata": {},
     "output_type": "execute_result"
    }
   ],
   "source": [
    "# python numbers\n",
    "# Integers\n",
    "age = 45\n",
    "population = 45000000\n",
    "\n",
    "# Floating point numbers\n",
    "height = 1.7\n",
    "weight = 147.45\n",
    "\n",
    "# complex numbers\n",
    "cat = 4j\n",
    "cat2 = 3 + 5j\n",
    "\n",
    "\n",
    "# Strings\n",
    "name = 'Juma'\n",
    "other_name = \"Masaba Calvin\"\n",
    "statement = 'I love coding'\n",
    "\n",
    "# when to use which quotes\n",
    "report = 'He said, \"I will not go home\"'\n",
    "\n",
    "# Boolean\n",
    "married = True\n",
    "\n",
    "# Lists\n",
    "names = ['juma', 'john', 'calvin']\n",
    "other_stuff = ['mango', True, 38]\n",
    "\n",
    "# Which data type\n",
    "type(names)"
   ]
  },
  {
   "cell_type": "markdown",
   "id": "b2df8dfa-6b64-4aab-aa3b-575967585535",
   "metadata": {},
   "source": [
    "## Numbers"
   ]
  },
  {
   "cell_type": "code",
   "execution_count": null,
   "id": "ffc7a6a6-eab0-4045-8d58-1ba001d4f76e",
   "metadata": {},
   "outputs": [
    {
     "name": "stdout",
     "output_type": "stream",
     "text": [
      "Quotient: 3\n",
      "Remainder: 1\n"
     ]
    }
   ],
   "source": [
    "# sum() can add many numbers at once\n",
    "summation = sum([1,2,3,4,5,6,7,8,9,10])\n",
    "\n",
    "# round() rounds a number to a specified number of decimal places\n",
    "pi = 3.14159265358979\n",
    "rounded_pi = round(pi, 3)\n",
    "\n",
    "# abs() returns the absolute value of a number\n",
    "absolute_value = abs(-5)\n",
    "\n",
    "# pow() returns the value of x to the power of y)\n",
    "four_power_two = pow(4, 2)\n",
    "\n",
    "# divmod() returns the quotient and remainder of a division\n",
    "# division = divmod(10, 3)\n",
    "quotient, remainder = divmod(10, 3)\n",
    "print('Quotient:', quotient)\n",
    "print('Remainder:', remainder)"
   ]
  },
  {
   "cell_type": "code",
   "execution_count": null,
   "id": "25f6c564-3741-4162-8d60-4a8ca22529de",
   "metadata": {},
   "outputs": [
    {
     "name": "stdout",
     "output_type": "stream",
     "text": [
      "<class 'int'>\n",
      "3.75\n"
     ]
    }
   ],
   "source": [
    "# integers\n",
    "a = 3\n",
    "b = 4\n",
    "c = 5\n",
    "\n",
    "# floating points\n",
    "d = 3.0\n",
    "e = 4.21\n",
    "f = 5.33\n",
    "\n",
    "# complex numbers\n",
    "g = 3j\n",
    "h = 4.21j\n",
    "i = 1 + 2j\n",
    "\n",
    "# Finding data type\n",
    "print(type(a))\n",
    "\n",
    "# adding numbers\n",
    "sum = 4 + 2\n",
    "\n",
    "# subtract numbers\n",
    "difference = 4 - 2\n",
    "\n",
    "# multiply numbers\n",
    "product = 4 * 2\n",
    "\n",
    "# divide numbers\n",
    "quotient = 4 / 2\n",
    "\n",
    "\n",
    "average = (1 + 3 + 4 +7) / 4\n",
    "print(average)"
   ]
  },
  {
   "cell_type": "markdown",
   "id": "52cdf13f-fb31-4e9e-b0a3-23c908428710",
   "metadata": {},
   "source": [
    "## Strings"
   ]
  },
  {
   "cell_type": "code",
   "execution_count": null,
   "id": "ccec83a1-e3ad-408e-92e3-7c0e4ec9448d",
   "metadata": {},
   "outputs": [
    {
     "name": "stdin",
     "output_type": "stream",
     "text": [
      " Are you 18+ \n",
      " Enter n for no or y for yes: n\n"
     ]
    }
   ],
   "source": [
    "# Strings\n",
    "name = 'Juma'\n",
    "other_name = \"Masaba\"\n",
    "statement = 'I love coding'\n",
    "\n",
    "# adding strings (appending strings)\n",
    "full_name = name + other_name\n",
    "full_name\n",
    "\n",
    "# when to use which quotes\n",
    "report = 'He said, \"I will not go home\"'\n",
    "\n",
    "report.capitalize()\n",
    "\n",
    "report.lower()\n",
    "\n",
    "upped_report = report.upper()\n",
    "\n",
    "# Accessing characters in strings\n",
    "name[-1]\n",
    "\n",
    "\n",
    "# response = input(' Are you 18+ \\n Enter n for no or y for yes:')"
   ]
  },
  {
   "cell_type": "markdown",
   "id": "cb22935a-9a9f-4ed3-a4d9-7d50edea82fa",
   "metadata": {},
   "source": [
    "## String Methods"
   ]
  },
  {
   "cell_type": "code",
   "execution_count": null,
   "id": "b6ca30ac-cfa4-4913-b5dd-9a8f54374e59",
   "metadata": {},
   "outputs": [
    {
     "name": "stdout",
     "output_type": "stream",
     "text": [
      "False\n"
     ]
    }
   ],
   "source": [
    "text = 'shafara VEe'\n",
    "capitalized_text = text.capitalize()\n",
    "# print(capitalized_text) \n",
    "\n",
    "upper_text = text.upper()\n",
    "# print(upper_text)\n",
    "\n",
    "lower_text = text.lower()\n",
    "# print(lower_text)\n",
    "\n",
    "corrected_text = text.replace('VEe', 'Viola')\n",
    "# print(corrected_text)\n",
    "\n",
    "print('shafara' not in text)"
   ]
  },
  {
   "cell_type": "markdown",
   "id": "081c0556-46a9-4bef-bf95-55da3227c019",
   "metadata": {},
   "source": [
    "## Booleans"
   ]
  },
  {
   "cell_type": "code",
   "execution_count": null,
   "id": "a0cfdfb7-4cfa-4865-87f5-24abbd2f4ede",
   "metadata": {},
   "outputs": [
    {
     "name": "stdout",
     "output_type": "stream",
     "text": [
      "<class 'bool'>\n"
     ]
    }
   ],
   "source": [
    "isCute = True\n",
    "print(type(isCute))"
   ]
  },
  {
   "cell_type": "markdown",
   "id": "91c59e8a-734c-483b-a6f2-0afef4898042",
   "metadata": {},
   "source": [
    "## Converting Types"
   ]
  },
  {
   "cell_type": "code",
   "execution_count": null,
   "id": "3f16f9c4-4575-4247-9402-80aa01dbe36c",
   "metadata": {},
   "outputs": [
    {
     "name": "stdout",
     "output_type": "stream",
     "text": [
      "3\n"
     ]
    }
   ],
   "source": [
    "# convert an integer to a string\n",
    "age = 45\n",
    "message = 'Peter Griffin is '+ str(age) + ' years old'\n",
    "\n",
    "# Convert floating point to integer\n",
    "pi = 3.14159\n",
    "print(int(pi))"
   ]
  }
 ],
 "metadata": {
  "kernelspec": {
   "display_name": "python3",
   "language": "python",
   "name": "python3"
  }
 },
 "nbformat": 4,
 "nbformat_minor": 5
}
