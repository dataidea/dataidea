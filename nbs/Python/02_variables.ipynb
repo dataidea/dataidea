{
 "cells": [
  {
   "cell_type": "markdown",
   "id": "b4ab0d86",
   "metadata": {},
   "source": [
    "## Python Variables"
   ]
  },
  {
   "cell_type": "markdown",
   "id": "88fc1fcf-2b16-4a64-aea7-52a8947e8638",
   "metadata": {},
   "source": [
    "![Photo by DATAIDEA](../assets/banner4.png)"
   ]
  },
  {
   "cell_type": "markdown",
   "id": "c45b2561",
   "metadata": {},
   "source": [
    "[Video: Python Variables](https://www.youtube.com/embed/sMPgOIwTC_U?si=WKdcP5QDfL9ncXQN)\n",
    "<div class=\"video-wrapper\">\n",
    "  <iframe\n",
    "    class=\"video-iframe\"\n",
    "    src=\"https://www.youtube.com/embed/sMPgOIwTC_U?si=WKdcP5QDfL9ncXQN\"\n",
    "    title=\"YouTube video player\"\n",
    "    frameborder=\"0\"\n",
    "    allow=\"accelerometer; autoplay; clipboard-write; encrypted-media; gyroscope; picture-in-picture;\"\n",
    "    allowfullscreen\n",
    "  >\n",
    "  </iframe>\n",
    "</div>"
   ]
  },
  {
   "cell_type": "markdown",
   "id": "7908d65c-93e2-4104-a594-eadfe0f3ca54",
   "metadata": {},
   "source": [
    "## Variables\n",
    "- Varibles are used to store values.\n",
    "- To create a variable, use the equal sign `(=)`.\n",
    "\n",
    "In the examples below, we create varibales name `fruit` and `name` and we assign them values `'mango'` and `'viola'` respectively"
   ]
  },
  {
   "cell_type": "code",
   "execution_count": null,
   "id": "5d280e08-50fc-45bd-81cb-6f2c6f873a26",
   "metadata": {},
   "outputs": [
    {
     "name": "stdout",
     "output_type": "stream",
     "text": [
      "voila  likes  mango\n"
     ]
    }
   ],
   "source": [
    "fruit = 'mango'\n",
    "name = 'voila'\n",
    "\n",
    "# printing out\n",
    "print(name, ' likes ', fruit )"
   ]
  },
  {
   "cell_type": "markdown",
   "id": "9e948cfb-f5e8-4a18-801d-22415fa17fc6",
   "metadata": {},
   "source": [
    "### Rules to consider \n",
    "- Spaces are not allowed eg \n",
    "- Can not start with number eg\n",
    "- Can not have special characters eg\n",
    "- Are case sensitive"
   ]
  },
  {
   "cell_type": "markdown",
   "id": "72948bcc-bf9e-4d90-bbca-9ef2b5071477",
   "metadata": {},
   "source": [
    "Examples of good variable names"
   ]
  },
  {
   "cell_type": "code",
   "execution_count": null,
   "id": "747819af-f133-40bb-9f04-cbb0ecd3d690",
   "metadata": {},
   "outputs": [],
   "source": [
    "my_favorite_character = 'Stewie Griffin' # snake case\n",
    "myFavoriteCharacter = 'Meg Griffin' # camel case\n",
    "MyFavoriteCharacter = 'Brian Griffin' # Pascal case"
   ]
  },
  {
   "cell_type": "markdown",
   "id": "bcbac3ef-ff7f-4115-ae0a-409a0d9f1fe8",
   "metadata": {},
   "source": [
    "<script async src=\"https://pagead2.googlesyndication.com/pagead/js/adsbygoogle.js?client=ca-pub-8076040302380238\"\n",
    "     crossorigin=\"anonymous\"></script>\n",
    "<!-- inline_horizontal -->\n",
    "<ins class=\"adsbygoogle\"\n",
    "     style=\"display:block\"\n",
    "     data-ad-client=\"ca-pub-8076040302380238\"\n",
    "     data-ad-slot=\"9021194372\"\n",
    "     data-ad-format=\"auto\"\n",
    "     data-full-width-responsive=\"true\"></ins>\n",
    "<script>\n",
    "     (adsbygoogle = window.adsbygoogle || []).push({});\n",
    "</script>\n",
    "\n",
    "## Data Types\n",
    "In this section of the tutorial, you will learn the most basic data types in Python"
   ]
  },
  {
   "cell_type": "markdown",
   "id": "872f46d9-84ef-42b5-818e-ea46fefc57f4",
   "metadata": {},
   "source": [
    "### Numbers\n",
    "\n",
    "These are two basic types of numbers and they are called:\n",
    "- integer(numbers without decimal places)\n",
    "- floating point numbers(numbers with decimal places)"
   ]
  },
  {
   "cell_type": "code",
   "execution_count": null,
   "id": "304b2f4f-92fa-4e8c-9896-80d5f234524a",
   "metadata": {},
   "outputs": [],
   "source": [
    "# python numbers\n",
    "# Integers\n",
    "age = 45\n",
    "population = 45000000"
   ]
  },
  {
   "cell_type": "code",
   "execution_count": null,
   "id": "207fc3b8-d659-40ca-a231-f71436db3787",
   "metadata": {},
   "outputs": [],
   "source": [
    "# Floating point numbers\n",
    "height = 1.7\n",
    "weight = 147.45"
   ]
  },
  {
   "cell_type": "markdown",
   "id": "fb69631f",
   "metadata": {},
   "source": [
    "[More on Numbers <i class=\"bi bi-arrow-right-circle\" title=\"Get Started\"></i>](./02_variables.ipynb)"
   ]
  },
  {
   "cell_type": "markdown",
   "id": "c63909ae-8c1c-4d78-9fb7-96a18fddcb92",
   "metadata": {},
   "source": [
    "## Strings\n",
    "\n",
    "Strings are simply text. A string must be surrounded by single or double quotes"
   ]
  },
  {
   "cell_type": "code",
   "execution_count": null,
   "id": "d1c47243-566a-4752-9829-a5de97f1b529",
   "metadata": {},
   "outputs": [],
   "source": [
    "# Strings\n",
    "name = 'Juma'\n",
    "other_name = \"Masaba Calvin\"\n",
    "statement = 'I love coding'"
   ]
  },
  {
   "cell_type": "markdown",
   "id": "81f63c0d-d8b1-407e-b736-c859bf32377b",
   "metadata": {},
   "source": [
    "### Single or double quotes?\n",
    "\n",
    "Use single quotes when your string contains double quotes, or the vice versa."
   ]
  },
  {
   "cell_type": "code",
   "execution_count": null,
   "id": "ed500ff8-53c1-4880-bc51-33cff2c3214b",
   "metadata": {},
   "outputs": [],
   "source": [
    "# when to use which quotes\n",
    "report = 'He said, \"I will not go home\"'"
   ]
  },
  {
   "cell_type": "markdown",
   "id": "807d5c3f-da31-4353-b289-1586a47f078d",
   "metadata": {},
   "source": [
    "### String Methods\n",
    "In this lesson, we will study some methods(functions) that can be used to work with strings."
   ]
  },
  {
   "cell_type": "markdown",
   "id": "aa486b29-dab1-4630-a2eb-2cec2f28905f",
   "metadata": {},
   "source": [
    "#### Capitalize String\n",
    "The `capitalize()` function returns the string where the first letter is in upper case. \n",
    "\n",
    "Note that it doesn't modify the original string. "
   ]
  },
  {
   "cell_type": "code",
   "execution_count": null,
   "id": "130744ae-290b-4950-bafc-4f2e04e9e3eb",
   "metadata": {},
   "outputs": [
    {
     "name": "stdout",
     "output_type": "stream",
     "text": [
      "Shafara vee\n"
     ]
    }
   ],
   "source": [
    "text = 'shafara VEe'\n",
    "capitalized_text = text.capitalize()\n",
    "print(capitalized_text)"
   ]
  },
  {
   "cell_type": "markdown",
   "id": "ffa30ad3-879d-4724-84fb-40337731832d",
   "metadata": {},
   "source": [
    "#### Convert to Upper Case\n",
    "The `upper()` function returns a copy of the given string but all the letters are in upper case.\n",
    "\n",
    "Note that this does not modify the original string."
   ]
  },
  {
   "cell_type": "code",
   "execution_count": null,
   "id": "7b97c863-27a0-407c-a96d-5a1c960c4de2",
   "metadata": {},
   "outputs": [
    {
     "name": "stdout",
     "output_type": "stream",
     "text": [
      "SHAFARA VEE\n"
     ]
    }
   ],
   "source": [
    "text = 'shafara VEe'\n",
    "upper_text = text.upper()\n",
    "print(upper_text)"
   ]
  },
  {
   "cell_type": "markdown",
   "id": "8ee3177a-13bf-4267-bed1-48c48685ef7b",
   "metadata": {},
   "source": [
    "#### Convert to Lower Case\n",
    "The `lower()` function returns a copy of the given string but all the letter are in lower case.\n",
    "\n",
    "Note that it does not modify the original text/string"
   ]
  },
  {
   "cell_type": "code",
   "execution_count": null,
   "id": "44be3e27-3185-48ea-b150-3c4800bdc247",
   "metadata": {},
   "outputs": [
    {
     "name": "stdout",
     "output_type": "stream",
     "text": [
      "Lower case text: shafara vee\n"
     ]
    }
   ],
   "source": [
    "text = 'shafara VEe'\n",
    "lower_text = text.lower()\n",
    "print(lower_text)"
   ]
  },
  {
   "cell_type": "markdown",
   "id": "349ef2c4-f394-4d47-837c-3149d899b81b",
   "metadata": {},
   "source": [
    "#### Get the lenght of a String\n",
    "The length of a  string is the number of characters it contains\n",
    "\n",
    "The `len()` function returns the length of a string. It takes on paramter, the string."
   ]
  },
  {
   "cell_type": "code",
   "execution_count": null,
   "id": "c8872fea-dc01-41b3-b4cb-ee9f939e7786",
   "metadata": {},
   "outputs": [
    {
     "name": "stdout",
     "output_type": "stream",
     "text": [
      "11\n"
     ]
    }
   ],
   "source": [
    "text = 'shafara VEe'\n",
    "text_length = len(text)\n",
    "print(text_length)"
   ]
  },
  {
   "cell_type": "markdown",
   "id": "35b7bdf5-c48f-49d6-9e86-9e14625e35bb",
   "metadata": {},
   "source": [
    "#### Replace Parts of a String.\n",
    "The `replace()` method/function replaces the occurrences of a specified substring with another substring.\n",
    "\n",
    "It doesn't modify the original string."
   ]
  },
  {
   "cell_type": "code",
   "execution_count": null,
   "id": "7b733ff9-e31b-4585-b819-cb1a5afad400",
   "metadata": {},
   "outputs": [
    {
     "name": "stdout",
     "output_type": "stream",
     "text": [
      "shafara Viola\n"
     ]
    }
   ],
   "source": [
    "text = 'shafara VEe'\n",
    "corrected_text = text.replace('VEe', 'Viola')\n",
    "print(corrected_text)"
   ]
  },
  {
   "cell_type": "markdown",
   "id": "c5d1ee99-be60-4d11-a11e-f9004d4c3ac6",
   "metadata": {},
   "source": [
    "#### Check if a Value is Present in a String\n",
    "To check if a substring is present in a string, use the `in` keyword.\n",
    "\n",
    "It returns `True` if the substring is found, otherwise `False`."
   ]
  },
  {
   "cell_type": "code",
   "execution_count": null,
   "id": "836b002f-14e2-4f3b-ad97-942fcfb7b5ba",
   "metadata": {},
   "outputs": [
    {
     "name": "stdout",
     "output_type": "stream",
     "text": [
      "False\n"
     ]
    }
   ],
   "source": [
    "text = 'shafara VEe'\n",
    "print('shafara' not in text)"
   ]
  },
  {
   "cell_type": "markdown",
   "id": "f11a9ff6-4b8c-493e-b264-ceaf216f8110",
   "metadata": {},
   "source": [
    "<script async src=\"https://pagead2.googlesyndication.com/pagead/js/adsbygoogle.js?client=ca-pub-8076040302380238\"\n",
    "     crossorigin=\"anonymous\"></script>\n",
    "<!-- inline_horizontal -->\n",
    "<ins class=\"adsbygoogle\"\n",
    "     style=\"display:block\"\n",
    "     data-ad-client=\"ca-pub-8076040302380238\"\n",
    "     data-ad-slot=\"9021194372\"\n",
    "     data-ad-format=\"auto\"\n",
    "     data-full-width-responsive=\"true\"></ins>\n",
    "<script>\n",
    "     (adsbygoogle = window.adsbygoogle || []).push({});\n",
    "</script>\n",
    "\n",
    "### Booleans\n",
    "Boolean data type can only have on fo these values: `True` or `False`\n",
    "\n",
    "<div class=\"alert text-white rounded\" style=\"background: #3a6e68;\"><h4>Note!</h4><p>The first letter of a Boolean is in upper case.</p></div>\n",
    "\n",
    "Booleans are often the result of evaluated expressions.\n",
    "\n",
    "Forexample, when you compare two numbers, Python evaluates the expression and returns either `True` or `False`"
   ]
  },
  {
   "cell_type": "code",
   "execution_count": null,
   "id": "248160e3-6293-4aa3-807a-189250aa7725",
   "metadata": {},
   "outputs": [
    {
     "name": "stdout",
     "output_type": "stream",
     "text": [
      "True\n",
      "True\n",
      "False\n"
     ]
    }
   ],
   "source": [
    "print(5 == 5)\n",
    "print(10 > 5)\n",
    "print(20 < 10)"
   ]
  },
  {
   "cell_type": "markdown",
   "id": "e0a74c45-029b-44dd-9c60-ac06161bb302",
   "metadata": {},
   "source": [
    "These are often used in `if` statments.\n",
    "\n",
    "In this example, if the value of the variable `age` is more than `18`, the program will tell the user that they are allowed to enter"
   ]
  },
  {
   "cell_type": "code",
   "execution_count": null,
   "id": "25c40dab-0db0-459e-a26c-ce6f54060dd1",
   "metadata": {},
   "outputs": [
    {
     "name": "stdout",
     "output_type": "stream",
     "text": [
      "You are allowed to enter.\n"
     ]
    }
   ],
   "source": [
    "age = 19\n",
    "\n",
    "if age > 18:\n",
    "    print('You are allowed to enter.')"
   ]
  },
  {
   "cell_type": "markdown",
   "id": "1d57d805-bda9-4db5-8975-379b8357be26",
   "metadata": {},
   "source": [
    "<div class=\"alert text-white rounded\" style=\"background: #3a6e68;\"><h4>Note!</h4><p>You will learn more about if statements later in the course</p></div>"
   ]
  },
  {
   "cell_type": "markdown",
   "id": "7156cefe-88b1-48f0-924f-58dc88061bed",
   "metadata": {},
   "source": [
    "#### Checking the Type of a Boolean\n",
    "We can check the data type of a Boolean variable using the `type()` method."
   ]
  },
  {
   "cell_type": "code",
   "execution_count": null,
   "id": "4527fe73-5bb0-4702-9dea-0f1422ffc3ee",
   "metadata": {},
   "outputs": [
    {
     "name": "stdout",
     "output_type": "stream",
     "text": [
      "<class 'bool'>\n"
     ]
    }
   ],
   "source": [
    "married = True\n",
    "print(type(married))"
   ]
  },
  {
   "cell_type": "markdown",
   "id": "05dd39c1-86cf-4ae1-b4d8-3afeb34c0063",
   "metadata": {},
   "source": [
    "### Lists\n",
    "- A list is an ordered collection of data\n",
    "- It can contain strings, numbers or even other lists\n",
    "- Lists are written with square brackets (`[]`)\n",
    "- The values in lists (also called elements) are separated by commas (`,`)"
   ]
  },
  {
   "cell_type": "code",
   "execution_count": null,
   "id": "d5b765e4-bfe6-42c9-a8f1-287646d2becb",
   "metadata": {},
   "outputs": [
    {
     "name": "stdout",
     "output_type": "stream",
     "text": [
      "['juma', 'john', 'calvin']\n"
     ]
    }
   ],
   "source": [
    "# Lists\n",
    "names = ['juma', 'john', 'calvin']\n",
    "print(names)"
   ]
  },
  {
   "cell_type": "markdown",
   "id": "40eba4ba-8241-476a-89bb-bd80833b7a93",
   "metadata": {},
   "source": [
    "A list can contain mixed data types"
   ]
  },
  {
   "cell_type": "code",
   "execution_count": null,
   "id": "ba2f43fa-a6d7-48c6-9a5a-e94d50b7b4f6",
   "metadata": {},
   "outputs": [
    {
     "name": "stdout",
     "output_type": "stream",
     "text": [
      "['mango', True, 38]\n"
     ]
    }
   ],
   "source": [
    "other_stuff = ['mango', True, 38]\n",
    "print(other_stuff)"
   ]
  },
  {
   "cell_type": "markdown",
   "id": "519703d7-5b18-4691-87d5-b98abcb82b99",
   "metadata": {},
   "source": [
    "### Checking data types\n",
    "\n",
    "To check the data type of an object in python, use `type(object)`, for example, below we get the data type of the object stored in names"
   ]
  },
  {
   "cell_type": "code",
   "execution_count": null,
   "id": "507d2c21-e25b-4406-8fe1-fa963d66200e",
   "metadata": {},
   "outputs": [
    {
     "data": {
      "text/plain": [
       "list"
      ]
     },
     "execution_count": null,
     "metadata": {},
     "output_type": "execute_result"
    }
   ],
   "source": [
    "# Which data type\n",
    "type(names)"
   ]
  },
  {
   "cell_type": "markdown",
   "id": "91c59e8a-734c-483b-a6f2-0afef4898042",
   "metadata": {},
   "source": [
    "<script async src=\"https://pagead2.googlesyndication.com/pagead/js/adsbygoogle.js?client=ca-pub-8076040302380238\"\n",
    "     crossorigin=\"anonymous\"></script>\n",
    "<!-- inline_horizontal -->\n",
    "<ins class=\"adsbygoogle\"\n",
    "     style=\"display:block\"\n",
    "     data-ad-client=\"ca-pub-8076040302380238\"\n",
    "     data-ad-slot=\"9021194372\"\n",
    "     data-ad-format=\"auto\"\n",
    "     data-full-width-responsive=\"true\"></ins>\n",
    "<script>\n",
    "     (adsbygoogle = window.adsbygoogle || []).push({});\n",
    "</script>\n",
    "\n",
    "## Converting Types"
   ]
  },
  {
   "cell_type": "markdown",
   "id": "0045b6cd-31ef-4e76-b987-cc53cbda81db",
   "metadata": {},
   "source": [
    "#### Convert to String\n",
    "The `str()` method returns the string version of a given object"
   ]
  },
  {
   "cell_type": "code",
   "execution_count": null,
   "id": "3f16f9c4-4575-4247-9402-80aa01dbe36c",
   "metadata": {},
   "outputs": [
    {
     "name": "stdout",
     "output_type": "stream",
     "text": [
      "Peter Griffin is 45 years old\n"
     ]
    }
   ],
   "source": [
    "# convert an integer to a string\n",
    "age = 45\n",
    "message = 'Peter Griffin is '+ str(age) + ' years old'\n",
    "print(message)"
   ]
  },
  {
   "cell_type": "markdown",
   "id": "f3ca325a-773a-4963-a6c0-4bf1831f7f12",
   "metadata": {},
   "source": [
    "#### Convert to Integer\n",
    "The `int()` method returns the integer version of the given object."
   ]
  },
  {
   "cell_type": "code",
   "execution_count": null,
   "id": "1f0329b8-0b13-48fd-a317-b87daeee6c64",
   "metadata": {},
   "outputs": [],
   "source": [
    "# Convert floating point to integer\n",
    "pi = 3.14159\n",
    "print(int(pi))"
   ]
  },
  {
   "cell_type": "markdown",
   "id": "62376d64-696c-4712-bf91-5cbe40a506d5",
   "metadata": {},
   "source": [
    "#### Convert to Float\n",
    "The `float()` method returns the floating point version of the given object."
   ]
  },
  {
   "cell_type": "code",
   "execution_count": null,
   "id": "b2b744c7-41bc-4476-bcba-13e3a03a6859",
   "metadata": {},
   "outputs": [
    {
     "name": "stdout",
     "output_type": "stream",
     "text": [
      "4.0\n"
     ]
    }
   ],
   "source": [
    "side = 4\n",
    "print(float(side))"
   ]
  },
  {
   "cell_type": "markdown",
   "id": "8e27bf4e",
   "metadata": {},
   "source": [
    "<div class=\"p-3\">\n",
    "<p class=pb-1>\n",
    "Don't miss out on any updates and developments! Subscribe to the DATAIDEA Newsletter it's easy and safe.\n",
    "</p>\n",
    "<iframe src=\"https://embeds.beehiiv.com/5fc7c425-9c7e-4e08-a514-ad6c22beee74?slim=true\" data-test-id=\"beehiiv-embed\" height=\"52\" frameborder=\"0\" scrolling=\"no\" style=\"margin: 0; border-radius: 0px !important; background-color: transparent; width: 100%;\" ></iframe>\n",
    "</div>"
   ]
  }
 ],
 "metadata": {
  "kernelspec": {
   "display_name": "python3",
   "language": "python",
   "name": "python3"
  }
 },
 "nbformat": 4,
 "nbformat_minor": 5
}
