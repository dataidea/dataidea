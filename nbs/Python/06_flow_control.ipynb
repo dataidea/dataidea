{
 "cells": [
  {
   "cell_type": "markdown",
   "id": "c8b03d86-a298-4f0b-8a81-bb12a08e863b",
   "metadata": {},
   "source": [
    "## Flow Control"
   ]
  },
  {
   "cell_type": "markdown",
   "id": "5fbafb89-e762-4803-8876-01578549ddf1",
   "metadata": {},
   "source": [
    "## Functions"
   ]
  },
  {
   "cell_type": "code",
   "execution_count": null,
   "id": "812e763c-d6da-4612-bd1e-8cc5eed06946",
   "metadata": {},
   "outputs": [
    {
     "name": "stdout",
     "output_type": "stream",
     "text": [
      "23.18\n"
     ]
    }
   ],
   "source": [
    "# # A function in python is a group statements that perform a particular task\n",
    "\n",
    "# def calculateBodyMassIndex(weight_kg, height_m):\n",
    "\n",
    "#     body_mass_index = weight_kg / pow(height_m, 2)\n",
    "\n",
    "#     rounded_bmi = round(body_mass_index, 2)\n",
    "\n",
    "#     print('The body mass index of a person weighing ' + str(weight_kg) + \n",
    "#     'kgs and are ' + str(height_m) + 'metres tall is ' + str(rounded_bmi))\n",
    "\n",
    "\n",
    "\n",
    "\n",
    "# persons = [\n",
    "#     {\n",
    "#         'name': 'tinye',\n",
    "#         'height': 1.7,\n",
    "#         'weight': 73\n",
    "#     }, \n",
    "#     {\n",
    "#         'name': 'juma',\n",
    "#         'height': 1.6,\n",
    "#         'weight': 59\n",
    "#     }\n",
    "#     , \n",
    "#     {\n",
    "#         'name': 'shafara',\n",
    "#         'height': 1.5,\n",
    "#         'weight': 59\n",
    "#     }\n",
    "#     ]\n",
    "\n",
    "# for person in persons:\n",
    "#     # calculateBodyMassIndex(person['weight'], person['height'])\n",
    "\n",
    "# def greeter(name):\n",
    "#     message = 'Hello ' + name\n",
    "#     print(message)\n",
    "\n",
    "# greeter('Tinye')\n",
    "\n",
    "# def addNumbers(number1, number2):\n",
    "#     sum = number1 + number2\n",
    "#     print(sum)\n",
    "\n",
    "# addNumbers(3, 27)\n",
    "# write a function that divide, multiply, subtract 2 numbers\n",
    "    \n",
    "# def greet(name='you'):\n",
    "#     message = 'Hello ' + name\n",
    "#     print(message)\n",
    "\n",
    "# greet()\n",
    "\n",
    "#  Return Statement\n",
    "\n",
    "# def addNumbers(number1, number2):\n",
    "#     sum = number1 + number2\n",
    "#     return sum\n",
    "#     print('statement outside the return statement')\n",
    "\n",
    "# summation = addNumbers(56, 4)\n",
    "\n",
    "# print(summation)\n",
    "\n",
    "# lambda functions\n",
    "\n",
    "calculateBMI = lambda weight_kg, height_m: round((weight_kg/(height_m ** 2)), 2)\n",
    "\n",
    "\n",
    "print(calculateBMI(67, 1.7))"
   ]
  },
  {
   "cell_type": "code",
   "execution_count": null,
   "id": "474841f0-0bbf-4a30-ae3a-2171aa62f442",
   "metadata": {},
   "outputs": [],
   "source": [
    "# Assume 4 course units\n",
    "# 1. Math - A\n",
    "# 2. Science - B\n",
    "# 3. SST - B\n",
    "# 4. English - C\n",
    "\n",
    "\n",
    "def calculate_CGPA(GPs_list, CUs_list):\n",
    "    length = len(GPs_list)\n",
    "    product_sum = 0\n",
    "\n",
    "    for item in range(length):\n",
    "        product_sum += GPs_list[item] * CUs_list[item]\n",
    "\n",
    "    CUs_sum = sum(CUs_list)\n",
    "\n",
    "    CGPA = product_sum / CUs_sum\n",
    "\n",
    "    return CGPA\n",
    "\n",
    "# calculate_CGPA(4, 5)"
   ]
  },
  {
   "cell_type": "code",
   "execution_count": null,
   "id": "4e5392e2-3ca6-4ce8-8b99-d7eed827e37c",
   "metadata": {},
   "outputs": [
    {
     "name": "stdout",
     "output_type": "stream",
     "text": [
      "23 years 2 months\n"
     ]
    }
   ],
   "source": [
    "def getAge(month, year):\n",
    "    month_diff = 12 - month\n",
    "    year_diff = 2023 - year\n",
    "\n",
    "    return str(year_diff) + ' years ' + str(month_diff) + ' months'  \n",
    "    \n",
    "age = getAge(year=2000, month=10) # keyword argument\n",
    "age2 = getAge(10, 2000) # positional argument\n",
    "\n",
    "print(age)"
   ]
  },
  {
   "cell_type": "markdown",
   "id": "01351767-f051-45ff-b289-a7f26184e9c7",
   "metadata": {},
   "source": [
    "## Loops "
   ]
  },
  {
   "cell_type": "code",
   "execution_count": null,
   "id": "4c45b929-aa5e-4e61-84c9-e128ef1f2c4a",
   "metadata": {},
   "outputs": [
    {
     "name": "stdout",
     "output_type": "stream",
     "text": [
      "0\n",
      "1\n",
      "4\n",
      "9\n",
      "16\n",
      "36\n",
      "49\n",
      "64\n",
      "81\n"
     ]
    }
   ],
   "source": [
    "# Loops are used to repetitively execute a group of statements \n",
    "\n",
    "# we have 2 types, for and while loop\n",
    "\n",
    "# for variable in sequence:\n",
    "#     statements\n",
    "\n",
    "\n",
    "# weights_kg = [145, 100, 76, 80]\n",
    "# weights_pds = []\n",
    "\n",
    "# for weight in weights_kg:\n",
    "#     pounds = weight * 2.2\n",
    "#     rounded_pds = round(pounds, 2)\n",
    "#     weights_pds.append(rounded_pds)\n",
    "\n",
    "\n",
    "# name = 'Shafara'\n",
    "\n",
    "# for letter in name:\n",
    "#     print(letter)\n",
    "# numbers = [0, 1, 2, 3, 4, 5, 6, 7, 8]\n",
    "\n",
    "# for step in range(0, 5):\n",
    "#     print('Hello you')\n",
    "    \n",
    "\n",
    "# While loop\n",
    "    \n",
    "# counter = 0\n",
    "\n",
    "# while counter < 5:\n",
    "#     print('Hello you')\n",
    "#     counter += 1\n",
    "\n",
    "# weights_kg = [145, 100, 76, 80]\n",
    "# weights_pds = []\n",
    "\n",
    "# counter = 0\n",
    "# end = len(weights_kg)\n",
    "\n",
    "# while counter < end:\n",
    "\n",
    "#     pound = weights_kg[counter] * 2.2\n",
    "#     rounded_pds = round(pound, 3)\n",
    "#     weights_pds.append(rounded_pds)\n",
    "\n",
    "#     counter += 1\n",
    "\n",
    "# print(weights_pds)\n",
    "\n",
    "\n",
    "numbers = [0, 1, 2, 3, 4, 5, 6, 7, 8, 9]\n",
    "\n",
    "for number in numbers:\n",
    "    if number == 5:\n",
    "        continue \n",
    "    print(number ** 2)"
   ]
  },
  {
   "cell_type": "code",
   "execution_count": null,
   "id": "c1b49b9d-01dd-4ff6-abe1-a2f5ecc192c5",
   "metadata": {},
   "outputs": [],
   "source": []
  }
 ],
 "metadata": {
  "kernelspec": {
   "display_name": "python3",
   "language": "python",
   "name": "python3"
  }
 },
 "nbformat": 4,
 "nbformat_minor": 5
}
