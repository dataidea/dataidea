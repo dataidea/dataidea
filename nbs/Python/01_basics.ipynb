{
 "cells": [
  {
   "cell_type": "markdown",
   "id": "41d3f551-56ef-4dee-980a-8009bc5680ae",
   "metadata": {},
   "source": [
    "## Basics"
   ]
  },
  {
   "cell_type": "code",
   "execution_count": null,
   "id": "2b9c192b-0f0b-4d76-a440-37bbea337631",
   "metadata": {},
   "outputs": [
    {
     "name": "stdout",
     "output_type": "stream",
     "text": [
      "7\n"
     ]
    }
   ],
   "source": [
    "x = 4; y = 3; print(x + y)"
   ]
  },
  {
   "cell_type": "code",
   "execution_count": null,
   "id": "0cfb3346-5a70-4524-83a2-9187f43a74e7",
   "metadata": {},
   "outputs": [
    {
     "name": "stdout",
     "output_type": "stream",
     "text": [
      "8\n",
      "7\n"
     ]
    }
   ],
   "source": [
    "x = 5\n",
    "y = 3\n",
    "sum = x + y\n",
    "print(sum)\n",
    "\n",
    "\n",
    "a = 4; b = 3; sum = a + b; print(sum) "
   ]
  },
  {
   "cell_type": "code",
   "execution_count": null,
   "id": "f64136a8-4f51-48bd-b29e-5790ad563bd3",
   "metadata": {},
   "outputs": [],
   "source": [
    "# declaring variables\n",
    "number1 = 1\n",
    "number2 = 3\n",
    "\n",
    "# print if condition is fulfilled some stuff that goes all the way\n",
    "# some continuation of a comment\n",
    "if number1 > number2:\n",
    "    x = 'Hello, world'\n",
    "    print(x)"
   ]
  },
  {
   "cell_type": "code",
   "execution_count": null,
   "id": "455aeaed-f6f3-4281-a343-ba22516cbfe3",
   "metadata": {},
   "outputs": [
    {
     "name": "stdout",
     "output_type": "stream",
     "text": [
      "\n",
      "Makerere University\n",
      "P. O. Box 1234\n",
      "Kampala, Uganda\n",
      "30/11/2023\n",
      "\n"
     ]
    }
   ],
   "source": [
    "print('''\n",
    "Makerere University\n",
    "P. O. Box 1234\n",
    "Kampala, Uganda\n",
    "30/11/2023\n",
    "''')"
   ]
  },
  {
   "cell_type": "code",
   "execution_count": null,
   "id": "537af20a-1dc2-4c1b-b1db-74e80feb58b3",
   "metadata": {},
   "outputs": [
    {
     "name": "stdout",
     "output_type": "stream",
     "text": [
      "7\n"
     ]
    }
   ],
   "source": [
    "# A program to add two numbers\n",
    "x = 4 \n",
    "y = 3\n",
    "\n",
    "# some comment\n",
    "# second comment\n",
    "# third comment\n",
    "\n",
    "print(x + y) # prints out the sum"
   ]
  }
 ],
 "metadata": {
  "kernelspec": {
   "display_name": "python3",
   "language": "python",
   "name": "python3"
  }
 },
 "nbformat": 4,
 "nbformat_minor": 5
}
