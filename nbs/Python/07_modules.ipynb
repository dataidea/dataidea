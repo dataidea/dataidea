{
 "cells": [
  {
   "cell_type": "markdown",
   "id": "8684cbb9-4099-4d62-8226-83f29b81d321",
   "metadata": {},
   "source": [
    "## Modules"
   ]
  },
  {
   "cell_type": "markdown",
   "id": "4a3249a3-2d1d-49ed-a847-dba22b24b73f",
   "metadata": {},
   "source": [
    "Demonstrating this in notebooks is a bit challenging"
   ]
  },
  {
   "cell_type": "code",
   "execution_count": null,
   "id": "5ddbbe2a-0371-49b9-aaa4-e701c5d760ff",
   "metadata": {},
   "outputs": [],
   "source": []
  }
 ],
 "metadata": {
  "kernelspec": {
   "display_name": "python3",
   "language": "python",
   "name": "python3"
  }
 },
 "nbformat": 4,
 "nbformat_minor": 5
}
