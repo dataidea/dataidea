{
 "cells": [
  {
   "cell_type": "markdown",
   "id": "6ccdb983-929a-4fc7-8b13-0720ca1c1ed5",
   "metadata": {},
   "source": [
    "![Photo by DATAIDEA](../assets/banner4.png)"
   ]
  },
  {
   "cell_type": "markdown",
   "id": "ffe3d665-538b-4ed0-92d7-370d162ed4af",
   "metadata": {},
   "source": [
    "## Exercise"
   ]
  },
  {
   "cell_type": "markdown",
   "id": "bd249cf6-bf1c-435f-a7c1-7c51ab6f7ade",
   "metadata": {},
   "source": [
    "## Homework\n",
    "### Theory \n",
    "\n",
    "**Python Overview:**\n",
    "\n",
    "What are the fundamental components of a Python program, and how does Python execute code?\n",
    "\n",
    "*your solution*\n",
    "\n",
    "**Python Variables:**\n",
    "\n",
    "Explain the differences between mutable and immutable data types in Python and provide examples of each.\n",
    "\n",
    "*your solution*\n",
    "\n",
    "**Python Operations:**\n",
    "\n",
    "Discuss the importance of operator precedence in Python and how it impacts the evaluation of expressions.\n",
    "\n",
    "*your solution*\n",
    "\n",
    "**Python Collections:**\n",
    "\n",
    "Compare and contrast the usage of lists, tuples, sets, and dictionaries in Python, highlighting their key characteristics and when to use each.\n",
    "\n",
    "*your solution*\n",
    "\n",
    "<script async src=\"https://pagead2.googlesyndication.com/pagead/js/adsbygoogle.js?client=ca-pub-8076040302380238\"\n",
    "     crossorigin=\"anonymous\"></script>\n",
    "<!-- inline_horizontal -->\n",
    "<ins class=\"adsbygoogle\"\n",
    "     style=\"display:block\"\n",
    "     data-ad-client=\"ca-pub-8076040302380238\"\n",
    "     data-ad-slot=\"9021194372\"\n",
    "     data-ad-format=\"auto\"\n",
    "     data-full-width-responsive=\"true\"></ins>\n",
    "<script>\n",
    "     (adsbygoogle = window.adsbygoogle || []).push({});\n",
    "</script>\n",
    "\n",
    "### Practical\n",
    "**Problem: Pizza Party**\n",
    "\n",
    "You're organizing a pizza party and want to ensure there's enough pizza for everyone attending. Each pizza has 8 slices. Write a Python script that calculates the number of pizzas needed based on the number of guests and slices per person.\n",
    "\n",
    "**Consider the following inputs:**\n",
    "\n",
    "- Number of guests attending the party.\n",
    "- Slices each guest should have (assume each guest will have the same number of slices).\n",
    "\n",
    "**Your script should:**\n",
    "\n",
    "- Prompt the user for the number of guests attending.\n",
    "- Prompt for the number of slices each guest should have.\n",
    "- Calculate the total number of slices needed.\n",
    "- Calculate the total number of pizzas required (round up to the nearest whole pizza).\n",
    "- For instance, if 10 guests are attending and each should have 3 slices, your program should output the number of pizzas needed to fulfill the requirement."
   ]
  },
  {
   "cell_type": "code",
   "execution_count": 1,
   "id": "3b726fb5-6ac7-499a-a543-cd294a2ec86e",
   "metadata": {},
   "outputs": [],
   "source": [
    "# your solution"
   ]
  },
  {
   "cell_type": "markdown",
   "id": "7d5c3656",
   "metadata": {},
   "source": [
    "<div class=\"p-3\">\n",
    "<p class=pb-1>\n",
    "Don't miss out on any updates and developments! Subscribe to the DATAIDEA Newsletter it's easy and safe.\n",
    "</p>\n",
    "<iframe src=\"https://embeds.beehiiv.com/5fc7c425-9c7e-4e08-a514-ad6c22beee74?slim=true\" data-test-id=\"beehiiv-embed\" height=\"52\" frameborder=\"0\" scrolling=\"no\" style=\"margin: 0; border-radius: 0px !important; background-color: transparent; width: 100%;\" ></iframe>\n",
    "</div>"
   ]
  },
  {
   "cell_type": "markdown",
   "id": "fe1ac5c5",
   "metadata": {},
   "source": [
    "<script async src=\"https://pagead2.googlesyndication.com/pagead/js/adsbygoogle.js?client=ca-pub-8076040302380238\"\n",
    "     crossorigin=\"anonymous\"></script>\n",
    "<!-- inline_horizontal -->\n",
    "<ins class=\"adsbygoogle\"\n",
    "     style=\"display:block\"\n",
    "     data-ad-client=\"ca-pub-8076040302380238\"\n",
    "     data-ad-slot=\"9021194372\"\n",
    "     data-ad-format=\"auto\"\n",
    "     data-full-width-responsive=\"true\"></ins>\n",
    "<script>\n",
    "     (adsbygoogle = window.adsbygoogle || []).push({});\n",
    "</script>\n"
   ]
  }
 ],
 "metadata": {
  "kernelspec": {
   "display_name": "python3",
   "language": "python",
   "name": "python3"
  },
  "language_info": {
   "codemirror_mode": {
    "name": "ipython",
    "version": 3
   },
   "file_extension": ".py",
   "mimetype": "text/x-python",
   "name": "python",
   "nbconvert_exporter": "python",
   "pygments_lexer": "ipython3",
   "version": "3.10.12"
  }
 },
 "nbformat": 4,
 "nbformat_minor": 5
}
