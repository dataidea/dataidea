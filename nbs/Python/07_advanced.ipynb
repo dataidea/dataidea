{
 "cells": [
  {
   "cell_type": "markdown",
   "id": "b46610c4-aeb4-456d-b24c-343a044e14d3",
   "metadata": {},
   "source": [
    "![Photo by DATAIDEA](../assets/banner4.png)"
   ]
  },
  {
   "cell_type": "markdown",
   "id": "9154f5b8-15b8-4728-bf4a-39ea489d9774",
   "metadata": {},
   "source": [
    "## Advanced\n",
    "\n",
    "In this notebook, we'll introduce and discuss the following concepts in Python\n",
    "\n",
    "- Classes and Objects\n",
    "- Formatted Strings\n",
    "- Handling Errors\n",
    "- Variable Scopes"
   ]
  },
  {
   "cell_type": "markdown",
   "id": "d04c2844-5222-424f-acde-d5a3a2d8219c",
   "metadata": {},
   "source": [
    "## Classes and Objects"
   ]
  },
  {
   "cell_type": "markdown",
   "id": "47b56a51",
   "metadata": {},
   "source": [
    "<div class=\"video-wrapper\">\n",
    "  <iframe\n",
    "    class=\"video-iframe\"\n",
    "    src=\"https://www.youtube.com/embed/yrtdcAINUdY?si=rRQOUO35rLNTVSdL\"\n",
    "    title=\"YouTube video player\"\n",
    "    frameborder=\"0\"\n",
    "    allow=\"accelerometer; autoplay; clipboard-write; encrypted-media; gyroscope; picture-in-picture;\"\n",
    "    allowfullscreen\n",
    "  >\n",
    "  </iframe>\n",
    "</div>"
   ]
  },
  {
   "cell_type": "markdown",
   "id": "41eaa649",
   "metadata": {},
   "source": [
    "In Python, everything is an object. A class helps us create objects."
   ]
  },
  {
   "cell_type": "markdown",
   "id": "351ed76d",
   "metadata": {},
   "source": [
    "### Creating a Class"
   ]
  },
  {
   "cell_type": "markdown",
   "id": "c156f6f6",
   "metadata": {},
   "source": [
    "Use the `class` keyword to create a class"
   ]
  },
  {
   "cell_type": "code",
   "execution_count": null,
   "id": "903a518c",
   "metadata": {},
   "outputs": [],
   "source": [
    "class Person:\n",
    "    first_name = \"Betty\"\n",
    "    last_name = \"Kawala\"\n",
    "    age = 30"
   ]
  },
  {
   "cell_type": "markdown",
   "id": "61e32f43",
   "metadata": {},
   "source": [
    "### Instantiating a class\n",
    "Now we can ceate an object from the class by instantiating it.\n",
    "\n",
    "To instantiate a class, add round brackets to the class name."
   ]
  },
  {
   "cell_type": "code",
   "execution_count": null,
   "id": "caf037c8",
   "metadata": {},
   "outputs": [
    {
     "data": {
      "text/plain": [
       "__main__.Person"
      ]
     },
     "execution_count": null,
     "metadata": {},
     "output_type": "execute_result"
    }
   ],
   "source": [
    "person_obj1 = Person()\n",
    "\n",
    "type(person_obj1)"
   ]
  },
  {
   "cell_type": "markdown",
   "id": "d21f486a",
   "metadata": {},
   "source": [
    "After instantiating a class, we can now access the object's properties."
   ]
  },
  {
   "cell_type": "code",
   "execution_count": null,
   "id": "78fa3dd7",
   "metadata": {},
   "outputs": [
    {
     "name": "stdout",
     "output_type": "stream",
     "text": [
      "Betty\n",
      "Kawala\n",
      "30\n"
     ]
    }
   ],
   "source": [
    "# print attributes\n",
    "print(person_obj1.first_name)\n",
    "print(person_obj1.last_name)\n",
    "print(person_obj1.age)"
   ]
  },
  {
   "cell_type": "markdown",
   "id": "90fb3c9e",
   "metadata": {},
   "source": [
    "<script async src=\"https://pagead2.googlesyndication.com/pagead/js/adsbygoogle.js?client=ca-pub-8076040302380238\"\n",
    "     crossorigin=\"anonymous\"></script>\n",
    "<!-- inline_horizontal -->\n",
    "<ins class=\"adsbygoogle\"\n",
    "     style=\"display:block\"\n",
    "     data-ad-client=\"ca-pub-8076040302380238\"\n",
    "     data-ad-slot=\"9021194372\"\n",
    "     data-ad-format=\"auto\"\n",
    "     data-full-width-responsive=\"true\"></ins>\n",
    "<script>\n",
    "     (adsbygoogle = window.adsbygoogle || []).push({});\n",
    "</script>\n",
    "\n",
    "## Class Attributes\n",
    "\n",
    "A class can have attributes. Forexample the Person Class can have attributes like the `name`, `height` and `feet`"
   ]
  },
  {
   "cell_type": "code",
   "execution_count": null,
   "id": "d3b9135c-5ab5-43d2-93c9-d8958ca54bb0",
   "metadata": {},
   "outputs": [],
   "source": [
    "class Person:\n",
    "    def __init__(self, name, height, feet):\n",
    "        self.name = name\n",
    "        self.height = height\n",
    "        self.feet = feet"
   ]
  },
  {
   "cell_type": "markdown",
   "id": "03d7ccd4",
   "metadata": {},
   "source": [
    "<div class=\"alert text-white rounded\" style=\"background: #3a6e68;\"><h4>Note!</h4><p>For now, focus on the syntax. Later we will explain the <code>__init__()</code> function and the <code>self</code> parameter.</p></div>"
   ]
  },
  {
   "cell_type": "markdown",
   "id": "cc4bb820",
   "metadata": {},
   "source": [
    "Now that our class is ready, we can now instantiate it and provide values to it's attributes.\n",
    "\n",
    "This process can also be called \"creating an instance of a class\".\n",
    "\n",
    "An instance is simply the object created from a class\n",
    "\n",
    "In this example, `person_obj1` is a unique instance of the person class. "
   ]
  },
  {
   "cell_type": "code",
   "execution_count": null,
   "id": "5cfccd15",
   "metadata": {},
   "outputs": [
    {
     "name": "stdout",
     "output_type": "stream",
     "text": [
      "Name: Betty Kawala\n",
      "Height: 1.57\n",
      "Feet: 4\n"
     ]
    }
   ],
   "source": [
    "# create a class instance\n",
    "person_obj1 = Person(\n",
    "    name='Betty Kawala', \n",
    "    height=1.57, \n",
    "    feet=4\n",
    "    )\n",
    "\n",
    "# accessing the properties\n",
    "print('Name:', person_obj1.name)\n",
    "print('Height:', person_obj1.height)\n",
    "print('Feet:', person_obj1.feet)"
   ]
  },
  {
   "cell_type": "markdown",
   "id": "47b9931a",
   "metadata": {},
   "source": [
    "The `self` parameter allows us to access the attributes and methods of a class\n",
    "\n",
    "The `__init__()` functino allows us to provide values for the attributes of a class\n",
    "\n",
    "### Instances are unique\n",
    "\n",
    "Let's say you have 500 people and you need to manage their data.\n",
    "\n",
    "It is inefficient to create a variable for each of them, instead, you can create unique instances of a class.\n",
    "\n",
    "In this example, the student1 and student2 instances are different from each other"
   ]
  },
  {
   "cell_type": "code",
   "execution_count": null,
   "id": "529f49cf",
   "metadata": {},
   "outputs": [
    {
     "name": "stdout",
     "output_type": "stream",
     "text": [
      "Student 1 ID: 5243\n",
      "Student 1 Name: Mary Doe\n",
      "Student 1 Age: 18\n",
      "---------------------\n",
      "Student 2 ID: 3221\n",
      "Student 2 Name: John Doe\n",
      "Student 2 Age: 18\n"
     ]
    }
   ],
   "source": [
    "class Student:\n",
    "  def __init__(self, id_number, name, age):\n",
    "    self.id_number = id_number\n",
    "    self.name = name\n",
    "    self.age = age\n",
    "\n",
    "student1 = Student(5243, \"Mary Doe\", 18)\n",
    "student2 = Student(3221, \"John Doe\", 18)\n",
    "\n",
    "print(\"Student 1 ID:\", student1.id_number)\n",
    "print(\"Student 1 Name:\", student1.name)\n",
    "print(\"Student 1 Age:\", student1.age)\n",
    "\n",
    "print(\"---------------------\")\n",
    "\n",
    "print(\"Student 2 ID:\", student2.id_number)\n",
    "print(\"Student 2 Name:\", student2.name)\n",
    "print(\"Student 2 Age:\", student2.age)"
   ]
  },
  {
   "cell_type": "markdown",
   "id": "0764afb1",
   "metadata": {},
   "source": [
    "<script async src=\"https://pagead2.googlesyndication.com/pagead/js/adsbygoogle.js?client=ca-pub-8076040302380238\"\n",
    "     crossorigin=\"anonymous\"></script>\n",
    "<!-- inline_horizontal -->\n",
    "<ins class=\"adsbygoogle\"\n",
    "     style=\"display:block\"\n",
    "     data-ad-client=\"ca-pub-8076040302380238\"\n",
    "     data-ad-slot=\"9021194372\"\n",
    "     data-ad-format=\"auto\"\n",
    "     data-full-width-responsive=\"true\"></ins>\n",
    "<script>\n",
    "     (adsbygoogle = window.adsbygoogle || []).push({});\n",
    "</script>\n",
    "\n",
    "## Methods\n",
    "\n",
    "Methods are functions that can access the class attributes. These methods should be defined (created) inside the class"
   ]
  },
  {
   "cell_type": "code",
   "execution_count": null,
   "id": "e364724d",
   "metadata": {},
   "outputs": [],
   "source": [
    "class Person:\n",
    "    def __init__(self, name, height, feet):\n",
    "        self.name = name\n",
    "        self.height = height\n",
    "        self.feet = feet\n",
    "        \n",
    "    def jump(self):\n",
    "        return \"I'm jumping \" + str(self.feet) + \" Feet\""
   ]
  },
  {
   "cell_type": "code",
   "execution_count": null,
   "id": "cfec8374",
   "metadata": {},
   "outputs": [
    {
     "name": "stdout",
     "output_type": "stream",
     "text": [
      "I'm jumping 5 Feet\n"
     ]
    }
   ],
   "source": [
    "person_obj1 = Person(name='Juma', height=1.59, feet=5)\n",
    "\n",
    "print(person_obj1.jump())"
   ]
  },
  {
   "cell_type": "markdown",
   "id": "bc3a3d98",
   "metadata": {},
   "source": [
    "As you may notice, we used the `self` parameter to access the `feet` attribute\n",
    "\n",
    "<script async src=\"https://pagead2.googlesyndication.com/pagead/js/adsbygoogle.js?client=ca-pub-8076040302380238\"\n",
    "     crossorigin=\"anonymous\"></script>\n",
    "<!-- inline_horizontal -->\n",
    "<ins class=\"adsbygoogle\"\n",
    "     style=\"display:block\"\n",
    "     data-ad-client=\"ca-pub-8076040302380238\"\n",
    "     data-ad-slot=\"9021194372\"\n",
    "     data-ad-format=\"auto\"\n",
    "     data-full-width-responsive=\"true\"></ins>\n",
    "<script>\n",
    "     (adsbygoogle = window.adsbygoogle || []).push({});\n",
    "</script>"
   ]
  },
  {
   "cell_type": "markdown",
   "id": "61a92888",
   "metadata": {},
   "source": [
    "<script async src=\"https://pagead2.googlesyndication.com/pagead/js/adsbygoogle.js?client=ca-pub-8076040302380238\"\n",
    "     crossorigin=\"anonymous\"></script>\n",
    "<!-- inline_horizontal -->\n",
    "<ins class=\"adsbygoogle\"\n",
    "     style=\"display:block\"\n",
    "     data-ad-client=\"ca-pub-8076040302380238\"\n",
    "     data-ad-slot=\"9021194372\"\n",
    "     data-ad-format=\"auto\"\n",
    "     data-full-width-responsive=\"true\"></ins>\n",
    "<script>\n",
    "     (adsbygoogle = window.adsbygoogle || []).push({});\n",
    "</script>\n",
    "\n",
    "## Python Inheritance\n",
    "\n",
    "Inheritance is a feature that allows us to create a class that inherits the attributes or properties and methods of another class"
   ]
  },
  {
   "cell_type": "markdown",
   "id": "2b8bc8a9",
   "metadata": {},
   "source": [
    "### Example\n",
    "The `Animal` class below can be used to tell that an animal can eat"
   ]
  },
  {
   "cell_type": "code",
   "execution_count": null,
   "id": "e0172128",
   "metadata": {},
   "outputs": [],
   "source": [
    "class Animal:\n",
    "    def __init__(self, name, age):\n",
    "        self.name = name\n",
    "        self.age = age\n",
    "\n",
    "    def eat(self):\n",
    "        print(f\"{self.name} is eating.\")"
   ]
  },
  {
   "cell_type": "markdown",
   "id": "225ce323",
   "metadata": {},
   "source": [
    "Let's say we need to create another class called Dog.\n",
    "\n",
    "Since a dog is also an animal, it's more efficient to have access to all the properties and methods of the `Animal` class than to create another\n",
    "\n",
    "This example creates a class named `Dog` and inherits from the `Animal` class"
   ]
  },
  {
   "cell_type": "code",
   "execution_count": null,
   "id": "756ec127",
   "metadata": {},
   "outputs": [],
   "source": [
    "class Dog(Animal):\n",
    "    def __init__(self, name, age, color):\n",
    "        super().__init__(name, age)\n",
    "        self.color = color\n",
    "\n",
    "    def sound(self):\n",
    "        print(self.name, \"barks\")"
   ]
  },
  {
   "cell_type": "markdown",
   "id": "59e628db",
   "metadata": {},
   "source": [
    "<div class=\"alert text-white rounded\" style=\"background: #3a6e68;\"><h4>Note!</h4><p>As you may notice, to inherit from a parent, we simply pass the name of that class as a parameter of the child class.</p></div>"
   ]
  },
  {
   "cell_type": "markdown",
   "id": "cda0c72b",
   "metadata": {},
   "source": [
    "Now we can use the properties and methods of both the `Animal` and the `Dog` classes using just one instance"
   ]
  },
  {
   "cell_type": "code",
   "execution_count": null,
   "id": "f5dcb389",
   "metadata": {},
   "outputs": [
    {
     "name": "stdout",
     "output_type": "stream",
     "text": [
      "Brian is eating.\n",
      "Brian barks\n"
     ]
    }
   ],
   "source": [
    "dog1 = Dog(name='Brian', age=8, color='White')\n",
    "dog1.eat()\n",
    "dog1.sound()"
   ]
  },
  {
   "cell_type": "markdown",
   "id": "2c978163",
   "metadata": {},
   "source": [
    "The `super()` and `__init__` functions found in the `Dog` class allow us to inherit the properties and methods of the `Animal` class."
   ]
  },
  {
   "cell_type": "markdown",
   "id": "afe8b08b",
   "metadata": {},
   "source": [
    "### Parent and Child Class\n",
    "\n",
    "The parent class is the class from whick the other class inherits from.\n",
    "\n",
    "The child class is the the class that inherits from another class\n",
    "\n",
    "In our example above, the `Animal` is the parent class while the `Dog` class is the child class\n",
    "\n",
    "<script async src=\"https://pagead2.googlesyndication.com/pagead/js/adsbygoogle.js?client=ca-pub-8076040302380238\"\n",
    "     crossorigin=\"anonymous\"></script>\n",
    "<!-- inline_horizontal -->\n",
    "<ins class=\"adsbygoogle\"\n",
    "     style=\"display:block\"\n",
    "     data-ad-client=\"ca-pub-8076040302380238\"\n",
    "     data-ad-slot=\"9021194372\"\n",
    "     data-ad-format=\"auto\"\n",
    "     data-full-width-responsive=\"true\"></ins>\n",
    "<script>\n",
    "     (adsbygoogle = window.adsbygoogle || []).push({});\n",
    "</script>"
   ]
  },
  {
   "cell_type": "markdown",
   "id": "34f3797d-61de-4274-a597-5cca484a7a2a",
   "metadata": {},
   "source": [
    "<script async src=\"https://pagead2.googlesyndication.com/pagead/js/adsbygoogle.js?client=ca-pub-8076040302380238\"\n",
    "     crossorigin=\"anonymous\"></script>\n",
    "<!-- inline_horizontal -->\n",
    "<ins class=\"adsbygoogle\"\n",
    "     style=\"display:block\"\n",
    "     data-ad-client=\"ca-pub-8076040302380238\"\n",
    "     data-ad-slot=\"9021194372\"\n",
    "     data-ad-format=\"auto\"\n",
    "     data-full-width-responsive=\"true\"></ins>\n",
    "<script>\n",
    "     (adsbygoogle = window.adsbygoogle || []).push({});\n",
    "</script>\n",
    "\n",
    "## Formatted Strings"
   ]
  },
  {
   "cell_type": "markdown",
   "id": "ccffb76a",
   "metadata": {},
   "source": [
    "<div class=\"video-wrapper\">\n",
    "  <iframe\n",
    "    class=\"video-iframe\"\n",
    "    src=\"https://www.youtube.com/embed/yb_1SV_VuD0?si=genqEID1g99GuGMg\"\n",
    "    title=\"YouTube video player\"\n",
    "    frameborder=\"0\"\n",
    "    allow=\"accelerometer; autoplay; clipboard-write; encrypted-media; gyroscope; picture-in-picture;\"\n",
    "    allowfullscreen\n",
    "  >\n",
    "  </iframe>\n",
    "</div>"
   ]
  },
  {
   "cell_type": "markdown",
   "id": "6baa6a8d",
   "metadata": {},
   "source": [
    "In Python, we can format a string by adding substring/s within it.\n",
    "\n",
    "The `format()` function allows us to format strings.\n",
    "\n",
    "### Placeholders `{}`\n",
    "Placeholders help us control which part of the string should be formated.\n",
    "\n",
    "They are defined using  curly braces `{}`.\n",
    "\n",
    "### Multiple placeholders\n",
    "\n",
    "If you want to format multiple parts of a string, use multiple placeholders.\n",
    "\n",
    "In this example, we will concatenate (add) a substring to where the curly braces are placed"
   ]
  },
  {
   "cell_type": "code",
   "execution_count": null,
   "id": "9688a898-4f98-4b73-bf0d-fd613183a1d0",
   "metadata": {},
   "outputs": [
    {
     "name": "stdout",
     "output_type": "stream",
     "text": [
      "Juma loves to code in JavaScript\n"
     ]
    }
   ],
   "source": [
    "statement = '{} loves to code in {}'\n",
    "\n",
    "formatted = statement.format('Juma', 'JavaScript')\n",
    "\n",
    "print(formatted)"
   ]
  },
  {
   "cell_type": "markdown",
   "id": "5fca43b6",
   "metadata": {},
   "source": [
    "### Literal String Interpolation\n",
    "\n",
    "Literal string interpolation allows you to use expression inside your strings. \n",
    "\n",
    "Simply add `f` before you opening quote, then surround your expressions with curly braces `{}`."
   ]
  },
  {
   "cell_type": "code",
   "execution_count": null,
   "id": "9f0877aa",
   "metadata": {},
   "outputs": [
    {
     "name": "stdout",
     "output_type": "stream",
     "text": [
      "Juma loves to code in JavaScript\n"
     ]
    }
   ],
   "source": [
    "name = 'Juma'; \n",
    "language = 'JavaScript'\n",
    "\n",
    "statement = f'{name} loves to code in {language}'\n",
    "\n",
    "print(statement)"
   ]
  },
  {
   "cell_type": "markdown",
   "id": "64c4ba06",
   "metadata": {},
   "source": [
    "Here's another example"
   ]
  },
  {
   "cell_type": "code",
   "execution_count": null,
   "id": "dd4abc44",
   "metadata": {},
   "outputs": [
    {
     "name": "stdout",
     "output_type": "stream",
     "text": [
      "The summation of 5 and 7 is 12\n"
     ]
    }
   ],
   "source": [
    "answer = f'The summation of 5 and 7 is {5 + 7}'\n",
    "\n",
    "print(answer)"
   ]
  },
  {
   "cell_type": "markdown",
   "id": "07864b9e",
   "metadata": {},
   "source": [
    "### Using indexes\n",
    "\n",
    "We can use index numbers to specify exactly where the values should be placed.\n",
    "\n",
    "The index numbers should be inside the curly braces: `{index_number}`"
   ]
  },
  {
   "cell_type": "code",
   "execution_count": null,
   "id": "9890f984",
   "metadata": {},
   "outputs": [
    {
     "name": "stdout",
     "output_type": "stream",
     "text": [
      "Juma loves to code in JavaScript\n"
     ]
    }
   ],
   "source": [
    "statement = '{0} loves to code in {1}'\n",
    "\n",
    "modified = statement.format('Juma', 'JavaScript')\n",
    "\n",
    "print(modified)"
   ]
  },
  {
   "cell_type": "markdown",
   "id": "da741459",
   "metadata": {},
   "source": [
    "<div class=\"alert text-white rounded\" style=\"background: #3a6e68;\"><h4>Note!</h4><p>0 represents the first value, 1 represents the second value and so on.</p></div>"
   ]
  },
  {
   "cell_type": "markdown",
   "id": "00f21c8d",
   "metadata": {},
   "source": [
    "### Using named indexes\n",
    "\n",
    "We can also use named indexes to specify exactly where the values should be placed\n",
    "\n",
    "The arguments of the `format()` functino should be in `key/value` pairs ie `key=value`\n",
    "\n",
    "The `key/value` pairs should be separated by commas."
   ]
  },
  {
   "cell_type": "code",
   "execution_count": null,
   "id": "140fe42c",
   "metadata": {},
   "outputs": [
    {
     "name": "stdout",
     "output_type": "stream",
     "text": [
      "Juma loves to code in JavaScript\n"
     ]
    }
   ],
   "source": [
    "statement = '{name} loves to code in {language}'\n",
    "\n",
    "modified = statement.format(language='JavaScript', name='Juma')\n",
    "\n",
    "print(modified)"
   ]
  },
  {
   "cell_type": "markdown",
   "id": "7c7b16f1-0dec-45e9-9de5-3409c17c00ac",
   "metadata": {},
   "source": [
    "<script async src=\"https://pagead2.googlesyndication.com/pagead/js/adsbygoogle.js?client=ca-pub-8076040302380238\"\n",
    "     crossorigin=\"anonymous\"></script>\n",
    "<!-- inline_horizontal -->\n",
    "<ins class=\"adsbygoogle\"\n",
    "     style=\"display:block\"\n",
    "     data-ad-client=\"ca-pub-8076040302380238\"\n",
    "     data-ad-slot=\"9021194372\"\n",
    "     data-ad-format=\"auto\"\n",
    "     data-full-width-responsive=\"true\"></ins>\n",
    "<script>\n",
    "     (adsbygoogle = window.adsbygoogle || []).push({});\n",
    "</script>\n",
    "\n",
    "## Errors in Python"
   ]
  },
  {
   "cell_type": "markdown",
   "id": "a30fcd1f",
   "metadata": {},
   "source": [
    "When coding in Python, you will encounter errors.\n",
    "\n",
    "When errors occur, the program crashes or stops executing.\n",
    "\n",
    "Fortunately, errors can be handled in Python\n",
    "\n",
    "### The `try...except` statment\n",
    "\n",
    "The `try...except` statement is used to handle exceptions(errors)\n",
    "\n",
    "The `try` statement takes a block of code to test for errors\n",
    "\n",
    "The `except` statement handles the exceptions."
   ]
  },
  {
   "cell_type": "code",
   "execution_count": null,
   "id": "73962c8d",
   "metadata": {},
   "outputs": [
    {
     "name": "stdout",
     "output_type": "stream",
     "text": [
      "A problem occured while picking your age \n",
      "You did not enter a number\n"
     ]
    }
   ],
   "source": [
    "try:\n",
    "    # age = input('Enter your age: ')\n",
    "    age = '32'\n",
    "\n",
    "    if age >= 18:\n",
    "        print('Your vote has been cast')\n",
    "    else:\n",
    "        print('You are not eligible to vote')\n",
    "except:\n",
    "    print('A problem occured while picking your age \\n'\n",
    "          'You did not enter a number')\n"
   ]
  },
  {
   "cell_type": "markdown",
   "id": "ce4aa18a",
   "metadata": {},
   "source": [
    "### Throw Exceptions\n",
    "We can intentionally throw and exception to stop the execution of a program.\n",
    "\n",
    "The `raise` keyword throws an excrption."
   ]
  },
  {
   "cell_type": "code",
   "execution_count": null,
   "id": "0ba7536e",
   "metadata": {},
   "outputs": [
    {
     "name": "stdout",
     "output_type": "stream",
     "text": [
      "A problem occurred \n",
      "Error: '<' not supported between instances of 'str' and 'int'\n"
     ]
    }
   ],
   "source": [
    "# Creating your own errors\n",
    "try: \n",
    "    # age = int(input('Enter your age: '))\n",
    "    age = ''\n",
    "\n",
    "    if age < 18:\n",
    "        raise Exception('Not an adult')\n",
    "except Exception as error:\n",
    "    print('A problem occurred \\n'\n",
    "          f'Error: {error}')"
   ]
  },
  {
   "cell_type": "markdown",
   "id": "a4a3a0a5",
   "metadata": {},
   "source": [
    "### Kinds of Exceptions\n",
    "\n",
    "In Python, there are different kinds of exceptions and we can handle them individually with the `try...except` statement.\n",
    "\n",
    "```python\n",
    "try:\n",
    "    # statements\n",
    "except ExceptionKind:\n",
    "    #statments\n",
    "```\n",
    "\n",
    "One of the most common kind of exceptions is the `NameError`. This is thrown when you use a variable that is not defined"
   ]
  },
  {
   "cell_type": "code",
   "execution_count": null,
   "id": "6e694ca4",
   "metadata": {},
   "outputs": [
    {
     "name": "stdout",
     "output_type": "stream",
     "text": [
      "You used a variable that is not defined!\n"
     ]
    }
   ],
   "source": [
    "try:\n",
    "    print(rand_var)\n",
    "except NameError:\n",
    "    print('You used a variable that is not defined!')"
   ]
  },
  {
   "cell_type": "markdown",
   "id": "e59d4729-4403-4020-a74c-634c79239693",
   "metadata": {},
   "source": [
    "<script async src=\"https://pagead2.googlesyndication.com/pagead/js/adsbygoogle.js?client=ca-pub-8076040302380238\"\n",
    "     crossorigin=\"anonymous\"></script>\n",
    "<!-- inline_horizontal -->\n",
    "<ins class=\"adsbygoogle\"\n",
    "     style=\"display:block\"\n",
    "     data-ad-client=\"ca-pub-8076040302380238\"\n",
    "     data-ad-slot=\"9021194372\"\n",
    "     data-ad-format=\"auto\"\n",
    "     data-full-width-responsive=\"true\"></ins>\n",
    "<script>\n",
    "     (adsbygoogle = window.adsbygoogle || []).push({});\n",
    "</script>\n",
    "\n",
    "## Variable Scope"
   ]
  },
  {
   "cell_type": "markdown",
   "id": "9b2095bb",
   "metadata": {},
   "source": [
    "<div class=\"video-wrapper\">\n",
    "  <iframe\n",
    "    class=\"video-iframe\"\n",
    "    src=\"https://www.youtube.com/embed/VMmR86ghCyc?si=jkxeuEJntvdnTtZL\"\n",
    "    title=\"YouTube video player\"\n",
    "    frameborder=\"0\"\n",
    "    allow=\"accelerometer; autoplay; clipboard-write; encrypted-media; gyroscope; picture-in-picture;\"\n",
    "    allowfullscreen\n",
    "  >\n",
    "  </iframe>\n",
    "</div>"
   ]
  },
  {
   "cell_type": "markdown",
   "id": "a738c5e0",
   "metadata": {},
   "source": [
    "## Python Variable Scopes\n",
    "\n",
    "The accessibility of variable depends on its scope. In Python, there are two variable scopes:\n",
    "\n",
    "- Global Scope\n",
    "- Local Scope\n",
    "\n",
    "### Global Scope\n",
    "A variable that is defined (created) outside a function has a global scope\n",
    "\n",
    "A global variable can be accessed anywhere in a program"
   ]
  },
  {
   "cell_type": "code",
   "execution_count": null,
   "id": "331bf8b2-93fc-42dd-95c6-f83e99c6d4e7",
   "metadata": {},
   "outputs": [
    {
     "name": "stdout",
     "output_type": "stream",
     "text": [
      "Viola\n",
      "Hello Viola\n"
     ]
    }
   ],
   "source": [
    "name = 'Viola'\n",
    "# name can be accessed here\n",
    "print(name)\n",
    "\n",
    "def greet():\n",
    "    # name can be accessed here\n",
    "    print('Hello ' + name)\n",
    "\n",
    "greet()"
   ]
  },
  {
   "cell_type": "markdown",
   "id": "eaa63f7f",
   "metadata": {},
   "source": [
    "## Local Scope\n",
    "\n",
    "A variable that is defined (created) inside a function has a local scope. A local scope variable can only be accessed and used inside the function."
   ]
  },
  {
   "cell_type": "code",
   "execution_count": null,
   "id": "489c328e",
   "metadata": {},
   "outputs": [
    {
     "name": "stdout",
     "output_type": "stream",
     "text": [
      "Hello Viola\n",
      "name 'local_name' is not defined\n"
     ]
    }
   ],
   "source": [
    "def greet():\n",
    "    local_name = 'Viola'\n",
    "    print('Hello ' + local_name)\n",
    "\n",
    "greet()\n",
    "\n",
    "try:\n",
    "    # local_name cannot be accessed here\n",
    "    print(local_name)\n",
    "except Exception as e:\n",
    "    print(e)"
   ]
  },
  {
   "cell_type": "markdown",
   "id": "5811da22",
   "metadata": {},
   "source": [
    "### The `global` Keyword\n",
    "\n",
    "We can force a local variable to be a global variable by using the `global` keyword."
   ]
  },
  {
   "cell_type": "code",
   "execution_count": null,
   "id": "14f8f4fb",
   "metadata": {},
   "outputs": [
    {
     "name": "stdout",
     "output_type": "stream",
     "text": [
      "12\n"
     ]
    }
   ],
   "source": [
    "# Global Keyword\n",
    "\n",
    "def add():\n",
    "    global summ\n",
    "    number1 = 5\n",
    "    number2 = 7\n",
    "    summ = number1 + number2\n",
    "    return summ\n",
    "\n",
    "add()\n",
    "\n",
    "# summ is accessible even outside the function\n",
    "print(summ)"
   ]
  },
  {
   "cell_type": "markdown",
   "id": "7e2ed7ce",
   "metadata": {},
   "source": [
    "<div class=\"p-3\">\n",
    "<p class=pb-1>\n",
    "Don't miss out on any updates and developments! Subscribe to the DATAIDEA Newsletter it's easy and safe.\n",
    "</p>\n",
    "<iframe src=\"https://embeds.beehiiv.com/5fc7c425-9c7e-4e08-a514-ad6c22beee74?slim=true\" data-test-id=\"beehiiv-embed\" height=\"52\" frameborder=\"0\" scrolling=\"no\" style=\"margin: 0; border-radius: 0px !important; background-color: transparent; width: 100%;\" ></iframe>"
   ]
  }
 ],
 "metadata": {
  "kernelspec": {
   "display_name": "python3",
   "language": "python",
   "name": "python3"
  },
  "language_info": {
   "name": "python",
   "version": "3.10.12"
  }
 },
 "nbformat": 4,
 "nbformat_minor": 5
}
