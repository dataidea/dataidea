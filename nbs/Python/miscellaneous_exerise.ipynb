{
 "cells": [
  {
   "cell_type": "markdown",
   "metadata": {},
   "source": [
    "## Miscellaneous Exercise Solutions"
   ]
  },
  {
   "cell_type": "code",
   "execution_count": 7,
   "metadata": {},
   "outputs": [
    {
     "data": {
      "text/plain": [
       "'dlrow olleh'"
      ]
     },
     "execution_count": 7,
     "metadata": {},
     "output_type": "execute_result"
    }
   ],
   "source": [
    "#Qn.1 reverse a string\n",
    "def reverseString (text):\n",
    "    return text[::-1]\n",
    "reverseString ('hello world')"
   ]
  },
  {
   "cell_type": "code",
   "execution_count": 8,
   "metadata": {},
   "outputs": [
    {
     "data": {
      "text/plain": [
       "True"
      ]
     },
     "execution_count": 8,
     "metadata": {},
     "output_type": "execute_result"
    }
   ],
   "source": [
    "#Qn.2 Palindrome Checker\n",
    "def isPalindrome (text):\n",
    "    return text == text[::-1]\n",
    "isPalindrome('madam')"
   ]
  },
  {
   "cell_type": "code",
   "execution_count": 9,
   "metadata": {},
   "outputs": [
    {
     "name": "stdout",
     "output_type": "stream",
     "text": [
      "720\n"
     ]
    }
   ],
   "source": [
    "#Qn.3 Factorial Calculator\n",
    "def numberFactorial(number):\n",
    "    if number==0 or number==1:\n",
    "        print(1)\n",
    "    else:\n",
    "        factorial = 1\n",
    "        for value in range (1, number+1):\n",
    "            factorial *= value\n",
    "        print(factorial)\n",
    "numberFactorial(6)        "
   ]
  },
  {
   "cell_type": "code",
   "execution_count": 16,
   "metadata": {},
   "outputs": [
    {
     "data": {
      "text/plain": [
       "[0, 1, 1, 2, 3, 5, 8, 13]"
      ]
     },
     "execution_count": 16,
     "metadata": {},
     "output_type": "execute_result"
    }
   ],
   "source": [
    "#Qn.4 Fibonacci Sequence\n",
    "def fibonacciSequence (number):\n",
    "    sequence = [0,1]\n",
    "    while len (sequence)< number:\n",
    "        sequence.append(sequence[-1] + sequence[-2])\n",
    "    return sequence\n",
    "fibonacciSequence (8)    "
   ]
  },
  {
   "cell_type": "code",
   "execution_count": 20,
   "metadata": {},
   "outputs": [
    {
     "data": {
      "text/plain": [
       "False"
      ]
     },
     "execution_count": 20,
     "metadata": {},
     "output_type": "execute_result"
    }
   ],
   "source": [
    "#Qn.5 Prime Number Checker\n",
    "def isPrimeNumber (number):\n",
    "    if number <= 1:\n",
    "        return False\n",
    "    for value in range(2,int(number**0.5)+1):\n",
    "        if number % value == 0:\n",
    "            return False\n",
    "    return True\n",
    "isPrimeNumber(4)      "
   ]
  },
  {
   "cell_type": "code",
   "execution_count": 26,
   "metadata": {},
   "outputs": [
    {
     "data": {
      "text/plain": [
       "[8, 6, 5, 3, 1]"
      ]
     },
     "execution_count": 26,
     "metadata": {},
     "output_type": "execute_result"
    }
   ],
   "source": [
    "#Qn.6 List Reversal\n",
    "def reverseList(list_):\n",
    "    return list_[::-1]\n",
    "reverseList([1,3,5,6,8])"
   ]
  },
  {
   "cell_type": "code",
   "execution_count": 27,
   "metadata": {},
   "outputs": [
    {
     "data": {
      "text/plain": [
       "[1, 2, 3, 7, 9]"
      ]
     },
     "execution_count": 27,
     "metadata": {},
     "output_type": "execute_result"
    }
   ],
   "source": [
    "#Qn.7 List Sorting\n",
    "def sortList(list_):\n",
    "    return sorted(list_)\n",
    "sortList([3,7,1,9,2])"
   ]
  },
  {
   "cell_type": "code",
   "execution_count": 22,
   "metadata": {},
   "outputs": [
    {
     "data": {
      "text/plain": [
       "True"
      ]
     },
     "execution_count": 22,
     "metadata": {},
     "output_type": "execute_result"
    }
   ],
   "source": [
    "#Qn.8 Anagram Checker\n",
    "def areAnagram(string1, string2):\n",
    "    return sorted(string1) == sorted(string2)\n",
    "areAnagram('listen','silent')"
   ]
  },
  {
   "cell_type": "code",
   "execution_count": 23,
   "metadata": {},
   "outputs": [
    {
     "data": {
      "text/plain": [
       "2"
      ]
     },
     "execution_count": 23,
     "metadata": {},
     "output_type": "execute_result"
    }
   ],
   "source": [
    "#Qn.9 Count words in a String\n",
    "def countWords(string):\n",
    "    return len(string.split())\n",
    "countWords('hello world')"
   ]
  },
  {
   "cell_type": "code",
   "execution_count": 25,
   "metadata": {},
   "outputs": [
    {
     "data": {
      "text/plain": [
       "[1, 2, 3, 4, 5, 6, 7, 9]"
      ]
     },
     "execution_count": 25,
     "metadata": {},
     "output_type": "execute_result"
    }
   ],
   "source": [
    "#Qn.10 Unique Elements\n",
    "def uniqueElements(list_):\n",
    "    return list(set(list_))\n",
    "uniqueElements([2,4,3,2,6,4,7,9,5,3,5,1,6])"
   ]
  }
 ],
 "metadata": {
  "kernelspec": {
   "display_name": "myenv",
   "language": "python",
   "name": "python3"
  },
  "language_info": {
   "codemirror_mode": {
    "name": "ipython",
    "version": 3
   },
   "file_extension": ".py",
   "mimetype": "text/x-python",
   "name": "python",
   "nbconvert_exporter": "python",
   "pygments_lexer": "ipython3",
   "version": "3.10.12"
  }
 },
 "nbformat": 4,
 "nbformat_minor": 2
}
