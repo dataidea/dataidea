{
 "cells": [
  {
   "cell_type": "markdown",
   "id": "084ebd96-7e15-4b3e-8804-0bcbdbefd0e0",
   "metadata": {},
   "source": [
    "## Operators"
   ]
  },
  {
   "cell_type": "markdown",
   "id": "3ce032ea-6888-4268-a3b7-71f0aeb16747",
   "metadata": {},
   "source": [
    "## Arithmetic"
   ]
  },
  {
   "cell_type": "code",
   "execution_count": null,
   "id": "3d0967ce-0bef-43fb-b7ea-e173ebdc12e8",
   "metadata": {},
   "outputs": [
    {
     "name": "stdout",
     "output_type": "stream",
     "text": [
      "16.0\n"
     ]
    }
   ],
   "source": [
    "# Arithemators are symbols that perform operations on operands\n",
    "\n",
    "# Arithmetic operators\n",
    "# Operator  Description\n",
    "# +          Addition\n",
    "# -         Subraction\n",
    "# /         Division\n",
    "# *         Multiplication\n",
    "# **        Exponentiates\n",
    "# %         Remainder\n",
    "\n",
    "# Addition\n",
    "x = 10; y = 5; \n",
    "summation = x + y\n",
    "\n",
    "# Subraction\n",
    "difference = x - y\n",
    "\n",
    "# Division\n",
    "quotient = x / y\n",
    "\n",
    "# Multiplication\n",
    "product = x * y\n",
    "\n",
    "# Exponentiation \n",
    "exponent = x ** y\n",
    "\n",
    "# Remainder\n",
    "remainder = x % y\n",
    "\n",
    "# Floor Division\n",
    "floor = 10 / 4\n",
    "\n",
    "\n",
    "# Perform in a sequence\n",
    "ans = 10 * 3 / 2 + 1\n",
    "print(ans)"
   ]
  },
  {
   "cell_type": "markdown",
   "id": "66549194-269d-4614-bd3f-ee45f923319f",
   "metadata": {},
   "source": [
    "## Assignment"
   ]
  },
  {
   "cell_type": "code",
   "execution_count": null,
   "id": "72b92a45-ec4d-4023-ae11-4a5e674430ea",
   "metadata": {},
   "outputs": [],
   "source": [
    "# Assignment operators are used to assign values to variables.\n",
    "\n",
    "# Name              Operation\n",
    "# Assignment        x = y\n",
    "# Addition Ass      x += y (x = x + y)\n",
    "# Subtraction Ass   x -= y (x = x - y)\n",
    "# Mult Ass          x *= y (x = x * y)\n",
    "# Division Ass      x /= y (x = x / y)\n",
    "# Expo Ass          x **= y (x = x ** y)\n",
    "# Remainder Ass     x %= y (x = x % y)\n",
    "# Floor Div Ass     x //= y (x = x // y)\n",
    "\n",
    "# Examples\n",
    "# Assignment\n",
    "x = 10\n",
    "\n",
    "# Addition Ass\n",
    "x += 5 # x = x + 5 => x = 10 + 5 => x = 15\n",
    "\n",
    "# Subraction Ass\n",
    "x -= 5 # x = x - 5 => x = 10 - 5 => x = 5\n",
    "\n",
    "# Multiplication Ass"
   ]
  },
  {
   "cell_type": "markdown",
   "id": "b5da68fd-6fd6-4a8f-ab95-aa5da970fea4",
   "metadata": {},
   "source": [
    "## Comparison"
   ]
  },
  {
   "cell_type": "code",
   "execution_count": null,
   "id": "5c31b98c-c193-4959-a63d-5fb50ed02630",
   "metadata": {},
   "outputs": [
    {
     "name": "stdout",
     "output_type": "stream",
     "text": [
      "False\n",
      "You are normal weight\n"
     ]
    }
   ],
   "source": [
    "# A comparison operator compares its operands and returns\n",
    "# a Boolean value based on whether the comparison is \n",
    "# True of False\n",
    "\n",
    "# Table of Contents\n",
    "# Name              Operation\n",
    "# Equality          ==\n",
    "# Inequality        !=\n",
    "# Greater than      >\n",
    "# Less than         <\n",
    "# Greater or equal  >=\n",
    "# Less or equal     <=\n",
    "\n",
    "# Examples\n",
    "# Equality \n",
    "check_voila = ('Voila' == 'Viola')\n",
    "\n",
    "# Inequality \n",
    "check_voila = ('Voila' != 'Viola')\n",
    "\n",
    "# Greater or Equal\n",
    "greater_or_equal = 34 >= 43\n",
    "\n",
    "# Tip\n",
    "print('Voila' == 'Viola' == 'Voila')\n",
    "#       False == True => False\n",
    "\n",
    "\n",
    "# weight = int(input(\"Enter your weight: \"))\n",
    "# height = int(input('Enter your height: '))\n",
    "\n",
    "weight = 56\n",
    "height = 1.5\n",
    "\n",
    "bmi = weight/(height**2)\n",
    "\n",
    "if bmi > 28:\n",
    "    print('You are over weight')\n",
    "elif bmi > 18:\n",
    "    print('You are normal weight')\n",
    "else:\n",
    "    print('You are under weight')"
   ]
  },
  {
   "cell_type": "markdown",
   "id": "745f4d33-ca07-4604-b780-de54924d315e",
   "metadata": {},
   "source": [
    "## Identity"
   ]
  },
  {
   "cell_type": "code",
   "execution_count": null,
   "id": "36ba59e9-0e3f-4826-b1d2-7a0b502ca802",
   "metadata": {},
   "outputs": [
    {
     "name": "stdout",
     "output_type": "stream",
     "text": [
      "False\n"
     ]
    }
   ],
   "source": [
    "# Identity operators are used to compare two values to determine\n",
    "# if they point to the same object\n",
    "\n",
    "# Table of Content\n",
    "# Operator      Name\n",
    "# is            The is operator\n",
    "# is not        The is not operator\n",
    "\n",
    "# Example\n",
    "# is\n",
    "x = 5\n",
    "y = 4\n",
    "z = x # x = 5 => z = 5\n",
    "\n",
    "print(x is not z)"
   ]
  },
  {
   "cell_type": "markdown",
   "id": "c3ac5b20-302a-4e55-be9a-89fc9819421c",
   "metadata": {},
   "source": [
    "## Logical"
   ]
  },
  {
   "cell_type": "code",
   "execution_count": null,
   "id": "1af73593-43db-4a2e-905d-cd2af5590133",
   "metadata": {},
   "outputs": [],
   "source": [
    "# Table of content\n",
    "\n",
    "# Operator          Description\n",
    "# ------------------------------\n",
    "# and               Logical and operator \n",
    "# or                Logical or  \n",
    "# not               Logical not \n",
    "\n",
    "# Example\n",
    "# Logical and\n",
    "x = 4\n",
    "expression = x > 3 and 8 < x\n",
    "#               True and False => False\n",
    "\n",
    "# Logical or\n",
    "y = 7\n",
    "expression_2 = 10 > y or 4 > y\n",
    "#                   True or False => True\n",
    "\n",
    "# Logical not\n",
    "z = 8\n",
    "expression_3 = not(10 == z)\n",
    "#               not False => True"
   ]
  },
  {
   "cell_type": "markdown",
   "id": "268c0478-18da-4f9c-ab2e-d7ab1e52d5e1",
   "metadata": {},
   "source": [
    "## Membership"
   ]
  },
  {
   "cell_type": "code",
   "execution_count": null,
   "id": "8a028f8a-c9c8-4426-b8f0-8495abe6d073",
   "metadata": {},
   "outputs": [
    {
     "name": "stdout",
     "output_type": "stream",
     "text": [
      "False\n"
     ]
    }
   ],
   "source": [
    "# Membership operators are used to check if a sequence\n",
    "# is present in an object like a string, list etc\n",
    "\n",
    "# Table of content\n",
    "# Operator          Name\n",
    "# in                The in operator\n",
    "# not in            The not in operator\n",
    "\n",
    "# Example\n",
    "name = 'Tinye Robert'\n",
    "\n",
    "print('Robert' not in name)"
   ]
  },
  {
   "cell_type": "code",
   "execution_count": null,
   "id": "7852eeff-acd2-462d-8ff8-35d4b48958a7",
   "metadata": {},
   "outputs": [],
   "source": []
  }
 ],
 "metadata": {
  "kernelspec": {
   "display_name": "python3",
   "language": "python",
   "name": "python3"
  }
 },
 "nbformat": 4,
 "nbformat_minor": 5
}
