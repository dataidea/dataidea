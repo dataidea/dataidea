{
 "cells": [
  {
   "cell_type": "markdown",
   "id": "9154f5b8-15b8-4728-bf4a-39ea489d9774",
   "metadata": {},
   "source": [
    "## Advanced"
   ]
  },
  {
   "cell_type": "markdown",
   "id": "d04c2844-5222-424f-acde-d5a3a2d8219c",
   "metadata": {},
   "source": [
    "## Classes"
   ]
  },
  {
   "cell_type": "code",
   "execution_count": null,
   "id": "d3b9135c-5ab5-43d2-93c9-d8958ca54bb0",
   "metadata": {},
   "outputs": [
    {
     "name": "stdout",
     "output_type": "stream",
     "text": [
      "<class '__main__.Person'>\n"
     ]
    }
   ],
   "source": [
    "class Person:\n",
    "    def __init__(self, name, height, feet):\n",
    "        self.name = name\n",
    "        self.height = height\n",
    "        self.feet = feet\n",
    "\n",
    "    def jump(self):\n",
    "        return \"I'm jumping \" + str(self.feet) + \" Feet\"\n",
    "    \n",
    "if __name__ == '__main__':\n",
    "    person2 = Person(name='Shafara', height=5.7, feet=3)\n",
    "    print(type(person2))"
   ]
  },
  {
   "cell_type": "code",
   "execution_count": null,
   "id": "10c60295-3432-4bc6-b4e4-b19800676c8d",
   "metadata": {},
   "outputs": [
    {
     "name": "stdout",
     "output_type": "stream",
     "text": [
      "Sensei is Hissing\n"
     ]
    }
   ],
   "source": [
    "class Animal:\n",
    "    def __init__(self, name, sound):\n",
    "        self.name = name \n",
    "        self.sound = sound\n",
    "\n",
    "    def speak(self):\n",
    "        print(self.name + ' is ' + self.sound + 'ing')\n",
    "        # return\n",
    "\n",
    "    def __str__(self):\n",
    "        return 'Name:' + self.name + ', Sound: ' + self.sound \n",
    "\n",
    "class Dog(Animal):\n",
    "    def __init__(self, name, sound):\n",
    "        super().__init__(name, sound)\n",
    "\n",
    "    def walk(self):\n",
    "        print( self.name + ' is ' + 'walking...')\n",
    "        # return\n",
    "    \n",
    "\n",
    "class Snake(Animal):\n",
    "    def __init__(self, name, sound):\n",
    "        super().__init__(name, sound)\n",
    "\n",
    "    def crawl(self):\n",
    "        print(self.name + ' is ' + 'crawling..')\n",
    "\n",
    "snake1 = Snake(name='Sensei', sound='Hiss')\n",
    "\n",
    "snake1.speak()    "
   ]
  },
  {
   "cell_type": "code",
   "execution_count": null,
   "id": "72736dc8-e18a-4205-aa08-75e004a28562",
   "metadata": {},
   "outputs": [
    {
     "name": "stdout",
     "output_type": "stream",
     "text": [
      "Harry Potter\n"
     ]
    }
   ],
   "source": [
    "class Library:\n",
    "    def __init__(self, name):\n",
    "        self.name = name\n",
    "        self.books = []\n",
    "        self.lent_books = []\n",
    "\n",
    "    def addBook(self, book):\n",
    "        self.books.append(book)\n",
    "\n",
    "    def addManyBooks(self, books):\n",
    "        self.books.extend(books)\n",
    "\n",
    "    def displayBooks(self):\n",
    "        for book in self.books:\n",
    "            print(book)\n",
    "\n",
    "    def lendBook(self, title, person):\n",
    "        for book in self.books:\n",
    "            if book.title == title:\n",
    "                if book.title not in self.lent_books:\n",
    "                    person.borrowed_books.append(book)\n",
    "                    self.lent_books.append(book.title)\n",
    "                    return\n",
    "                else:\n",
    "                    print(title + ' is not availabe')\n",
    "                    return\n",
    "        print('There no such book in the library') \n",
    "\n",
    "    def __str__(self):\n",
    "        return str(self.name)\n",
    "\n",
    "\n",
    "class Book:\n",
    "    def __init__(self, title, author):\n",
    "        self.title = title \n",
    "        self.author = author\n",
    "        self.available = True\n",
    "\n",
    "    def __str__(self):\n",
    "        return str(self.title)\n",
    "\n",
    "\n",
    "class Person:\n",
    "    def __init__(self, name):\n",
    "        self.name = name\n",
    "        self.borrowed_books = []\n",
    "\n",
    "    def displayBooks(self):\n",
    "        for book in self.borrowed_books:\n",
    "            print(book)\n",
    "\n",
    "    def __str__(self):\n",
    "        return str(self.name)\n",
    "\n",
    "# our people\n",
    "viola = Person(name='Viola')\n",
    "shafara = Person(name='Shafara')\n",
    "\n",
    "# our books\n",
    "books = [\n",
    "    Book(title='Song of Lawino', author='Danny'),\n",
    "    Book(title='Da Vinci Code', author='Dan Brown'),\n",
    "    Book(title='Harry Potter', author='JK Rowling')\n",
    "] \n",
    "\n",
    "# our libraries\n",
    "city_library = Library(name='City Library')\n",
    "\n",
    "city_library.addManyBooks(books)\n",
    "\n",
    "city_library.lendBook('Harry Potter', viola)\n",
    "\n",
    "city_library.lendBook('Da Vinci Code', shafara)\n",
    "\n",
    "viola.displayBooks()"
   ]
  },
  {
   "cell_type": "markdown",
   "id": "34f3797d-61de-4274-a597-5cca484a7a2a",
   "metadata": {},
   "source": [
    "## Formatted Strings"
   ]
  },
  {
   "cell_type": "code",
   "execution_count": null,
   "id": "9688a898-4f98-4b73-bf0d-fd613183a1d0",
   "metadata": {},
   "outputs": [
    {
     "name": "stdout",
     "output_type": "stream",
     "text": [
      "Juma loves to code in javascript\n"
     ]
    }
   ],
   "source": [
    "# statement = '{} loves to code in {}'\n",
    "\n",
    "# formatted = statement.format('Juma', 'JavaScript')\n",
    "\n",
    "# print(formatted)\n",
    "\n",
    "# name = 'Juma'; language = 'JavaScript'\n",
    "\n",
    "# statement = f'{name} loves to code in {language}'\n",
    "\n",
    "# print(statement)\n",
    "\n",
    "# answer = f'The summation of 5 and 7 is {5 + 7}'\n",
    "\n",
    "# print(answer)\n",
    "\n",
    "# weight_kg = int(input('Enter your weight in kgs: '))\n",
    "# height_m = float(input('Enter your height in m: '))\n",
    "\n",
    "# response = f'Your weight is {\"Normal\" if 18 >= weight_kg / height_m ** 2 >= 24 else \"Not Normal\"}'\n",
    "\n",
    "# print(response)\n",
    "\n",
    "# Using indexes\n",
    "\n",
    "name = 'Juma'\n",
    "language = 'javascript'\n",
    "\n",
    "statement = f'{name} loves to code in {language}'\n",
    "\n",
    "# modified = statement.format(language='JavaScript', name='Juma')\n",
    "\n",
    "print(statement)"
   ]
  },
  {
   "cell_type": "code",
   "execution_count": null,
   "id": "6493d467-d660-40ac-ae2b-cd73f0c1c538",
   "metadata": {},
   "outputs": [
    {
     "name": "stdout",
     "output_type": "stream",
     "text": [
      "You are allowed\n"
     ]
    }
   ],
   "source": [
    "name = 'Viola'\n",
    "fruit = 'banana'\n",
    "expression = 'so much'\n",
    "\n",
    "# # positional formating\n",
    "# statement = '{} loves my {}'.format(name, fruit)\n",
    "\n",
    "# # indexing\n",
    "# statement = '{0} loves my {1}'.format(name, fruit)\n",
    "\n",
    "# # named indexes\n",
    "# statement = '{name} loves my {fruit}'.format(name=name, fruit=fruit)\n",
    "\n",
    "# Formatted string literal\n",
    "# statement = f'{name} loves {expression} my {fruit}'\n",
    "\n",
    "# more examples\n",
    "# number1 = 6\n",
    "# number2 = 9\n",
    "\n",
    "# statement = f'The sum of {number1} and {number2} is {number1 + number2}'\n",
    "\n",
    "# def addNumbers(number1, number2):\n",
    "#     return number1 + number2\n",
    "\n",
    "# statement = f'The sum is {addNumbers(6, 9)}'\n",
    "age = 19\n",
    "statement = f'You are {\"allowed\" if age > 18 else \"not allowed\"}'\n",
    "\n",
    "print(statement)"
   ]
  },
  {
   "cell_type": "markdown",
   "id": "7c7b16f1-0dec-45e9-9de5-3409c17c00ac",
   "metadata": {},
   "source": [
    "## try...except"
   ]
  },
  {
   "cell_type": "code",
   "execution_count": null,
   "id": "ae2c3a2b-5a97-47f0-b04d-4d60a8394fcc",
   "metadata": {},
   "outputs": [
    {
     "name": "stdin",
     "output_type": "stream",
     "text": [
      "Enter your age:  23\n"
     ]
    }
   ],
   "source": [
    "# # try:\n",
    "# #     statements\n",
    "# # except:\n",
    "# #     statements\n",
    "# def dataideaArithmetic(x, y, operation):\n",
    "#     if operation == '+':\n",
    "#         return x + y\n",
    "#     elif operation == '-':\n",
    "#         return x - y\n",
    "#     elif operation == '/':\n",
    "#         return x / y \n",
    "#     else:\n",
    "#         return x * y\n",
    "    \n",
    "\n",
    "# print('''\n",
    "#     DATAIDEA Arithmects:\n",
    "      \n",
    "# Instructions\n",
    "# -------------------------\n",
    "# Enter only two numbers and the operation as +, -, /, x\n",
    "# ''')\n",
    "\n",
    "\n",
    "# number1 = float(input('Enter first number: '))\n",
    "# number2 = float(input('Enter second number: '))\n",
    "# operator = input('Enter the operator: ')\n",
    "\n",
    "\n",
    "# try:\n",
    "#     answer = dataideaArithmetic(number1, number2, operator)\n",
    "#     print(f'{number1}{operator}{number2} = {answer}')\n",
    "# except:\n",
    "#     print('A problem occured while running the operation')\n",
    "# else:\n",
    "#     print('Your code has run successfully!')\n",
    "# finally:\n",
    "#     print('Code execution complete.')\n",
    "\n",
    "# try:\n",
    "#     age = input('Enter your age: ')\n",
    "#     age_integer = int(age)\n",
    "\n",
    "#     if age_integer >= 18:\n",
    "#         print('Your vote has been cast')\n",
    "#     else:\n",
    "#         print('You are not eligible to vote')\n",
    "# except ValueError:\n",
    "#     print('A problem occured while picking your age \\n'\n",
    "#           'You did not enter a number')\n",
    "# else:\n",
    "#     print('Thanks for participating!')\n",
    "\n",
    "# Creating your own errors\n",
    "\n",
    "try: \n",
    "    # age = int(input('Enter your age: '))\n",
    "    age = 19\n",
    "\n",
    "    if age < 18:\n",
    "        raise Exception('Not an adult')\n",
    "except Exception as error:\n",
    "    print('A problem occurred \\n'\n",
    "          f'Error: {error}')\n"
   ]
  },
  {
   "cell_type": "markdown",
   "id": "e59d4729-4403-4020-a74c-634c79239693",
   "metadata": {},
   "source": [
    "## Variable Scope"
   ]
  },
  {
   "cell_type": "code",
   "execution_count": null,
   "id": "331bf8b2-93fc-42dd-95c6-f83e99c6d4e7",
   "metadata": {},
   "outputs": [
    {
     "name": "stdout",
     "output_type": "stream",
     "text": [
      "banana\n"
     ]
    }
   ],
   "source": [
    "# local scope\n",
    "# a variable that is created/defined \n",
    "# inside a function has a local scope\n",
    "\n",
    "# create a fucntion that greats people\n",
    "\n",
    "# - All variable declared outside a function global\n",
    "\n",
    "name = 'Voila'\n",
    "\n",
    "def my_func():\n",
    "    global my_fruit\n",
    "    my_fruit = 'banana'\n",
    "    # print(name + ' loves my ' + my_fruit)\n",
    "\n",
    "my_func()\n",
    "\n",
    "print(my_fruit)"
   ]
  },
  {
   "cell_type": "code",
   "execution_count": null,
   "id": "a2ee1970-f22e-4d5c-9ecf-5b03fbf1a4cd",
   "metadata": {},
   "outputs": [
    {
     "name": "stdout",
     "output_type": "stream",
     "text": [
      "12\n"
     ]
    }
   ],
   "source": [
    "# number = 45 # defined outside a function\n",
    "\n",
    "# # can be accessed here\n",
    "# print(number)\n",
    "\n",
    "# def getSquare():\n",
    "#     # can also be accessed here\n",
    "#     print(number ** 2)\n",
    "\n",
    "# getSquare()\n",
    "\n",
    "# Local Scope\n",
    "\n",
    "# def add():\n",
    "#     number1 = 5\n",
    "#     number2 = 7\n",
    "#     sum = number1 + number2\n",
    "#     return sum\n",
    "\n",
    "# # print(add())\n",
    "# print(sum)\n",
    "\n",
    "\n",
    "# Global Keyword\n",
    "\n",
    "def add():\n",
    "    global summ\n",
    "    number1 = 5\n",
    "    number2 = 7\n",
    "    summ = number1 + number2\n",
    "    return summ\n",
    "\n",
    "add()\n",
    "\n",
    "print(summ)"
   ]
  }
 ],
 "metadata": {
  "kernelspec": {
   "display_name": "python3",
   "language": "python",
   "name": "python3"
  }
 },
 "nbformat": 4,
 "nbformat_minor": 5
}
