{
 "cells": [
  {
   "cell_type": "markdown",
   "id": "db6b1ebe",
   "metadata": {},
   "source": [
    "![Photo by DATAIDEA](../assets/banner4.png)"
   ]
  },
  {
   "cell_type": "markdown",
   "id": "1f8f601e-ee15-402f-9106-cf71c291dc40",
   "metadata": {},
   "source": [
    "## Pytorch Course Outline"
   ]
  },
  {
   "cell_type": "markdown",
   "id": "459fc4f0-dc2b-4e82-a2ac-2e328fab2ca4",
   "metadata": {},
   "source": [
    "### Introduction\n",
    "- **Quickstart**: Overview of PyTorch, and how to get started quickly with installation and basic usage.\n",
    "  \n",
    "- **Tensors**: Introduction to PyTorch tensors, their properties, and basic tensor operations.\n",
    "\n",
    "- **Data**: Handling data in PyTorch, including loading datasets, creating custom datasets.\n",
    "\n",
    "- **Transforms**: Preprocessing and data augmentation techniques using transforms in PyTorch.\n",
    "\n",
    "- **Building Models**: Creating and building neural network models in PyTorch using the nn.Module API.\n",
    "\n",
    "- **Autograd**: Understanding automatic differentiation in PyTorch and how it enables gradient-based optimization.\n",
    "\n",
    "- **Optimization**: Optimization techniques and algorithms for training neural networks.\n",
    "\n",
    "- **Saving, Loading, and Running Models**: Techniques for saving and loading trained models in PyTorch."
   ]
  },
  {
   "cell_type": "markdown",
   "id": "ebc3a70c",
   "metadata": {},
   "source": [
    "## Text\n",
    "\n",
    "- Fast Transformer Inference with Better Transformer\n",
    "- NLP From Scratch: Classifying Names with a Character-Level RNN\n",
    "- NLP From Scratch: Generating Names with a Character-Level RNN\n",
    "- NLP From Scratch: Translation with a Sequence to Sequence Network and Attention\n",
    "- Text classification with the torchtext library\n",
    "- Language Translation with nn.Transformer and torchtext\n",
    "- Preprocess custom text dataset using Torchtext\n"
   ]
  },
  {
   "cell_type": "markdown",
   "id": "3d605965",
   "metadata": {},
   "source": [
    "## Vision\n",
    "\n",
    "- TorchVision Object Detection Finetuning Tutorial\n",
    "- Transfer Learning for Computer Vision Tutorial\n",
    "- Adversarial Example Generation\n",
    "- DCGAN Tutorial\n",
    "- Spatial Transformer Networks Tutorial\n",
    "- Optimizing Vision Transformer Model for Deployment"
   ]
  },
  {
   "cell_type": "markdown",
   "id": "35bbde07",
   "metadata": {},
   "source": [
    "<div class=\"p-3\">\n",
    "<p class=pb-1>\n",
    "Don't miss out on any updates and developments! Subscribe to the DATAIDEA Newsletter it's easy and safe.\n",
    "</p>\n",
    "<iframe src=\"https://embeds.beehiiv.com/5fc7c425-9c7e-4e08-a514-ad6c22beee74?slim=true\" data-test-id=\"beehiiv-embed\" height=\"52\" frameborder=\"0\" scrolling=\"no\" style=\"margin: 0; border-radius: 0px !important; background-color: transparent; width: 100%;\" ></iframe>\n",
    "</div>"
   ]
  }
 ],
 "metadata": {
  "kernelspec": {
   "display_name": "python3",
   "language": "python",
   "name": "python3"
  }
 },
 "nbformat": 4,
 "nbformat_minor": 5
}
